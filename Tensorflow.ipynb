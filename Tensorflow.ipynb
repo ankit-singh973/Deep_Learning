{
  "nbformat": 4,
  "nbformat_minor": 0,
  "metadata": {
    "colab": {
      "provenance": [],
      "authorship_tag": "ABX9TyP2Cxv7SeJnbKPrPmzIBJdo",
      "include_colab_link": true
    },
    "kernelspec": {
      "name": "python3",
      "display_name": "Python 3"
    },
    "language_info": {
      "name": "python"
    }
  },
  "cells": [
    {
      "cell_type": "markdown",
      "metadata": {
        "id": "view-in-github",
        "colab_type": "text"
      },
      "source": [
        "<a href=\"https://colab.research.google.com/github/ankit-singh973/Deep_Learning/blob/main/Tensorflow.ipynb\" target=\"_parent\"><img src=\"https://colab.research.google.com/assets/colab-badge.svg\" alt=\"Open In Colab\"/></a>"
      ]
    },
    {
      "cell_type": "markdown",
      "source": [
        "## **Tensor Constant:😊**"
      ],
      "metadata": {
        "id": "wm8o_kshl9eO"
      }
    },
    {
      "cell_type": "code",
      "source": [
        "import tensorflow as tf"
      ],
      "metadata": {
        "id": "dVA6YXSBmrFG"
      },
      "execution_count": 42,
      "outputs": []
    },
    {
      "cell_type": "code",
      "execution_count": 43,
      "metadata": {
        "colab": {
          "base_uri": "https://localhost:8080/"
        },
        "id": "83pJ0FSuliBw",
        "outputId": "99c2491a-ef15-4736-9adc-5f6459e6be12"
      },
      "outputs": [
        {
          "output_type": "execute_result",
          "data": {
            "text/plain": [
              "<tf.Tensor: shape=(), dtype=int32, numpy=42>"
            ]
          },
          "metadata": {},
          "execution_count": 43
        }
      ],
      "source": [
        "x = tf.constant(42)\n",
        "x"
      ]
    },
    {
      "cell_type": "code",
      "source": [
        "x.numpy()"
      ],
      "metadata": {
        "colab": {
          "base_uri": "https://localhost:8080/"
        },
        "id": "m8RwA7zfmnNg",
        "outputId": "3cfd25ac-49b0-46aa-f3e6-0fb7b1c10613"
      },
      "execution_count": 44,
      "outputs": [
        {
          "output_type": "execute_result",
          "data": {
            "text/plain": [
              "42"
            ]
          },
          "metadata": {},
          "execution_count": 44
        }
      ]
    },
    {
      "cell_type": "code",
      "source": [
        "x = tf.constant(1, dtype=tf.int64)\n",
        "x"
      ],
      "metadata": {
        "colab": {
          "base_uri": "https://localhost:8080/"
        },
        "id": "z7jArodQm5eH",
        "outputId": "6572c9ca-79ae-40cb-b37e-3e37ebb11633"
      },
      "execution_count": 45,
      "outputs": [
        {
          "output_type": "execute_result",
          "data": {
            "text/plain": [
              "<tf.Tensor: shape=(), dtype=int64, numpy=1>"
            ]
          },
          "metadata": {},
          "execution_count": 45
        }
      ]
    },
    {
      "cell_type": "code",
      "source": [
        "x_1 = tf.constant([[4,2], [9,5]])\n",
        "print(x_1)"
      ],
      "metadata": {
        "colab": {
          "base_uri": "https://localhost:8080/"
        },
        "id": "AvJ-bDsAnTWH",
        "outputId": "e00ab616-25e0-4730-8c8c-040f5c25a6ae"
      },
      "execution_count": 46,
      "outputs": [
        {
          "output_type": "stream",
          "name": "stdout",
          "text": [
            "tf.Tensor(\n",
            "[[4 2]\n",
            " [9 5]], shape=(2, 2), dtype=int32)\n"
          ]
        }
      ]
    },
    {
      "cell_type": "code",
      "source": [
        "x_1.numpy()"
      ],
      "metadata": {
        "colab": {
          "base_uri": "https://localhost:8080/"
        },
        "id": "ZIQ3vXSWnupn",
        "outputId": "850bd0dc-98d3-4f3c-8e7f-85de2faf6497"
      },
      "execution_count": 47,
      "outputs": [
        {
          "output_type": "execute_result",
          "data": {
            "text/plain": [
              "array([[4, 2],\n",
              "       [9, 5]], dtype=int32)"
            ]
          },
          "metadata": {},
          "execution_count": 47
        }
      ]
    },
    {
      "cell_type": "code",
      "source": [
        "print('shape:', x_1.shape)"
      ],
      "metadata": {
        "colab": {
          "base_uri": "https://localhost:8080/"
        },
        "id": "Bs8P-8CYnyWe",
        "outputId": "f0b7f97f-edbe-4253-9c36-7d116f924070"
      },
      "execution_count": 48,
      "outputs": [
        {
          "output_type": "stream",
          "name": "stdout",
          "text": [
            "shape: (2, 2)\n"
          ]
        }
      ]
    },
    {
      "cell_type": "markdown",
      "source": [
        "\n",
        "*   Commonly used method is to generate `tf.ones` and `tf.zeros` like of numpy `np.ones` and `np.zeros` .\n",
        "\n"
      ],
      "metadata": {
        "id": "EOHJaZfRoAIp"
      }
    },
    {
      "cell_type": "code",
      "source": [
        "print(tf.ones(shape = (2,3)))\n"
      ],
      "metadata": {
        "colab": {
          "base_uri": "https://localhost:8080/"
        },
        "id": "Xue-nOc7n6Uh",
        "outputId": "36db9d3f-540b-4308-c224-265741eb6e9a"
      },
      "execution_count": 49,
      "outputs": [
        {
          "output_type": "stream",
          "name": "stdout",
          "text": [
            "tf.Tensor(\n",
            "[[1. 1. 1.]\n",
            " [1. 1. 1.]], shape=(2, 3), dtype=float32)\n"
          ]
        }
      ]
    },
    {
      "cell_type": "code",
      "source": [
        "print(tf.zeros(shape = (3,2)))"
      ],
      "metadata": {
        "colab": {
          "base_uri": "https://localhost:8080/"
        },
        "id": "E7MNQpRzoiLz",
        "outputId": "17e88b52-cfe1-42ed-ba14-592faf3f285e"
      },
      "execution_count": 50,
      "outputs": [
        {
          "output_type": "stream",
          "name": "stdout",
          "text": [
            "tf.Tensor(\n",
            "[[0. 0.]\n",
            " [0. 0.]\n",
            " [0. 0.]], shape=(3, 2), dtype=float32)\n"
          ]
        }
      ]
    },
    {
      "cell_type": "code",
      "source": [
        "const1 = tf.constant([[1,2,3], [4,5,6]])\n",
        "const2 = tf.constant([[7,8,9], [14, 25, 36]])\n",
        "result = tf.add(const1, const2)\n",
        "\n",
        "print(result)"
      ],
      "metadata": {
        "colab": {
          "base_uri": "https://localhost:8080/"
        },
        "id": "7U3KIHbVoqSV",
        "outputId": "2615c198-2805-4cf2-a026-8e335f7ae8ef"
      },
      "execution_count": 51,
      "outputs": [
        {
          "output_type": "stream",
          "name": "stdout",
          "text": [
            "tf.Tensor(\n",
            "[[ 8 10 12]\n",
            " [18 30 42]], shape=(2, 3), dtype=int32)\n"
          ]
        }
      ]
    },
    {
      "cell_type": "markdown",
      "source": [
        "## **Random constant**"
      ],
      "metadata": {
        "id": "FeYGmtgmqNwV"
      }
    },
    {
      "cell_type": "code",
      "source": [
        "tf.random.normal(shape = (2,2), mean = 0, stddev = 1.0)"
      ],
      "metadata": {
        "colab": {
          "base_uri": "https://localhost:8080/"
        },
        "id": "DzbLzJLcqDEO",
        "outputId": "91c87542-2140-40a4-b212-08c9ca399927"
      },
      "execution_count": 52,
      "outputs": [
        {
          "output_type": "execute_result",
          "data": {
            "text/plain": [
              "<tf.Tensor: shape=(2, 2), dtype=float32, numpy=\n",
              "array([[-0.08620322,  0.03173339],\n",
              "       [ 2.8092692 ,  0.86657816]], dtype=float32)>"
            ]
          },
          "metadata": {},
          "execution_count": 52
        }
      ]
    },
    {
      "cell_type": "code",
      "source": [
        "tf.random.uniform(shape = (2,2), minval = 0, maxval = 10, dtype = tf.int32)"
      ],
      "metadata": {
        "colab": {
          "base_uri": "https://localhost:8080/"
        },
        "id": "0tBovA1pqaE-",
        "outputId": "cf96e033-07ea-4d16-ba35-3d1659cf071f"
      },
      "execution_count": 53,
      "outputs": [
        {
          "output_type": "execute_result",
          "data": {
            "text/plain": [
              "<tf.Tensor: shape=(2, 2), dtype=int32, numpy=\n",
              "array([[4, 5],\n",
              "       [6, 6]], dtype=int32)>"
            ]
          },
          "metadata": {},
          "execution_count": 53
        }
      ]
    },
    {
      "cell_type": "markdown",
      "source": [
        "## **Variables**\n",
        "\n",
        "\n",
        "*   A variable is a special tensor that is used to store variable values and needs to be initialized with some values.\n",
        "\n"
      ],
      "metadata": {
        "id": "ccv7pIjIqqsW"
      }
    },
    {
      "cell_type": "markdown",
      "source": [
        "### **Declaring Variables**"
      ],
      "metadata": {
        "id": "grq_TNljq9K4"
      }
    },
    {
      "cell_type": "code",
      "source": [
        "var0 = 24  #python variable\n",
        "var1 = tf.Variable(42) # rank 0 tensor\n",
        "var2 = tf.Variable([[0., 1., 2.], [3., 4., 5.], [6., 7., 8.], [9., 10., 11]]) #rank 3 tensor"
      ],
      "metadata": {
        "id": "D8ZtB5gsqmNI"
      },
      "execution_count": 54,
      "outputs": []
    },
    {
      "cell_type": "code",
      "source": [
        " var0, var1, var2"
      ],
      "metadata": {
        "colab": {
          "base_uri": "https://localhost:8080/"
        },
        "id": "r6p3ISPsroQK",
        "outputId": "2d29c816-e08a-4cb3-b9c8-f5215b6d612f"
      },
      "execution_count": 55,
      "outputs": [
        {
          "output_type": "execute_result",
          "data": {
            "text/plain": [
              "(24,\n",
              " <tf.Variable 'Variable:0' shape=() dtype=int32, numpy=42>,\n",
              " <tf.Variable 'Variable:0' shape=(4, 3) dtype=float32, numpy=\n",
              " array([[ 0.,  1.,  2.],\n",
              "        [ 3.,  4.,  5.],\n",
              "        [ 6.,  7.,  8.],\n",
              "        [ 9., 10., 11.]], dtype=float32)>)"
            ]
          },
          "metadata": {},
          "execution_count": 55
        }
      ]
    },
    {
      "cell_type": "markdown",
      "source": [
        "## To reassign a variable use `var.assign()`"
      ],
      "metadata": {
        "id": "kDcaMPjtwszs"
      }
    },
    {
      "cell_type": "code",
      "source": [
        "var4 = tf.Variable(34)\n",
        "var4"
      ],
      "metadata": {
        "colab": {
          "base_uri": "https://localhost:8080/"
        },
        "id": "OuSbN49BrtEh",
        "outputId": "26881419-a7e8-4f69-a762-017e9cede72c"
      },
      "execution_count": 56,
      "outputs": [
        {
          "output_type": "execute_result",
          "data": {
            "text/plain": [
              "<tf.Variable 'Variable:0' shape=() dtype=int32, numpy=34>"
            ]
          },
          "metadata": {},
          "execution_count": 56
        }
      ]
    },
    {
      "cell_type": "code",
      "source": [
        "var4.assign(69)"
      ],
      "metadata": {
        "colab": {
          "base_uri": "https://localhost:8080/"
        },
        "id": "GR0XMSG_w59C",
        "outputId": "1d366780-f1cc-4e9a-e9cf-fe05d4ed5c70"
      },
      "execution_count": 57,
      "outputs": [
        {
          "output_type": "execute_result",
          "data": {
            "text/plain": [
              "<tf.Variable 'UnreadVariable' shape=() dtype=int32, numpy=69>"
            ]
          },
          "metadata": {},
          "execution_count": 57
        }
      ]
    },
    {
      "cell_type": "code",
      "source": [
        "initial_value = tf.random.normal(shape = [2,2])\n",
        "a = tf.Variable(initial_value)\n",
        "print(a)"
      ],
      "metadata": {
        "colab": {
          "base_uri": "https://localhost:8080/"
        },
        "id": "VJkZWB-1w9yY",
        "outputId": "033bfd75-ec7a-4dad-d53d-cb6f96f088c6"
      },
      "execution_count": 58,
      "outputs": [
        {
          "output_type": "stream",
          "name": "stdout",
          "text": [
            "<tf.Variable 'Variable:0' shape=(2, 2) dtype=float32, numpy=\n",
            "array([[-0.39699882, -0.42931756],\n",
            "       [-0.30055663,  1.9346113 ]], dtype=float32)>\n"
          ]
        }
      ]
    },
    {
      "cell_type": "code",
      "source": [
        "new_value = tf.random.normal(shape = (2,2))\n",
        "a.assign(new_value)\n",
        "for i in range(2):\n",
        "  for j in range(2):\n",
        "    assert a[i,j] == new_value[i,j]"
      ],
      "metadata": {
        "id": "pJhSg-24xSkj"
      },
      "execution_count": 59,
      "outputs": []
    },
    {
      "cell_type": "code",
      "source": [
        "added_value = tf.random.normal(shape = (2,2))\n",
        "a.assign_add(added_value)\n",
        "for i in range(2):\n",
        "  for j in range(2):\n",
        "    assert a[i,j] == new_value[i,j] + added_value[i,j]"
      ],
      "metadata": {
        "id": "f7Vj16mR73ND"
      },
      "execution_count": 60,
      "outputs": []
    },
    {
      "cell_type": "code",
      "source": [
        "a"
      ],
      "metadata": {
        "colab": {
          "base_uri": "https://localhost:8080/"
        },
        "id": "a6bZO_cC8bBv",
        "outputId": "f5a05218-a758-400d-c078-436d398c68ca"
      },
      "execution_count": 61,
      "outputs": [
        {
          "output_type": "execute_result",
          "data": {
            "text/plain": [
              "<tf.Variable 'Variable:0' shape=(2, 2) dtype=float32, numpy=\n",
              "array([[ 0.25873977, -2.2399402 ],\n",
              "       [-2.168313  ,  0.42723233]], dtype=float32)>"
            ]
          },
          "metadata": {},
          "execution_count": 61
        }
      ]
    },
    {
      "cell_type": "markdown",
      "source": [
        "## **Shaping a tensor**"
      ],
      "metadata": {
        "id": "MMC5YWyl9kqY"
      }
    },
    {
      "cell_type": "code",
      "source": [
        "tensor = tf.Variable([[[0., 1., 2.], [3., 4., 5.]], [[6., 7., 8.], [9., 10., 11]]]) #tensor variable\n",
        "print(tensor)\n",
        "print(tensor.shape)"
      ],
      "metadata": {
        "colab": {
          "base_uri": "https://localhost:8080/"
        },
        "id": "iPR79PgY9axP",
        "outputId": "6bdbc9c2-dcc8-4c3b-c63f-ecfef5dc2557"
      },
      "execution_count": 62,
      "outputs": [
        {
          "output_type": "stream",
          "name": "stdout",
          "text": [
            "<tf.Variable 'Variable:0' shape=(2, 2, 3) dtype=float32, numpy=\n",
            "array([[[ 0.,  1.,  2.],\n",
            "        [ 3.,  4.,  5.]],\n",
            "\n",
            "       [[ 6.,  7.,  8.],\n",
            "        [ 9., 10., 11.]]], dtype=float32)>\n",
            "(2, 2, 3)\n"
          ]
        }
      ]
    },
    {
      "cell_type": "code",
      "source": [
        "tensor1 = tf.reshape(tensor, [2,6]) # 2 rows & 6 columns\n",
        "tensor2 = tf.reshape(tensor,[1,12]) # 1 rows & 12 columns\n",
        "tensor1"
      ],
      "metadata": {
        "colab": {
          "base_uri": "https://localhost:8080/"
        },
        "id": "i6OnEEvx-Jqu",
        "outputId": "e9a7ec82-1005-4d4e-eb86-6644f9967691"
      },
      "execution_count": 63,
      "outputs": [
        {
          "output_type": "execute_result",
          "data": {
            "text/plain": [
              "<tf.Tensor: shape=(2, 6), dtype=float32, numpy=\n",
              "array([[ 0.,  1.,  2.,  3.,  4.,  5.],\n",
              "       [ 6.,  7.,  8.,  9., 10., 11.]], dtype=float32)>"
            ]
          },
          "metadata": {},
          "execution_count": 63
        }
      ]
    },
    {
      "cell_type": "code",
      "source": [
        "tensor2"
      ],
      "metadata": {
        "colab": {
          "base_uri": "https://localhost:8080/"
        },
        "id": "9He1aAx_-wBL",
        "outputId": "07cd7fcd-7e01-4c63-e3e6-d866d1cf9a9c"
      },
      "execution_count": 64,
      "outputs": [
        {
          "output_type": "execute_result",
          "data": {
            "text/plain": [
              "<tf.Tensor: shape=(1, 12), dtype=float32, numpy=\n",
              "array([[ 0.,  1.,  2.,  3.,  4.,  5.,  6.,  7.,  8.,  9., 10., 11.]],\n",
              "      dtype=float32)>"
            ]
          },
          "metadata": {},
          "execution_count": 64
        }
      ]
    },
    {
      "cell_type": "markdown",
      "source": [
        "## **Ranking (dimension) of a Tensor**\n",
        "\n",
        "\n",
        "-   The rank of a tensor is the number of dimensions it has, that is, the number of indices that are required to specify any particular element of that tensor.\n"
      ],
      "metadata": {
        "id": "kqfCX_D7-z6X"
      }
    },
    {
      "cell_type": "code",
      "source": [
        "tf.rank(tensor)"
      ],
      "metadata": {
        "colab": {
          "base_uri": "https://localhost:8080/"
        },
        "id": "nwTtossD-w32",
        "outputId": "471ca624-b9ed-4007-a4e7-191b31aecb3e"
      },
      "execution_count": 65,
      "outputs": [
        {
          "output_type": "execute_result",
          "data": {
            "text/plain": [
              "<tf.Tensor: shape=(), dtype=int32, numpy=3>"
            ]
          },
          "metadata": {},
          "execution_count": 65
        }
      ]
    },
    {
      "cell_type": "markdown",
      "source": [
        "- the shape is () because the output here is  scalar value."
      ],
      "metadata": {
        "id": "GBgz78U5_cu-"
      }
    },
    {
      "cell_type": "markdown",
      "source": [
        "## **Specifying an element of a tensor**"
      ],
      "metadata": {
        "id": "PsD3cf4Z_shF"
      }
    },
    {
      "cell_type": "code",
      "source": [
        "tensor3 = tensor[1, 1, 2] # slice 1, row 1, column 2\n",
        "tensor3"
      ],
      "metadata": {
        "colab": {
          "base_uri": "https://localhost:8080/"
        },
        "id": "tUvU8Et0_X_J",
        "outputId": "3883e695-1c2b-4dbb-f0b5-93349acae663"
      },
      "execution_count": 66,
      "outputs": [
        {
          "output_type": "execute_result",
          "data": {
            "text/plain": [
              "<tf.Tensor: shape=(), dtype=float32, numpy=11.0>"
            ]
          },
          "metadata": {},
          "execution_count": 66
        }
      ]
    },
    {
      "cell_type": "markdown",
      "source": [
        "## **Casting a tensor to a Numpy/Python variable**"
      ],
      "metadata": {
        "id": "o_7tUd7MAGHI"
      }
    },
    {
      "cell_type": "code",
      "source": [
        "print(tensor.numpy())"
      ],
      "metadata": {
        "colab": {
          "base_uri": "https://localhost:8080/"
        },
        "id": "2wHpzAENAE_j",
        "outputId": "f9f06aa8-e530-44a0-d1f8-caa1e1802ea3"
      },
      "execution_count": 67,
      "outputs": [
        {
          "output_type": "stream",
          "name": "stdout",
          "text": [
            "[[[ 0.  1.  2.]\n",
            "  [ 3.  4.  5.]]\n",
            "\n",
            " [[ 6.  7.  8.]\n",
            "  [ 9. 10. 11.]]]\n"
          ]
        }
      ]
    },
    {
      "cell_type": "code",
      "source": [
        "print(tensor[1,0,2].numpy())"
      ],
      "metadata": {
        "colab": {
          "base_uri": "https://localhost:8080/"
        },
        "id": "-b4Wf6T_AVfS",
        "outputId": "62ba3e50-02c4-4296-9595-9b8deccf7a6e"
      },
      "execution_count": 68,
      "outputs": [
        {
          "output_type": "stream",
          "name": "stdout",
          "text": [
            "8.0\n"
          ]
        }
      ]
    },
    {
      "cell_type": "markdown",
      "source": [
        "## **Finding the size (number of elements) of a tensor**"
      ],
      "metadata": {
        "id": "WqWzD8lFBgvG"
      }
    },
    {
      "cell_type": "code",
      "source": [
        "tf.size(input = tensor)"
      ],
      "metadata": {
        "colab": {
          "base_uri": "https://localhost:8080/"
        },
        "id": "FExe9V40BC5K",
        "outputId": "52ae1732-84d9-41bc-ea21-3ea5bb1c6da8"
      },
      "execution_count": 69,
      "outputs": [
        {
          "output_type": "execute_result",
          "data": {
            "text/plain": [
              "<tf.Tensor: shape=(), dtype=int32, numpy=12>"
            ]
          },
          "metadata": {},
          "execution_count": 69
        }
      ]
    },
    {
      "cell_type": "code",
      "source": [
        "tf.size(input = tensor).numpy()"
      ],
      "metadata": {
        "colab": {
          "base_uri": "https://localhost:8080/"
        },
        "id": "xaoX5yrFBwQG",
        "outputId": "a7d47b59-065e-4555-de1b-7472dc13715b"
      },
      "execution_count": 70,
      "outputs": [
        {
          "output_type": "execute_result",
          "data": {
            "text/plain": [
              "12"
            ]
          },
          "metadata": {},
          "execution_count": 70
        }
      ]
    },
    {
      "cell_type": "code",
      "source": [
        "tensor_size = tf.size(input = tensor).numpy()\n",
        "tensor_size"
      ],
      "metadata": {
        "colab": {
          "base_uri": "https://localhost:8080/"
        },
        "id": "eRtYfgtEBzmG",
        "outputId": "c569e32b-02b6-4af8-b461-2bcf49c11a12"
      },
      "execution_count": 71,
      "outputs": [
        {
          "output_type": "execute_result",
          "data": {
            "text/plain": [
              "12"
            ]
          },
          "metadata": {},
          "execution_count": 71
        }
      ]
    },
    {
      "cell_type": "code",
      "source": [
        "#the data type of a tensor\n",
        "tensor3.dtype"
      ],
      "metadata": {
        "colab": {
          "base_uri": "https://localhost:8080/"
        },
        "id": "-ZFG-yfuB9Z3",
        "outputId": "bb5aa975-c202-4a64-8fcd-6436c384221b"
      },
      "execution_count": 72,
      "outputs": [
        {
          "output_type": "execute_result",
          "data": {
            "text/plain": [
              "tf.float32"
            ]
          },
          "metadata": {},
          "execution_count": 72
        }
      ]
    },
    {
      "cell_type": "markdown",
      "source": [
        "# ***Tensorflow Mathematical operations***\n",
        "\n",
        "- Can be used as numpy for artificial operations. Tensorflow can not execute these operations on the GPU or TPU."
      ],
      "metadata": {
        "id": "Mu56KdJaCJ58"
      }
    },
    {
      "cell_type": "code",
      "source": [
        "a = tf.random.normal(shape = (2,2))\n",
        "b = tf.random.normal(shape = (2,2))\n",
        "c = a+b\n",
        "d = tf.square(c)\n",
        "e = tf.exp(c)\n",
        "print(a)\n",
        "print()\n",
        "print(b)\n",
        "print()\n",
        "print(c)\n",
        "print()\n",
        "print(d)\n",
        "print()\n",
        "print(e)"
      ],
      "metadata": {
        "colab": {
          "base_uri": "https://localhost:8080/"
        },
        "id": "1L9BVJCNCGTs",
        "outputId": "955e20a1-243d-4bf6-d542-9050c68c9ea3"
      },
      "execution_count": 73,
      "outputs": [
        {
          "output_type": "stream",
          "name": "stdout",
          "text": [
            "tf.Tensor(\n",
            "[[ 0.2570485   0.21044247]\n",
            " [-0.51622444  0.24319836]], shape=(2, 2), dtype=float32)\n",
            "\n",
            "tf.Tensor(\n",
            "[[ 0.6272854  -0.435894  ]\n",
            " [-1.60293     0.27810168]], shape=(2, 2), dtype=float32)\n",
            "\n",
            "tf.Tensor(\n",
            "[[ 0.8843339  -0.22545154]\n",
            " [-2.1191545   0.5213001 ]], shape=(2, 2), dtype=float32)\n",
            "\n",
            "tf.Tensor(\n",
            "[[0.78204644 0.0508284 ]\n",
            " [4.4908156  0.27175376]], shape=(2, 2), dtype=float32)\n",
            "\n",
            "tf.Tensor(\n",
            "[[2.421371   0.7981557 ]\n",
            " [0.12013316 1.6842158 ]], shape=(2, 2), dtype=float32)\n"
          ]
        }
      ]
    },
    {
      "cell_type": "code",
      "source": [
        "#multiply\n",
        "tensor*tensor"
      ],
      "metadata": {
        "colab": {
          "base_uri": "https://localhost:8080/"
        },
        "id": "yHoKNKPYDNNS",
        "outputId": "9186a38f-b71e-4c57-bb9b-ac64819deab4"
      },
      "execution_count": 74,
      "outputs": [
        {
          "output_type": "execute_result",
          "data": {
            "text/plain": [
              "<tf.Tensor: shape=(2, 2, 3), dtype=float32, numpy=\n",
              "array([[[  0.,   1.,   4.],\n",
              "        [  9.,  16.,  25.]],\n",
              "\n",
              "       [[ 36.,  49.,  64.],\n",
              "        [ 81., 100., 121.]]], dtype=float32)>"
            ]
          },
          "metadata": {},
          "execution_count": 74
        }
      ]
    },
    {
      "cell_type": "code",
      "source": [
        "# subtract\n",
        "tensor-tensor"
      ],
      "metadata": {
        "colab": {
          "base_uri": "https://localhost:8080/"
        },
        "id": "yp_f3a8xDdpF",
        "outputId": "8582c658-47c3-414a-9fe7-59970e026123"
      },
      "execution_count": 75,
      "outputs": [
        {
          "output_type": "execute_result",
          "data": {
            "text/plain": [
              "<tf.Tensor: shape=(2, 2, 3), dtype=float32, numpy=\n",
              "array([[[0., 0., 0.],\n",
              "        [0., 0., 0.]],\n",
              "\n",
              "       [[0., 0., 0.],\n",
              "        [0., 0., 0.]]], dtype=float32)>"
            ]
          },
          "metadata": {},
          "execution_count": 75
        }
      ]
    },
    {
      "cell_type": "markdown",
      "source": [
        "# **Transpose Matrix multiplication**"
      ],
      "metadata": {
        "id": "VQRXhUpmDo7k"
      }
    },
    {
      "cell_type": "code",
      "source": [
        "matrix_u = tf.constant([[3, 4, 3]])\n",
        "matrix_v = tf.constant([[1, 2, 1]])"
      ],
      "metadata": {
        "id": "UvDL0wvaDf7Y"
      },
      "execution_count": 76,
      "outputs": []
    },
    {
      "cell_type": "code",
      "source": [
        "matrix_u"
      ],
      "metadata": {
        "colab": {
          "base_uri": "https://localhost:8080/"
        },
        "id": "HSmFvNjuD7qk",
        "outputId": "2884fcd8-d467-4ff0-b31d-b7f0833b5461"
      },
      "execution_count": 77,
      "outputs": [
        {
          "output_type": "execute_result",
          "data": {
            "text/plain": [
              "<tf.Tensor: shape=(1, 3), dtype=int32, numpy=array([[3, 4, 3]], dtype=int32)>"
            ]
          },
          "metadata": {},
          "execution_count": 77
        }
      ]
    },
    {
      "cell_type": "code",
      "source": [
        "matrix_v"
      ],
      "metadata": {
        "colab": {
          "base_uri": "https://localhost:8080/"
        },
        "id": "ZHtHa_e2D95u",
        "outputId": "3490b310-31d7-4843-d47d-41c98aec697b"
      },
      "execution_count": 78,
      "outputs": [
        {
          "output_type": "execute_result",
          "data": {
            "text/plain": [
              "<tf.Tensor: shape=(1, 3), dtype=int32, numpy=array([[1, 2, 1]], dtype=int32)>"
            ]
          },
          "metadata": {},
          "execution_count": 78
        }
      ]
    },
    {
      "cell_type": "code",
      "source": [
        "# for matrix multiplication\n",
        "# for multiplication the rows and cols must be same, so, we transpose the 2nd matrix\n",
        "tf.matmul(matrix_u, tf.transpose(a = matrix_v))"
      ],
      "metadata": {
        "colab": {
          "base_uri": "https://localhost:8080/"
        },
        "id": "ignR7zaoD_cW",
        "outputId": "7ac881f5-6269-4759-dc7c-cc05461acfb7"
      },
      "execution_count": 79,
      "outputs": [
        {
          "output_type": "execute_result",
          "data": {
            "text/plain": [
              "<tf.Tensor: shape=(1, 1), dtype=int32, numpy=array([[14]], dtype=int32)>"
            ]
          },
          "metadata": {},
          "execution_count": 79
        }
      ]
    },
    {
      "cell_type": "markdown",
      "source": [
        "## **Casting a Tensor to another(tensor) datatype**"
      ],
      "metadata": {
        "id": "8AcXJioFST4J"
      }
    },
    {
      "cell_type": "code",
      "source": [
        "i = tf.case(tensor1, dtype = tf.int32)\n",
        "i"
      ],
      "metadata": {
        "id": "FilFCHDjE5mT",
        "colab": {
          "base_uri": "https://localhost:8080/",
          "height": 338
        },
        "outputId": "ebab1fc1-9d31-46aa-fc1f-d86aa85c4c63"
      },
      "execution_count": 85,
      "outputs": [
        {
          "output_type": "error",
          "ename": "TypeError",
          "evalue": "ignored",
          "traceback": [
            "\u001b[0;31m---------------------------------------------------------------------------\u001b[0m",
            "\u001b[0;31mTypeError\u001b[0m                                 Traceback (most recent call last)",
            "\u001b[0;32m<ipython-input-85-d4ae54b1ad7d>\u001b[0m in \u001b[0;36m<cell line: 1>\u001b[0;34m()\u001b[0m\n\u001b[0;32m----> 1\u001b[0;31m \u001b[0mi\u001b[0m \u001b[0;34m=\u001b[0m \u001b[0mtf\u001b[0m\u001b[0;34m.\u001b[0m\u001b[0mcase\u001b[0m\u001b[0;34m(\u001b[0m\u001b[0mtensor1\u001b[0m\u001b[0;34m,\u001b[0m \u001b[0mdtype\u001b[0m \u001b[0;34m=\u001b[0m \u001b[0mtf\u001b[0m\u001b[0;34m.\u001b[0m\u001b[0mint32\u001b[0m\u001b[0;34m)\u001b[0m\u001b[0;34m\u001b[0m\u001b[0;34m\u001b[0m\u001b[0m\n\u001b[0m\u001b[1;32m      2\u001b[0m \u001b[0mi\u001b[0m\u001b[0;34m\u001b[0m\u001b[0;34m\u001b[0m\u001b[0m\n",
            "\u001b[0;32m/usr/local/lib/python3.10/dist-packages/tensorflow/python/util/traceback_utils.py\u001b[0m in \u001b[0;36merror_handler\u001b[0;34m(*args, **kwargs)\u001b[0m\n\u001b[1;32m    151\u001b[0m     \u001b[0;32mexcept\u001b[0m \u001b[0mException\u001b[0m \u001b[0;32mas\u001b[0m \u001b[0me\u001b[0m\u001b[0;34m:\u001b[0m\u001b[0;34m\u001b[0m\u001b[0;34m\u001b[0m\u001b[0m\n\u001b[1;32m    152\u001b[0m       \u001b[0mfiltered_tb\u001b[0m \u001b[0;34m=\u001b[0m \u001b[0m_process_traceback_frames\u001b[0m\u001b[0;34m(\u001b[0m\u001b[0me\u001b[0m\u001b[0;34m.\u001b[0m\u001b[0m__traceback__\u001b[0m\u001b[0;34m)\u001b[0m\u001b[0;34m\u001b[0m\u001b[0;34m\u001b[0m\u001b[0m\n\u001b[0;32m--> 153\u001b[0;31m       \u001b[0;32mraise\u001b[0m \u001b[0me\u001b[0m\u001b[0;34m.\u001b[0m\u001b[0mwith_traceback\u001b[0m\u001b[0;34m(\u001b[0m\u001b[0mfiltered_tb\u001b[0m\u001b[0;34m)\u001b[0m \u001b[0;32mfrom\u001b[0m \u001b[0;32mNone\u001b[0m\u001b[0;34m\u001b[0m\u001b[0;34m\u001b[0m\u001b[0m\n\u001b[0m\u001b[1;32m    154\u001b[0m     \u001b[0;32mfinally\u001b[0m\u001b[0;34m:\u001b[0m\u001b[0;34m\u001b[0m\u001b[0;34m\u001b[0m\u001b[0m\n\u001b[1;32m    155\u001b[0m       \u001b[0;32mdel\u001b[0m \u001b[0mfiltered_tb\u001b[0m\u001b[0;34m\u001b[0m\u001b[0;34m\u001b[0m\u001b[0m\n",
            "\u001b[0;32m/usr/local/lib/python3.10/dist-packages/tensorflow/python/util/dispatch.py\u001b[0m in \u001b[0;36mop_dispatch_handler\u001b[0;34m(*args, **kwargs)\u001b[0m\n\u001b[1;32m   1168\u001b[0m         \u001b[0;32mif\u001b[0m \u001b[0miterable_params\u001b[0m \u001b[0;32mis\u001b[0m \u001b[0;32mnot\u001b[0m \u001b[0;32mNone\u001b[0m\u001b[0;34m:\u001b[0m\u001b[0;34m\u001b[0m\u001b[0;34m\u001b[0m\u001b[0m\n\u001b[1;32m   1169\u001b[0m           \u001b[0margs\u001b[0m\u001b[0;34m,\u001b[0m \u001b[0mkwargs\u001b[0m \u001b[0;34m=\u001b[0m \u001b[0mreplace_iterable_params\u001b[0m\u001b[0;34m(\u001b[0m\u001b[0margs\u001b[0m\u001b[0;34m,\u001b[0m \u001b[0mkwargs\u001b[0m\u001b[0;34m,\u001b[0m \u001b[0miterable_params\u001b[0m\u001b[0;34m)\u001b[0m\u001b[0;34m\u001b[0m\u001b[0;34m\u001b[0m\u001b[0m\n\u001b[0;32m-> 1170\u001b[0;31m         \u001b[0mresult\u001b[0m \u001b[0;34m=\u001b[0m \u001b[0mapi_dispatcher\u001b[0m\u001b[0;34m.\u001b[0m\u001b[0mDispatch\u001b[0m\u001b[0;34m(\u001b[0m\u001b[0margs\u001b[0m\u001b[0;34m,\u001b[0m \u001b[0mkwargs\u001b[0m\u001b[0;34m)\u001b[0m\u001b[0;34m\u001b[0m\u001b[0;34m\u001b[0m\u001b[0m\n\u001b[0m\u001b[1;32m   1171\u001b[0m         \u001b[0;32mif\u001b[0m \u001b[0mresult\u001b[0m \u001b[0;32mis\u001b[0m \u001b[0;32mnot\u001b[0m \u001b[0mNotImplemented\u001b[0m\u001b[0;34m:\u001b[0m\u001b[0;34m\u001b[0m\u001b[0;34m\u001b[0m\u001b[0m\n\u001b[1;32m   1172\u001b[0m           \u001b[0;32mreturn\u001b[0m \u001b[0mresult\u001b[0m\u001b[0;34m\u001b[0m\u001b[0;34m\u001b[0m\u001b[0m\n",
            "\u001b[0;31mTypeError\u001b[0m: Got an unexpected keyword argument 'dtype'"
          ]
        }
      ]
    },
    {
      "cell_type": "markdown",
      "source": [
        "## **Declaring ragged Tensors**\n",
        "\n",
        "* A ragged tensor is a tensor with one or more ragged dimensions. Ragged dimensions are dimensions that have slices that may have different lengths.\n",
        "* There are a variety of methods for declaring ragged arrays, the simplest being a constant ragged array.\n",
        "\n"
      ],
      "metadata": {
        "id": "Cpp0gCFXU8qr"
      }
    },
    {
      "cell_type": "markdown",
      "source": [
        "The following example shows how to declare a constant ragged array and the lengths of the individual slices:"
      ],
      "metadata": {
        "id": "irqEAbYwV6rL"
      }
    },
    {
      "cell_type": "code",
      "source": [
        "ragged = tf.ragged.constant([[5, 2, 6, 1], [], [4, 10, 7], [8], [6,7]])\n",
        "\n",
        "print(ragged)\n",
        "print(ragged[0, 1])\n",
        "print(ragged[1, :])\n",
        "print(ragged[2, :])\n",
        "print(ragged[3, :])\n",
        "print(ragged[4, :])\n"
      ],
      "metadata": {
        "colab": {
          "base_uri": "https://localhost:8080/"
        },
        "id": "qCfWMHdVTcGE",
        "outputId": "b50559f3-057d-4a38-a354-4ddd2a500be9"
      },
      "execution_count": 86,
      "outputs": [
        {
          "output_type": "stream",
          "name": "stdout",
          "text": [
            "<tf.RaggedTensor [[5, 2, 6, 1], [], [4, 10, 7], [8], [6, 7]]>\n",
            "tf.Tensor(2, shape=(), dtype=int32)\n",
            "tf.Tensor([], shape=(0,), dtype=int32)\n",
            "tf.Tensor([ 4 10  7], shape=(3,), dtype=int32)\n",
            "tf.Tensor([8], shape=(1,), dtype=int32)\n",
            "tf.Tensor([6 7], shape=(2,), dtype=int32)\n"
          ]
        }
      ]
    },
    {
      "cell_type": "markdown",
      "source": [
        "### **Finding squared difference between two tensors**"
      ],
      "metadata": {
        "id": "FRoXDTPlYiVF"
      }
    },
    {
      "cell_type": "code",
      "source": [
        "varx = [1, 3, 5, 7, 11]\n",
        "vary = 5\n",
        "varz = tf.math.squared_difference(varx, vary)\n",
        "print(varz)"
      ],
      "metadata": {
        "colab": {
          "base_uri": "https://localhost:8080/"
        },
        "id": "b3y3zSKAXwsO",
        "outputId": "8d0ec825-d1ad-427d-d5fd-92d809e9486c"
      },
      "execution_count": 87,
      "outputs": [
        {
          "output_type": "stream",
          "name": "stdout",
          "text": [
            "tf.Tensor([16  4  0  4 36], shape=(5,), dtype=int32)\n"
          ]
        }
      ]
    },
    {
      "cell_type": "markdown",
      "source": [
        "## **Finding the Mean**\n",
        "* the following is the signature of `tf.reduce_mean()`"
      ],
      "metadata": {
        "id": "Ddw7uURtZaX-"
      }
    },
    {
      "cell_type": "code",
      "source": [
        "#Defining a constant\n",
        "numbers = tf.constant([[4., 5.], [7., 3.]])"
      ],
      "metadata": {
        "id": "xS6kT7fdZJHC"
      },
      "execution_count": 88,
      "outputs": []
    },
    {
      "cell_type": "code",
      "source": [
        "#find the mean across all axis\n",
        "tf.reduce_mean(input_tensor = numbers)"
      ],
      "metadata": {
        "colab": {
          "base_uri": "https://localhost:8080/"
        },
        "id": "JgrLIrDNZ-MD",
        "outputId": "c7c41e7b-b5d2-476c-d580-fc164e75975b"
      },
      "execution_count": 89,
      "outputs": [
        {
          "output_type": "execute_result",
          "data": {
            "text/plain": [
              "<tf.Tensor: shape=(), dtype=float32, numpy=4.75>"
            ]
          },
          "metadata": {},
          "execution_count": 89
        }
      ]
    },
    {
      "cell_type": "code",
      "source": [
        "#find the mean across columns i.e reduce rows\n",
        "tf.reduce_mean(input_tensor = numbers, axis = 0)\n"
      ],
      "metadata": {
        "colab": {
          "base_uri": "https://localhost:8080/"
        },
        "id": "F0Er-X0xaJdl",
        "outputId": "ead7d93c-d9d6-4f9d-a059-b4c109cfebeb"
      },
      "execution_count": 90,
      "outputs": [
        {
          "output_type": "execute_result",
          "data": {
            "text/plain": [
              "<tf.Tensor: shape=(2,), dtype=float32, numpy=array([5.5, 4. ], dtype=float32)>"
            ]
          },
          "metadata": {},
          "execution_count": 90
        }
      ]
    },
    {
      "cell_type": "markdown",
      "source": [
        "### When keepdims is True, the reduced axis is retained with a length of 1:"
      ],
      "metadata": {
        "id": "mfoirVnmakEL"
      }
    },
    {
      "cell_type": "code",
      "source": [
        "tf.reduce_mean(input_tensor = numbers, axis = 0, keepdims = True)"
      ],
      "metadata": {
        "colab": {
          "base_uri": "https://localhost:8080/"
        },
        "id": "-FktHwFwaccs",
        "outputId": "50f7145b-c510-4eb5-cd92-47a68b8dbe41"
      },
      "execution_count": 91,
      "outputs": [
        {
          "output_type": "execute_result",
          "data": {
            "text/plain": [
              "<tf.Tensor: shape=(1, 2), dtype=float32, numpy=array([[5.5, 4. ]], dtype=float32)>"
            ]
          },
          "metadata": {},
          "execution_count": 91
        }
      ]
    },
    {
      "cell_type": "markdown",
      "source": [
        "### Find mean across the rows"
      ],
      "metadata": {
        "id": "Sogp2zHHa95I"
      }
    },
    {
      "cell_type": "code",
      "source": [
        "tf.reduce_mean(input_tensor = numbers, axis = 1 )"
      ],
      "metadata": {
        "colab": {
          "base_uri": "https://localhost:8080/"
        },
        "id": "PK-XCdVKa6rK",
        "outputId": "6c5b2490-f690-40d1-bde7-efcbfdc68b45"
      },
      "execution_count": 92,
      "outputs": [
        {
          "output_type": "execute_result",
          "data": {
            "text/plain": [
              "<tf.Tensor: shape=(2,), dtype=float32, numpy=array([4.5, 5. ], dtype=float32)>"
            ]
          },
          "metadata": {},
          "execution_count": 92
        }
      ]
    },
    {
      "cell_type": "code",
      "source": [
        "tf.reduce_mean(input_tensor = numbers, axis = 1, keepdims = True)"
      ],
      "metadata": {
        "colab": {
          "base_uri": "https://localhost:8080/"
        },
        "id": "L45oON8ybTR9",
        "outputId": "9acd339d-bfbb-4f7a-93a9-edd0c9601f3c"
      },
      "execution_count": 93,
      "outputs": [
        {
          "output_type": "execute_result",
          "data": {
            "text/plain": [
              "<tf.Tensor: shape=(2, 1), dtype=float32, numpy=\n",
              "array([[4.5],\n",
              "       [5. ]], dtype=float32)>"
            ]
          },
          "metadata": {},
          "execution_count": 93
        }
      ]
    },
    {
      "cell_type": "markdown",
      "source": [
        "## **Generating tensors filled with random values**"
      ],
      "metadata": {
        "id": "w-fWIjNdbZyj"
      }
    },
    {
      "cell_type": "markdown",
      "source": [
        "- using `tf.random.normal()`"
      ],
      "metadata": {
        "id": "GHsbmTdrfOpT"
      }
    },
    {
      "cell_type": "code",
      "source": [
        "ran = tf.random.normal(shape = (3,2), mean = 10.0, stddev = 2.0)\n",
        "print(ran)"
      ],
      "metadata": {
        "colab": {
          "base_uri": "https://localhost:8080/"
        },
        "id": "yneGSso4bWdT",
        "outputId": "f51b3171-17a5-4aca-d59d-a6c70553d274"
      },
      "execution_count": 94,
      "outputs": [
        {
          "output_type": "stream",
          "name": "stdout",
          "text": [
            "tf.Tensor(\n",
            "[[8.931407  9.751701 ]\n",
            " [6.5773287 8.568776 ]\n",
            " [9.742659  7.8281083]], shape=(3, 2), dtype=float32)\n"
          ]
        }
      ]
    },
    {
      "cell_type": "code",
      "source": [
        "tf.random.normal(shape = (3,2), mean = 10, stddev = 2, dtype = tf.float32, seed = None, name = None)"
      ],
      "metadata": {
        "colab": {
          "base_uri": "https://localhost:8080/"
        },
        "id": "dr_giFXys2oL",
        "outputId": "75ab39fa-8f6f-41ca-9d79-b37bbc1ad227"
      },
      "execution_count": 95,
      "outputs": [
        {
          "output_type": "execute_result",
          "data": {
            "text/plain": [
              "<tf.Tensor: shape=(3, 2), dtype=float32, numpy=\n",
              "array([[ 9.359456 ,  6.120927 ],\n",
              "       [11.6435375, 10.051438 ],\n",
              "       [12.208949 ,  8.791538 ]], dtype=float32)>"
            ]
          },
          "metadata": {},
          "execution_count": 95
        }
      ]
    },
    {
      "cell_type": "markdown",
      "source": [
        "### Using `tf.random.uniform()`"
      ],
      "metadata": {
        "id": "MO3wxaeetCsl"
      }
    },
    {
      "cell_type": "code",
      "source": [
        "tf.random.uniform(shape = (2,4), minval = 0, maxval = None, dtype = tf.float32, seed = None, name = None)"
      ],
      "metadata": {
        "colab": {
          "base_uri": "https://localhost:8080/"
        },
        "id": "aX5lwAUjs-yG",
        "outputId": "c1de9023-8087-40db-c06a-f6ae4c3017f8"
      },
      "execution_count": 96,
      "outputs": [
        {
          "output_type": "execute_result",
          "data": {
            "text/plain": [
              "<tf.Tensor: shape=(2, 4), dtype=float32, numpy=\n",
              "array([[0.6251657 , 0.23655677, 0.20135999, 0.5867282 ],\n",
              "       [0.5490941 , 0.76529396, 0.9623883 , 0.7309669 ]], dtype=float32)>"
            ]
          },
          "metadata": {},
          "execution_count": 96
        }
      ]
    },
    {
      "cell_type": "markdown",
      "source": [
        "## **Setting seed**"
      ],
      "metadata": {
        "id": "_1GM9ilNtmF6"
      }
    },
    {
      "cell_type": "code",
      "source": [
        "tf.random.set_seed(11)\n",
        "ran1 = tf.random.uniform(shape = (2,2), maxval = 10, dtype = tf.int32)\n",
        "ran2 = tf.random.uniform(shape = (2,2), maxval = 10, dtype = tf.int32)\n",
        "print(ran1)\n",
        "print(ran2)"
      ],
      "metadata": {
        "colab": {
          "base_uri": "https://localhost:8080/"
        },
        "id": "X5B4dkodtiS3",
        "outputId": "0b63a89c-cd88-498a-9dff-3b130c5309d1"
      },
      "execution_count": 97,
      "outputs": [
        {
          "output_type": "stream",
          "name": "stdout",
          "text": [
            "tf.Tensor(\n",
            "[[4 6]\n",
            " [5 2]], shape=(2, 2), dtype=int32)\n",
            "tf.Tensor(\n",
            "[[9 7]\n",
            " [9 4]], shape=(2, 2), dtype=int32)\n"
          ]
        }
      ]
    },
    {
      "cell_type": "markdown",
      "source": [
        "## Practical example of Random values using Dices"
      ],
      "metadata": {
        "id": "p79jUQpzu-TL"
      }
    },
    {
      "cell_type": "code",
      "source": [
        "dice1 = tf.Variable(tf.random.uniform([10,1], minval = 1, maxval = 7, dtype = tf.int32))\n",
        "dice2 = tf.Variable(tf.random.uniform([10,1], minval = 1, maxval = 7, dtype = tf.int32))\n",
        "\n",
        "#we can add dice1 and dice2 since they share the same and size.\n",
        "dice_sum = dice1 + dice2\n",
        "\n",
        "#we've got three separate 10x1 matrices. To produce a single 10x3 matrix, we'll concatenate them along dimension 1.\n",
        "resulting_matrix = tf.concat(values = [dice1, dice2, dice_sum], axis = 1)\n",
        "print(resulting_matrix)"
      ],
      "metadata": {
        "colab": {
          "base_uri": "https://localhost:8080/"
        },
        "id": "Ni-bNDYSu45h",
        "outputId": "49405495-dd6c-47d2-9f35-fff11d6e5cf7"
      },
      "execution_count": 98,
      "outputs": [
        {
          "output_type": "stream",
          "name": "stdout",
          "text": [
            "tf.Tensor(\n",
            "[[ 5  5 10]\n",
            " [ 4  3  7]\n",
            " [ 5  3  8]\n",
            " [ 3  3  6]\n",
            " [ 1  4  5]\n",
            " [ 4  1  5]\n",
            " [ 5  1  6]\n",
            " [ 6  4 10]\n",
            " [ 3  3  6]\n",
            " [ 2  3  5]], shape=(10, 3), dtype=int32)\n"
          ]
        }
      ]
    },
    {
      "cell_type": "markdown",
      "source": [
        "### Finding indices of the largest and smallest values\n",
        "\n",
        "* To find maximum value\n",
        "  - `tf.argmax(input, axis=None, name=None, output_type= tf.int64)`\n",
        "* To find minimum value\n",
        "  - `tf.argmin(input, axis=None, name=None, output_type= tf.int64)`\n"
      ],
      "metadata": {
        "id": "7idtqH3cwUox"
      }
    },
    {
      "cell_type": "code",
      "source": [
        "# 1-D tensor\n",
        "t5 = tf.constant([2, 11, 5, 42, 7, 19, -6, -11, 29])\n",
        "print(t5)\n",
        "\n",
        "i = tf.argmax(input = t5)\n",
        "print(\"index of max: \", i)\n",
        "print(\"max element: \", t5[i].numpy())\n",
        "print()\n",
        "\n",
        "i = tf.argmin(input = t5)\n",
        "print(\"index of min: \", i)\n",
        "print(\"min element: \", t5[i].numpy())"
      ],
      "metadata": {
        "colab": {
          "base_uri": "https://localhost:8080/"
        },
        "id": "lf2zaExFwQn0",
        "outputId": "3b9003dd-2304-46b9-b037-a0a255d73d7b"
      },
      "execution_count": 101,
      "outputs": [
        {
          "output_type": "stream",
          "name": "stdout",
          "text": [
            "tf.Tensor([  2  11   5  42   7  19  -6 -11  29], shape=(9,), dtype=int32)\n",
            "index of max:  tf.Tensor(3, shape=(), dtype=int64)\n",
            "max element:  42\n",
            "\n",
            "index of min:  tf.Tensor(7, shape=(), dtype=int64)\n",
            "min element:  -11\n"
          ]
        }
      ]
    },
    {
      "cell_type": "code",
      "source": [
        "# for 2-D tensor\n",
        "\n",
        "t6 = tf.reshape(t5, [3,3])\n",
        "print(t6)\n",
        "\n",
        "print()\n",
        "\n",
        "i = tf.argmax(input = t6, axis = 0).numpy() #max arg down row\n",
        "print(\"indices of max down rows: \", i)\n",
        "\n",
        "print()\n",
        "\n",
        "i = tf.argmin(input = t6, axis = 0).numpy() #min arg down row\n",
        "print(\"indices of min down rows: \", i)\n",
        "\n",
        "print()\n",
        "\n",
        "i = tf.argmax(input = t6, axis = 1 ).numpy() #max arg across column\n",
        "print(\"indices of max across column: \", i)\n",
        "\n",
        "print()\n",
        "\n",
        "i = tf.argmin(input = t6, axis = 1 ).numpy() #min arg across column\n",
        "print(\"indices of min across column: \", i)\n"
      ],
      "metadata": {
        "colab": {
          "base_uri": "https://localhost:8080/"
        },
        "id": "FZgqBSs-yUcZ",
        "outputId": "ffa10bba-a87c-41fc-fe57-33c21aeb833c"
      },
      "execution_count": 106,
      "outputs": [
        {
          "output_type": "stream",
          "name": "stdout",
          "text": [
            "tf.Tensor(\n",
            "[[  2  11   5]\n",
            " [ 42   7  19]\n",
            " [ -6 -11  29]], shape=(3, 3), dtype=int32)\n",
            "\n",
            "indices of max down rows:  [1 0 2]\n",
            "\n",
            "indices of min down rows:  [2 2 0]\n",
            "\n",
            "indices of max across column:  [1 0 2]\n",
            "\n",
            "indices of min across column:  [0 1 1]\n"
          ]
        }
      ]
    },
    {
      "cell_type": "markdown",
      "source": [
        "## **Saving and restoring Tensor values using a checkpoint**"
      ],
      "metadata": {
        "id": "TcqGGKta1xHW"
      }
    },
    {
      "cell_type": "code",
      "source": [
        "variable = tf.Variable([[1, 3, 5, 7], [11, 13, 17, 19]])\n",
        "checkpoint = tf.train.Checkpoint(var = variable)\n",
        "save_path = checkpoint.save('./vars')\n",
        "variable.assign([[0, 0, 0, 0], [0, 0, 0, 0]])\n",
        "variable\n",
        "checkpoint.restore(save_path)\n",
        "print(variable)"
      ],
      "metadata": {
        "colab": {
          "base_uri": "https://localhost:8080/"
        },
        "id": "qBP6j8FGzNXB",
        "outputId": "acea0a55-ef57-465b-8713-fa9a1fcc303d"
      },
      "execution_count": 107,
      "outputs": [
        {
          "output_type": "stream",
          "name": "stdout",
          "text": [
            "<tf.Variable 'Variable:0' shape=(2, 4) dtype=int32, numpy=\n",
            "array([[ 1,  3,  5,  7],\n",
            "       [11, 13, 17, 19]], dtype=int32)>\n"
          ]
        }
      ]
    },
    {
      "cell_type": "markdown",
      "source": [
        "## **Using `tf.function()`**\n",
        "\n",
        "- `tf.function()` is a function that will take a Python function and return a Tensorflow grap.\n",
        "- The advantage of this is that graphs can apply optimizations and exploit parallelism in the Python function (func).\n",
        "\n",
        "\n",
        "`tf.function(func = None, input_signature = None, autograph = True, experimental_autograph_options = None)`"
      ],
      "metadata": {
        "id": "uWakd6M74b0V"
      }
    },
    {
      "cell_type": "code",
      "source": [
        "def f1(x,y):\n",
        "  return tf.reduce_mean(input_tensor = tf.multiply(x**2,5)+y**2)\n",
        "\n",
        "f2 = tf.function(f1)\n",
        "x = tf.constant([4., -5.])\n",
        "y = tf.constant([2., 3.])\n",
        "\n",
        "# f1 and f2 return the same value, but f2 execute as a Tensorflow graph\n",
        "assert f1(x,y).numpy() == f2(x,y).numpy()\n",
        "#The assert passes, so there is no output"
      ],
      "metadata": {
        "id": "P0xS3Nag2iZB"
      },
      "execution_count": 109,
      "outputs": []
    },
    {
      "cell_type": "code",
      "source": [],
      "metadata": {
        "id": "bQH-3qAi6JDa"
      },
      "execution_count": null,
      "outputs": []
    },
    {
      "cell_type": "markdown",
      "source": [
        "## **Calculate the gradient**"
      ],
      "metadata": {
        "id": "GlAYeAhA6Vwp"
      }
    },
    {
      "cell_type": "markdown",
      "source": [
        "### Gradient Tape"
      ],
      "metadata": {
        "id": "khZ7M6r-6b2h"
      }
    },
    {
      "cell_type": "code",
      "source": [
        "a = tf.random.normal(shape = (2,2))\n",
        "b = tf.random.normal(shape = (2,2))\n",
        "\n",
        "#it will return differential of c w.r.t a\n",
        "with tf.GradientTape() as tape:\n",
        "  tape.watch(a)\n",
        "  c = tf.sqrt(tf.square(a) + tf.square(b))\n",
        "  dc_da = tape.gradient(c,a) #differential of c w.r.t a\n",
        "  print(dc_da)"
      ],
      "metadata": {
        "colab": {
          "base_uri": "https://localhost:8080/"
        },
        "id": "Bx8z0cC06aNR",
        "outputId": "116edb1a-d2d9-4d24-9cfd-d68d03d70806"
      },
      "execution_count": 111,
      "outputs": [
        {
          "output_type": "stream",
          "name": "stdout",
          "text": [
            "tf.Tensor(\n",
            "[[-0.1684204 -0.5020665]\n",
            " [ 0.9471321  0.5898169]], shape=(2, 2), dtype=float32)\n"
          ]
        }
      ]
    },
    {
      "cell_type": "markdown",
      "source": [
        "- ###  *for variables, the calculation is tracked by default and used to find the gradient, so do use `tape.watch()`*"
      ],
      "metadata": {
        "id": "sizUSXse8WZg"
      }
    },
    {
      "cell_type": "code",
      "source": [
        "a = tf.Variable(a)\n",
        "with tf.GradientTape() as tape:\n",
        "  c = tf.sqrt(tf.square(a)+ tf.square(b))\n",
        "  dc_da = tape.gradient(c,a)\n",
        "  print(dc_da)"
      ],
      "metadata": {
        "colab": {
          "base_uri": "https://localhost:8080/"
        },
        "id": "k1rcOGi47Lrx",
        "outputId": "7985e055-4f62-438a-a2b8-01b3397e6227"
      },
      "execution_count": 112,
      "outputs": [
        {
          "output_type": "stream",
          "name": "stdout",
          "text": [
            "tf.Tensor(\n",
            "[[-0.1684204 -0.5020665]\n",
            " [ 0.9471321  0.5898169]], shape=(2, 2), dtype=float32)\n"
          ]
        }
      ]
    },
    {
      "cell_type": "markdown",
      "source": [
        "### **You can GradientTapefind higher order derivatives by opening a few more:**"
      ],
      "metadata": {
        "id": "HBRsI7kQ9o85"
      }
    },
    {
      "cell_type": "code",
      "source": [
        "with tf.GradientTape() as outer_tape:\n",
        "  with tf.GradientTape() as tape:\n",
        "    c = tf.sqrt(tf.square(a) + tf.square(b))\n",
        "\n",
        "# differentiation of c w.r.t a\n",
        "    dc_da = tape.gradient(c,a) #first differentiation\n",
        "\n",
        "# differentiation of dc_da w.r.t a\n",
        "  d2c_d2a = outer_tape.gradient(dc_da, a) # second differentiation\n",
        "  print(d2c_d2a)"
      ],
      "metadata": {
        "colab": {
          "base_uri": "https://localhost:8080/"
        },
        "id": "dmpBYXUp9Is5",
        "outputId": "056008a1-256c-4feb-8b32-ec91408d8eff"
      },
      "execution_count": 113,
      "outputs": [
        {
          "output_type": "stream",
          "name": "stdout",
          "text": [
            "tf.Tensor(\n",
            "[[0.57568985 0.7655419 ]\n",
            " [0.12753117 0.9209411 ]], shape=(2, 2), dtype=float32)\n"
          ]
        }
      ]
    },
    {
      "cell_type": "code",
      "source": [],
      "metadata": {
        "id": "72qQTPs0_AQy"
      },
      "execution_count": null,
      "outputs": []
    }
  ]
}