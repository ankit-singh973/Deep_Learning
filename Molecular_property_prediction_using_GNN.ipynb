{
  "nbformat": 4,
  "nbformat_minor": 0,
  "metadata": {
    "colab": {
      "provenance": [],
      "authorship_tag": "ABX9TyNtRhjD/VzKYMmSFBD8i2jh",
      "include_colab_link": true
    },
    "kernelspec": {
      "name": "python3",
      "display_name": "Python 3"
    },
    "language_info": {
      "name": "python"
    },
    "accelerator": "TPU",
    "widgets": {
      "application/vnd.jupyter.widget-state+json": {
        "70a2d919d52240509c6ab167dbe56d2b": {
          "model_module": "@jupyter-widgets/controls",
          "model_name": "HBoxModel",
          "model_module_version": "1.5.0",
          "state": {
            "_dom_classes": [],
            "_model_module": "@jupyter-widgets/controls",
            "_model_module_version": "1.5.0",
            "_model_name": "HBoxModel",
            "_view_count": null,
            "_view_module": "@jupyter-widgets/controls",
            "_view_module_version": "1.5.0",
            "_view_name": "HBoxView",
            "box_style": "",
            "children": [
              "IPY_MODEL_c3d1ff0c711145d7ba6b24e30c46af56",
              "IPY_MODEL_f72cc08e1bc14b52b415b869b435153c",
              "IPY_MODEL_4bad0a924a4544938f1db7daa5c72266"
            ],
            "layout": "IPY_MODEL_41fc97c5d5514e359f3db6ce1a266a9b"
          }
        },
        "c3d1ff0c711145d7ba6b24e30c46af56": {
          "model_module": "@jupyter-widgets/controls",
          "model_name": "HTMLModel",
          "model_module_version": "1.5.0",
          "state": {
            "_dom_classes": [],
            "_model_module": "@jupyter-widgets/controls",
            "_model_module_version": "1.5.0",
            "_model_name": "HTMLModel",
            "_view_count": null,
            "_view_module": "@jupyter-widgets/controls",
            "_view_module_version": "1.5.0",
            "_view_name": "HTMLView",
            "description": "",
            "description_tooltip": null,
            "layout": "IPY_MODEL_adf82ea72c554546a1087ea769f76bbb",
            "placeholder": "​",
            "style": "IPY_MODEL_e9bcdcd4b6134ae38a250d287e14e29d",
            "value": "100%"
          }
        },
        "f72cc08e1bc14b52b415b869b435153c": {
          "model_module": "@jupyter-widgets/controls",
          "model_name": "FloatProgressModel",
          "model_module_version": "1.5.0",
          "state": {
            "_dom_classes": [],
            "_model_module": "@jupyter-widgets/controls",
            "_model_module_version": "1.5.0",
            "_model_name": "FloatProgressModel",
            "_view_count": null,
            "_view_module": "@jupyter-widgets/controls",
            "_view_module_version": "1.5.0",
            "_view_name": "ProgressView",
            "bar_style": "success",
            "description": "",
            "description_tooltip": null,
            "layout": "IPY_MODEL_5a297fe6cd6b4791867a319596cdacc9",
            "max": 9362,
            "min": 0,
            "orientation": "horizontal",
            "style": "IPY_MODEL_f343c694240348ac9aef968afb87a1d5",
            "value": 9362
          }
        },
        "4bad0a924a4544938f1db7daa5c72266": {
          "model_module": "@jupyter-widgets/controls",
          "model_name": "HTMLModel",
          "model_module_version": "1.5.0",
          "state": {
            "_dom_classes": [],
            "_model_module": "@jupyter-widgets/controls",
            "_model_module_version": "1.5.0",
            "_model_name": "HTMLModel",
            "_view_count": null,
            "_view_module": "@jupyter-widgets/controls",
            "_view_module_version": "1.5.0",
            "_view_name": "HTMLView",
            "description": "",
            "description_tooltip": null,
            "layout": "IPY_MODEL_9fbbea36d18d42fb9305d4a5d71523cb",
            "placeholder": "​",
            "style": "IPY_MODEL_c7b69c8515f541c5ad23044ebff037af",
            "value": " 9362/9362 [00:08&lt;00:00, 817.10it/s]"
          }
        },
        "41fc97c5d5514e359f3db6ce1a266a9b": {
          "model_module": "@jupyter-widgets/base",
          "model_name": "LayoutModel",
          "model_module_version": "1.2.0",
          "state": {
            "_model_module": "@jupyter-widgets/base",
            "_model_module_version": "1.2.0",
            "_model_name": "LayoutModel",
            "_view_count": null,
            "_view_module": "@jupyter-widgets/base",
            "_view_module_version": "1.2.0",
            "_view_name": "LayoutView",
            "align_content": null,
            "align_items": null,
            "align_self": null,
            "border": null,
            "bottom": null,
            "display": null,
            "flex": null,
            "flex_flow": null,
            "grid_area": null,
            "grid_auto_columns": null,
            "grid_auto_flow": null,
            "grid_auto_rows": null,
            "grid_column": null,
            "grid_gap": null,
            "grid_row": null,
            "grid_template_areas": null,
            "grid_template_columns": null,
            "grid_template_rows": null,
            "height": null,
            "justify_content": null,
            "justify_items": null,
            "left": null,
            "margin": null,
            "max_height": null,
            "max_width": null,
            "min_height": null,
            "min_width": null,
            "object_fit": null,
            "object_position": null,
            "order": null,
            "overflow": null,
            "overflow_x": null,
            "overflow_y": null,
            "padding": null,
            "right": null,
            "top": null,
            "visibility": null,
            "width": null
          }
        },
        "adf82ea72c554546a1087ea769f76bbb": {
          "model_module": "@jupyter-widgets/base",
          "model_name": "LayoutModel",
          "model_module_version": "1.2.0",
          "state": {
            "_model_module": "@jupyter-widgets/base",
            "_model_module_version": "1.2.0",
            "_model_name": "LayoutModel",
            "_view_count": null,
            "_view_module": "@jupyter-widgets/base",
            "_view_module_version": "1.2.0",
            "_view_name": "LayoutView",
            "align_content": null,
            "align_items": null,
            "align_self": null,
            "border": null,
            "bottom": null,
            "display": null,
            "flex": null,
            "flex_flow": null,
            "grid_area": null,
            "grid_auto_columns": null,
            "grid_auto_flow": null,
            "grid_auto_rows": null,
            "grid_column": null,
            "grid_gap": null,
            "grid_row": null,
            "grid_template_areas": null,
            "grid_template_columns": null,
            "grid_template_rows": null,
            "height": null,
            "justify_content": null,
            "justify_items": null,
            "left": null,
            "margin": null,
            "max_height": null,
            "max_width": null,
            "min_height": null,
            "min_width": null,
            "object_fit": null,
            "object_position": null,
            "order": null,
            "overflow": null,
            "overflow_x": null,
            "overflow_y": null,
            "padding": null,
            "right": null,
            "top": null,
            "visibility": null,
            "width": null
          }
        },
        "e9bcdcd4b6134ae38a250d287e14e29d": {
          "model_module": "@jupyter-widgets/controls",
          "model_name": "DescriptionStyleModel",
          "model_module_version": "1.5.0",
          "state": {
            "_model_module": "@jupyter-widgets/controls",
            "_model_module_version": "1.5.0",
            "_model_name": "DescriptionStyleModel",
            "_view_count": null,
            "_view_module": "@jupyter-widgets/base",
            "_view_module_version": "1.2.0",
            "_view_name": "StyleView",
            "description_width": ""
          }
        },
        "5a297fe6cd6b4791867a319596cdacc9": {
          "model_module": "@jupyter-widgets/base",
          "model_name": "LayoutModel",
          "model_module_version": "1.2.0",
          "state": {
            "_model_module": "@jupyter-widgets/base",
            "_model_module_version": "1.2.0",
            "_model_name": "LayoutModel",
            "_view_count": null,
            "_view_module": "@jupyter-widgets/base",
            "_view_module_version": "1.2.0",
            "_view_name": "LayoutView",
            "align_content": null,
            "align_items": null,
            "align_self": null,
            "border": null,
            "bottom": null,
            "display": null,
            "flex": null,
            "flex_flow": null,
            "grid_area": null,
            "grid_auto_columns": null,
            "grid_auto_flow": null,
            "grid_auto_rows": null,
            "grid_column": null,
            "grid_gap": null,
            "grid_row": null,
            "grid_template_areas": null,
            "grid_template_columns": null,
            "grid_template_rows": null,
            "height": null,
            "justify_content": null,
            "justify_items": null,
            "left": null,
            "margin": null,
            "max_height": null,
            "max_width": null,
            "min_height": null,
            "min_width": null,
            "object_fit": null,
            "object_position": null,
            "order": null,
            "overflow": null,
            "overflow_x": null,
            "overflow_y": null,
            "padding": null,
            "right": null,
            "top": null,
            "visibility": null,
            "width": null
          }
        },
        "f343c694240348ac9aef968afb87a1d5": {
          "model_module": "@jupyter-widgets/controls",
          "model_name": "ProgressStyleModel",
          "model_module_version": "1.5.0",
          "state": {
            "_model_module": "@jupyter-widgets/controls",
            "_model_module_version": "1.5.0",
            "_model_name": "ProgressStyleModel",
            "_view_count": null,
            "_view_module": "@jupyter-widgets/base",
            "_view_module_version": "1.2.0",
            "_view_name": "StyleView",
            "bar_color": null,
            "description_width": ""
          }
        },
        "9fbbea36d18d42fb9305d4a5d71523cb": {
          "model_module": "@jupyter-widgets/base",
          "model_name": "LayoutModel",
          "model_module_version": "1.2.0",
          "state": {
            "_model_module": "@jupyter-widgets/base",
            "_model_module_version": "1.2.0",
            "_model_name": "LayoutModel",
            "_view_count": null,
            "_view_module": "@jupyter-widgets/base",
            "_view_module_version": "1.2.0",
            "_view_name": "LayoutView",
            "align_content": null,
            "align_items": null,
            "align_self": null,
            "border": null,
            "bottom": null,
            "display": null,
            "flex": null,
            "flex_flow": null,
            "grid_area": null,
            "grid_auto_columns": null,
            "grid_auto_flow": null,
            "grid_auto_rows": null,
            "grid_column": null,
            "grid_gap": null,
            "grid_row": null,
            "grid_template_areas": null,
            "grid_template_columns": null,
            "grid_template_rows": null,
            "height": null,
            "justify_content": null,
            "justify_items": null,
            "left": null,
            "margin": null,
            "max_height": null,
            "max_width": null,
            "min_height": null,
            "min_width": null,
            "object_fit": null,
            "object_position": null,
            "order": null,
            "overflow": null,
            "overflow_x": null,
            "overflow_y": null,
            "padding": null,
            "right": null,
            "top": null,
            "visibility": null,
            "width": null
          }
        },
        "c7b69c8515f541c5ad23044ebff037af": {
          "model_module": "@jupyter-widgets/controls",
          "model_name": "DescriptionStyleModel",
          "model_module_version": "1.5.0",
          "state": {
            "_model_module": "@jupyter-widgets/controls",
            "_model_module_version": "1.5.0",
            "_model_name": "DescriptionStyleModel",
            "_view_count": null,
            "_view_module": "@jupyter-widgets/base",
            "_view_module_version": "1.2.0",
            "_view_name": "StyleView",
            "description_width": ""
          }
        }
      }
    }
  },
  "cells": [
    {
      "cell_type": "markdown",
      "metadata": {
        "id": "view-in-github",
        "colab_type": "text"
      },
      "source": [
        "<a href=\"https://colab.research.google.com/github/ankit-singh973/Deep_Learning/blob/main/Molecular_property_prediction_using_GNN.ipynb\" target=\"_parent\"><img src=\"https://colab.research.google.com/assets/colab-badge.svg\" alt=\"Open In Colab\"/></a>"
      ]
    },
    {
      "cell_type": "markdown",
      "source": [
        "Coding GNN for Molecular Property Prediction\n",
        "\n",
        "* Google Colab\n",
        "* RDKit\n",
        "* PyTorch Geometric (PyG)\n",
        "\n",
        "## **Data generated from nuclear receptor signaling and stress pathway assays run against Tox21's 10,000-compound library (Tox21 10K) to build models and look for structure-activity relationships.**"
      ],
      "metadata": {
        "id": "FOcSEaN5O65E"
      }
    },
    {
      "cell_type": "code",
      "source": [
        "!pip install rdkit-pypi"
      ],
      "metadata": {
        "colab": {
          "base_uri": "https://localhost:8080/"
        },
        "id": "ugQdx8_eWPZO",
        "outputId": "1cd8ec13-6439-4e3e-a356-02f061257eef"
      },
      "execution_count": 10,
      "outputs": [
        {
          "output_type": "stream",
          "name": "stdout",
          "text": [
            "Requirement already satisfied: rdkit-pypi in /usr/local/lib/python3.10/dist-packages (2022.9.5)\n",
            "Requirement already satisfied: numpy in /usr/local/lib/python3.10/dist-packages (from rdkit-pypi) (1.23.5)\n",
            "Requirement already satisfied: Pillow in /usr/local/lib/python3.10/dist-packages (from rdkit-pypi) (9.4.0)\n"
          ]
        }
      ]
    },
    {
      "cell_type": "code",
      "source": [
        "import torch\n",
        "pyg_url = f\"https://data.pyg.org/whl/torch-{torch.__version__}.html\"\n",
        "!pip install torch-scatter torch-sparse torch-cluster torch-spline-conv torch-geometric -f $pyg_url\n"
      ],
      "metadata": {
        "colab": {
          "base_uri": "https://localhost:8080/"
        },
        "id": "6fZqtVUckgw7",
        "outputId": "4744b7dc-a525-4d99-dd05-2f1e242137da"
      },
      "execution_count": 11,
      "outputs": [
        {
          "output_type": "stream",
          "name": "stdout",
          "text": [
            "Looking in links: https://data.pyg.org/whl/torch-2.0.1+cu118.html\n",
            "Requirement already satisfied: torch-scatter in /usr/local/lib/python3.10/dist-packages (2.1.2+pt20cu118)\n",
            "Requirement already satisfied: torch-sparse in /usr/local/lib/python3.10/dist-packages (0.6.18+pt20cu118)\n",
            "Requirement already satisfied: torch-cluster in /usr/local/lib/python3.10/dist-packages (1.6.3+pt20cu118)\n",
            "Requirement already satisfied: torch-spline-conv in /usr/local/lib/python3.10/dist-packages (1.2.2+pt20cu118)\n",
            "Requirement already satisfied: torch-geometric in /usr/local/lib/python3.10/dist-packages (2.4.0)\n",
            "Requirement already satisfied: scipy in /usr/local/lib/python3.10/dist-packages (from torch-sparse) (1.11.3)\n",
            "Requirement already satisfied: tqdm in /usr/local/lib/python3.10/dist-packages (from torch-geometric) (4.66.1)\n",
            "Requirement already satisfied: numpy in /usr/local/lib/python3.10/dist-packages (from torch-geometric) (1.23.5)\n",
            "Requirement already satisfied: jinja2 in /usr/local/lib/python3.10/dist-packages (from torch-geometric) (3.1.2)\n",
            "Requirement already satisfied: requests in /usr/local/lib/python3.10/dist-packages (from torch-geometric) (2.31.0)\n",
            "Requirement already satisfied: pyparsing in /usr/local/lib/python3.10/dist-packages (from torch-geometric) (3.1.1)\n",
            "Requirement already satisfied: scikit-learn in /usr/local/lib/python3.10/dist-packages (from torch-geometric) (1.2.2)\n",
            "Requirement already satisfied: psutil>=5.8.0 in /usr/local/lib/python3.10/dist-packages (from torch-geometric) (5.9.5)\n",
            "Requirement already satisfied: MarkupSafe>=2.0 in /usr/local/lib/python3.10/dist-packages (from jinja2->torch-geometric) (2.1.3)\n",
            "Requirement already satisfied: charset-normalizer<4,>=2 in /usr/local/lib/python3.10/dist-packages (from requests->torch-geometric) (3.3.0)\n",
            "Requirement already satisfied: idna<4,>=2.5 in /usr/local/lib/python3.10/dist-packages (from requests->torch-geometric) (3.4)\n",
            "Requirement already satisfied: urllib3<3,>=1.21.1 in /usr/local/lib/python3.10/dist-packages (from requests->torch-geometric) (2.0.6)\n",
            "Requirement already satisfied: certifi>=2017.4.17 in /usr/local/lib/python3.10/dist-packages (from requests->torch-geometric) (2023.7.22)\n",
            "Requirement already satisfied: joblib>=1.1.1 in /usr/local/lib/python3.10/dist-packages (from scikit-learn->torch-geometric) (1.3.2)\n",
            "Requirement already satisfied: threadpoolctl>=2.0.0 in /usr/local/lib/python3.10/dist-packages (from scikit-learn->torch-geometric) (3.2.0)\n"
          ]
        }
      ]
    },
    {
      "cell_type": "code",
      "source": [
        "import sys\n",
        "import urllib.request\n",
        "from collections import defaultdict\n",
        "\n",
        "import numpy as np\n",
        "import pandas as pd\n",
        "import matplotlib.pyplot as plt\n",
        "import networkx as nx  #for working with complex networks and graphs\n",
        "from tqdm.notebook import tqdm\n",
        "\n",
        "from rdkit import Chem\n",
        "from rdkit.Chem import AllChem, Draw\n",
        "from rdkit.Chem.Draw import IPythonConsole\n",
        "\n",
        "import torch.nn as nn\n",
        "import torch.nn.functional as F\n",
        "from torch.utils.data import Dataset, Subset\n",
        "\n",
        "from torch_geometric.data import Data\n",
        "from torch_geometric.loader import DataLoader\n",
        "from torch_geometric.utils import to_networkx\n"
      ],
      "metadata": {
        "id": "6RbDBIb_k3t1"
      },
      "execution_count": 12,
      "outputs": []
    },
    {
      "cell_type": "code",
      "source": [
        "!curl -O https://raw.githubusercontent.com/itakigawa/mpl_rdkit_utils/main/mpl_rdkit_utils.py\n",
        "\n",
        "from mpl_rdkit_utils import DrawMolToMPL #draw a RDKit molecule on a Matplotlib plot\n",
        "\n",
        "# to generate visual representation of molecular graph\n",
        "def plot_mol_graph(graph, figsize=(8, 4), edge_label=True):\n",
        "  g = to_networkx(graph, to_undirected=True)             # converts the input graph (graph) into a NetworkX graph (g) in an undirected form.\n",
        "  edge_dict = defaultdict(list)\n",
        "\n",
        "# processes the edges of the input graph and populates edge_dict with edge pairs and their associated indices.\n",
        " # It also prepares labels for the edges based on these indices.\n",
        "  for i, e in enumerate(zip(*graph.edge_index.tolist())):\n",
        "    u, v = e\n",
        "    edge_dict[(u, v)].append(i)\n",
        "    edge_dict[(v, u)].append(i)\n",
        "  labels = {e: \"{},{}\".format(*edge_dict[e]) for e in g.edges}\n",
        "\n",
        "  mol = graph.mol #  extracts the RDKit molecule\n",
        "  AllChem.Compute2DCoords(mol) # computes 2D coordinates for the atoms\n",
        "  pos = mol.GetConformers()[0].GetPositions()[:,:2] # extract 2D positions of atoms in the conformer molecule\n",
        "\n",
        "  fig, ax = plt.subplots(1, 2, figsize=figsize) #Plot RDKit molecule\n",
        "  node_size=300\n",
        "  nx.draw_networkx(g, pos, ax=ax[0], node_color='#eee', \\\n",
        "                   node_size=node_size, edgecolors='k') #plot networkx graph\n",
        "  if edge_label:\n",
        "    nx.draw_networkx_edge_labels(g, pos, ax=ax[0], edge_labels=labels,\\\n",
        "                                font_color='blue', rotate=False)\n",
        "  dpi = plt.rcParams[\"figure.dpi\"]\n",
        "  node_radius = (node_size / 3.14159265359)**0.5 / dpi\n",
        "  ax[0].set_axis_off()\n",
        "  ax[0].set_aspect('equal')\n",
        "  xmin, xmax = ax[0].get_xlim()\n",
        "  ymin, ymax = ax[0].get_ylim()\n",
        "  fs = min(*figsize)\n",
        "  xr = node_radius * fs\n",
        "  yr = node_radius * fs\n",
        "  ax[0].set_xlim(xmin-xr, xmax+xr)\n",
        "  ax[0].set_ylim(ymin-yr, ymax+yr)\n",
        "\n",
        "  (xmin, xmax), (ymin, ymax) = DrawMolToMPL(mol, fig, ax[1])\n",
        "  ax[1].set_xlim(xmin, xmax)\n",
        "  ax[1].set_ylim(ymin, ymax)\n",
        "  ax[1].get_xaxis().set_visible(False)\n",
        "  ax[1].get_yaxis().set_visible(False)\n",
        "  plt.tight_layout()\n",
        "  plt.show()"
      ],
      "metadata": {
        "colab": {
          "base_uri": "https://localhost:8080/"
        },
        "id": "IY3eFP-FlBWA",
        "outputId": "bac1d611-ad5a-4e22-e89a-6bd888033cf8"
      },
      "execution_count": 13,
      "outputs": [
        {
          "output_type": "stream",
          "name": "stdout",
          "text": [
            "  % Total    % Received % Xferd  Average Speed   Time    Time     Time  Current\n",
            "                                 Dload  Upload   Total   Spent    Left  Speed\n",
            "100  7540  100  7540    0     0  21446      0 --:--:-- --:--:-- --:--:-- 21420\n"
          ]
        }
      ]
    },
    {
      "cell_type": "markdown",
      "source": [
        "## **Data loading**"
      ],
      "metadata": {
        "id": "KnlHTbQhlP4e"
      }
    },
    {
      "cell_type": "code",
      "source": [
        "infile_name = './input.smi'\n",
        "key = \"nr-arsmiles\"\n",
        "url = \"https://tripod.nih.gov/tox21/challenge/download?id={}\".format(key)\n",
        "urllib.request.urlretrieve(url, infile_name)\n",
        "\n",
        "df = pd.read_csv(infile_name, delim_whitespace=True, header=None)\n",
        "df.columns = ['smiles', 'id', 'response']\n",
        "df.to_csv('input.csv')"
      ],
      "metadata": {
        "id": "v7fd-xWRlM0E"
      },
      "execution_count": 14,
      "outputs": []
    },
    {
      "cell_type": "code",
      "source": [
        "df"
      ],
      "metadata": {
        "colab": {
          "base_uri": "https://localhost:8080/",
          "height": 423
        },
        "id": "TfxVtDRAld0V",
        "outputId": "5225473a-dac0-4187-e160-a24a5d7818c3"
      },
      "execution_count": 15,
      "outputs": [
        {
          "output_type": "execute_result",
          "data": {
            "text/plain": [
              "                                                 smiles               id  \\\n",
              "0     CC(O)=O.CCNC(=O)[C@@H]1CCCN1C(=O)[C@H](CCCNC(N...  NCGC00167516-01   \n",
              "1       Cl.CCCCCCOC1=CC=C(C(=N)N(CCCC)CCCC)C2=C1C=CC=C2  NCGC00181091-01   \n",
              "2     Cl.Cl.COCC(=O)O[C@]3(CCN(C)CCCC1=NC2=C(N1)C=CC...  NCGC00094089-01   \n",
              "3     Cl.Cl.CCCCC(CC)CNC(=N)NC(=N)NCCCCCCNC(=N)NC(=N...  NCGC00094996-01   \n",
              "4            [Br-].CCCCCCCCCCCC[N+](C)(C)CCOC1=CC=CC=C1  NCGC00257773-01   \n",
              "...                                                 ...              ...   \n",
              "9357                               CCCC1=CC(=O)NC(=S)N1  NCGC00259290-01   \n",
              "9358                                          S=C1NCCN1  NCGC00258846-01   \n",
              "9359                                          S=C1NCCN1  NCGC00254936-01   \n",
              "9360            CCOP(=S)(OCC)OC1=CC=C(C=C1)[N+]([O-])=O  NCGC00254571-01   \n",
              "9361              CCC(COC(=O)CCS)(COC(=O)CCS)COC(=O)CCS  NCGC00256198-01   \n",
              "\n",
              "      response  \n",
              "0            0  \n",
              "1            0  \n",
              "2            0  \n",
              "3            0  \n",
              "4            0  \n",
              "...        ...  \n",
              "9357         0  \n",
              "9358         0  \n",
              "9359         0  \n",
              "9360         0  \n",
              "9361         0  \n",
              "\n",
              "[9362 rows x 3 columns]"
            ],
            "text/html": [
              "\n",
              "  <div id=\"df-beb6d35a-6c02-4227-80f5-b948a2d61660\" class=\"colab-df-container\">\n",
              "    <div>\n",
              "<style scoped>\n",
              "    .dataframe tbody tr th:only-of-type {\n",
              "        vertical-align: middle;\n",
              "    }\n",
              "\n",
              "    .dataframe tbody tr th {\n",
              "        vertical-align: top;\n",
              "    }\n",
              "\n",
              "    .dataframe thead th {\n",
              "        text-align: right;\n",
              "    }\n",
              "</style>\n",
              "<table border=\"1\" class=\"dataframe\">\n",
              "  <thead>\n",
              "    <tr style=\"text-align: right;\">\n",
              "      <th></th>\n",
              "      <th>smiles</th>\n",
              "      <th>id</th>\n",
              "      <th>response</th>\n",
              "    </tr>\n",
              "  </thead>\n",
              "  <tbody>\n",
              "    <tr>\n",
              "      <th>0</th>\n",
              "      <td>CC(O)=O.CCNC(=O)[C@@H]1CCCN1C(=O)[C@H](CCCNC(N...</td>\n",
              "      <td>NCGC00167516-01</td>\n",
              "      <td>0</td>\n",
              "    </tr>\n",
              "    <tr>\n",
              "      <th>1</th>\n",
              "      <td>Cl.CCCCCCOC1=CC=C(C(=N)N(CCCC)CCCC)C2=C1C=CC=C2</td>\n",
              "      <td>NCGC00181091-01</td>\n",
              "      <td>0</td>\n",
              "    </tr>\n",
              "    <tr>\n",
              "      <th>2</th>\n",
              "      <td>Cl.Cl.COCC(=O)O[C@]3(CCN(C)CCCC1=NC2=C(N1)C=CC...</td>\n",
              "      <td>NCGC00094089-01</td>\n",
              "      <td>0</td>\n",
              "    </tr>\n",
              "    <tr>\n",
              "      <th>3</th>\n",
              "      <td>Cl.Cl.CCCCC(CC)CNC(=N)NC(=N)NCCCCCCNC(=N)NC(=N...</td>\n",
              "      <td>NCGC00094996-01</td>\n",
              "      <td>0</td>\n",
              "    </tr>\n",
              "    <tr>\n",
              "      <th>4</th>\n",
              "      <td>[Br-].CCCCCCCCCCCC[N+](C)(C)CCOC1=CC=CC=C1</td>\n",
              "      <td>NCGC00257773-01</td>\n",
              "      <td>0</td>\n",
              "    </tr>\n",
              "    <tr>\n",
              "      <th>...</th>\n",
              "      <td>...</td>\n",
              "      <td>...</td>\n",
              "      <td>...</td>\n",
              "    </tr>\n",
              "    <tr>\n",
              "      <th>9357</th>\n",
              "      <td>CCCC1=CC(=O)NC(=S)N1</td>\n",
              "      <td>NCGC00259290-01</td>\n",
              "      <td>0</td>\n",
              "    </tr>\n",
              "    <tr>\n",
              "      <th>9358</th>\n",
              "      <td>S=C1NCCN1</td>\n",
              "      <td>NCGC00258846-01</td>\n",
              "      <td>0</td>\n",
              "    </tr>\n",
              "    <tr>\n",
              "      <th>9359</th>\n",
              "      <td>S=C1NCCN1</td>\n",
              "      <td>NCGC00254936-01</td>\n",
              "      <td>0</td>\n",
              "    </tr>\n",
              "    <tr>\n",
              "      <th>9360</th>\n",
              "      <td>CCOP(=S)(OCC)OC1=CC=C(C=C1)[N+]([O-])=O</td>\n",
              "      <td>NCGC00254571-01</td>\n",
              "      <td>0</td>\n",
              "    </tr>\n",
              "    <tr>\n",
              "      <th>9361</th>\n",
              "      <td>CCC(COC(=O)CCS)(COC(=O)CCS)COC(=O)CCS</td>\n",
              "      <td>NCGC00256198-01</td>\n",
              "      <td>0</td>\n",
              "    </tr>\n",
              "  </tbody>\n",
              "</table>\n",
              "<p>9362 rows × 3 columns</p>\n",
              "</div>\n",
              "    <div class=\"colab-df-buttons\">\n",
              "\n",
              "  <div class=\"colab-df-container\">\n",
              "    <button class=\"colab-df-convert\" onclick=\"convertToInteractive('df-beb6d35a-6c02-4227-80f5-b948a2d61660')\"\n",
              "            title=\"Convert this dataframe to an interactive table.\"\n",
              "            style=\"display:none;\">\n",
              "\n",
              "  <svg xmlns=\"http://www.w3.org/2000/svg\" height=\"24px\" viewBox=\"0 -960 960 960\">\n",
              "    <path d=\"M120-120v-720h720v720H120Zm60-500h600v-160H180v160Zm220 220h160v-160H400v160Zm0 220h160v-160H400v160ZM180-400h160v-160H180v160Zm440 0h160v-160H620v160ZM180-180h160v-160H180v160Zm440 0h160v-160H620v160Z\"/>\n",
              "  </svg>\n",
              "    </button>\n",
              "\n",
              "  <style>\n",
              "    .colab-df-container {\n",
              "      display:flex;\n",
              "      gap: 12px;\n",
              "    }\n",
              "\n",
              "    .colab-df-convert {\n",
              "      background-color: #E8F0FE;\n",
              "      border: none;\n",
              "      border-radius: 50%;\n",
              "      cursor: pointer;\n",
              "      display: none;\n",
              "      fill: #1967D2;\n",
              "      height: 32px;\n",
              "      padding: 0 0 0 0;\n",
              "      width: 32px;\n",
              "    }\n",
              "\n",
              "    .colab-df-convert:hover {\n",
              "      background-color: #E2EBFA;\n",
              "      box-shadow: 0px 1px 2px rgba(60, 64, 67, 0.3), 0px 1px 3px 1px rgba(60, 64, 67, 0.15);\n",
              "      fill: #174EA6;\n",
              "    }\n",
              "\n",
              "    .colab-df-buttons div {\n",
              "      margin-bottom: 4px;\n",
              "    }\n",
              "\n",
              "    [theme=dark] .colab-df-convert {\n",
              "      background-color: #3B4455;\n",
              "      fill: #D2E3FC;\n",
              "    }\n",
              "\n",
              "    [theme=dark] .colab-df-convert:hover {\n",
              "      background-color: #434B5C;\n",
              "      box-shadow: 0px 1px 3px 1px rgba(0, 0, 0, 0.15);\n",
              "      filter: drop-shadow(0px 1px 2px rgba(0, 0, 0, 0.3));\n",
              "      fill: #FFFFFF;\n",
              "    }\n",
              "  </style>\n",
              "\n",
              "    <script>\n",
              "      const buttonEl =\n",
              "        document.querySelector('#df-beb6d35a-6c02-4227-80f5-b948a2d61660 button.colab-df-convert');\n",
              "      buttonEl.style.display =\n",
              "        google.colab.kernel.accessAllowed ? 'block' : 'none';\n",
              "\n",
              "      async function convertToInteractive(key) {\n",
              "        const element = document.querySelector('#df-beb6d35a-6c02-4227-80f5-b948a2d61660');\n",
              "        const dataTable =\n",
              "          await google.colab.kernel.invokeFunction('convertToInteractive',\n",
              "                                                    [key], {});\n",
              "        if (!dataTable) return;\n",
              "\n",
              "        const docLinkHtml = 'Like what you see? Visit the ' +\n",
              "          '<a target=\"_blank\" href=https://colab.research.google.com/notebooks/data_table.ipynb>data table notebook</a>'\n",
              "          + ' to learn more about interactive tables.';\n",
              "        element.innerHTML = '';\n",
              "        dataTable['output_type'] = 'display_data';\n",
              "        await google.colab.output.renderOutput(dataTable, element);\n",
              "        const docLink = document.createElement('div');\n",
              "        docLink.innerHTML = docLinkHtml;\n",
              "        element.appendChild(docLink);\n",
              "      }\n",
              "    </script>\n",
              "  </div>\n",
              "\n",
              "\n",
              "<div id=\"df-7a3a3f5b-ea45-4a10-9a9b-703e92d66e9a\">\n",
              "  <button class=\"colab-df-quickchart\" onclick=\"quickchart('df-7a3a3f5b-ea45-4a10-9a9b-703e92d66e9a')\"\n",
              "            title=\"Suggest charts.\"\n",
              "            style=\"display:none;\">\n",
              "\n",
              "<svg xmlns=\"http://www.w3.org/2000/svg\" height=\"24px\"viewBox=\"0 0 24 24\"\n",
              "     width=\"24px\">\n",
              "    <g>\n",
              "        <path d=\"M19 3H5c-1.1 0-2 .9-2 2v14c0 1.1.9 2 2 2h14c1.1 0 2-.9 2-2V5c0-1.1-.9-2-2-2zM9 17H7v-7h2v7zm4 0h-2V7h2v10zm4 0h-2v-4h2v4z\"/>\n",
              "    </g>\n",
              "</svg>\n",
              "  </button>\n",
              "\n",
              "<style>\n",
              "  .colab-df-quickchart {\n",
              "      --bg-color: #E8F0FE;\n",
              "      --fill-color: #1967D2;\n",
              "      --hover-bg-color: #E2EBFA;\n",
              "      --hover-fill-color: #174EA6;\n",
              "      --disabled-fill-color: #AAA;\n",
              "      --disabled-bg-color: #DDD;\n",
              "  }\n",
              "\n",
              "  [theme=dark] .colab-df-quickchart {\n",
              "      --bg-color: #3B4455;\n",
              "      --fill-color: #D2E3FC;\n",
              "      --hover-bg-color: #434B5C;\n",
              "      --hover-fill-color: #FFFFFF;\n",
              "      --disabled-bg-color: #3B4455;\n",
              "      --disabled-fill-color: #666;\n",
              "  }\n",
              "\n",
              "  .colab-df-quickchart {\n",
              "    background-color: var(--bg-color);\n",
              "    border: none;\n",
              "    border-radius: 50%;\n",
              "    cursor: pointer;\n",
              "    display: none;\n",
              "    fill: var(--fill-color);\n",
              "    height: 32px;\n",
              "    padding: 0;\n",
              "    width: 32px;\n",
              "  }\n",
              "\n",
              "  .colab-df-quickchart:hover {\n",
              "    background-color: var(--hover-bg-color);\n",
              "    box-shadow: 0 1px 2px rgba(60, 64, 67, 0.3), 0 1px 3px 1px rgba(60, 64, 67, 0.15);\n",
              "    fill: var(--button-hover-fill-color);\n",
              "  }\n",
              "\n",
              "  .colab-df-quickchart-complete:disabled,\n",
              "  .colab-df-quickchart-complete:disabled:hover {\n",
              "    background-color: var(--disabled-bg-color);\n",
              "    fill: var(--disabled-fill-color);\n",
              "    box-shadow: none;\n",
              "  }\n",
              "\n",
              "  .colab-df-spinner {\n",
              "    border: 2px solid var(--fill-color);\n",
              "    border-color: transparent;\n",
              "    border-bottom-color: var(--fill-color);\n",
              "    animation:\n",
              "      spin 1s steps(1) infinite;\n",
              "  }\n",
              "\n",
              "  @keyframes spin {\n",
              "    0% {\n",
              "      border-color: transparent;\n",
              "      border-bottom-color: var(--fill-color);\n",
              "      border-left-color: var(--fill-color);\n",
              "    }\n",
              "    20% {\n",
              "      border-color: transparent;\n",
              "      border-left-color: var(--fill-color);\n",
              "      border-top-color: var(--fill-color);\n",
              "    }\n",
              "    30% {\n",
              "      border-color: transparent;\n",
              "      border-left-color: var(--fill-color);\n",
              "      border-top-color: var(--fill-color);\n",
              "      border-right-color: var(--fill-color);\n",
              "    }\n",
              "    40% {\n",
              "      border-color: transparent;\n",
              "      border-right-color: var(--fill-color);\n",
              "      border-top-color: var(--fill-color);\n",
              "    }\n",
              "    60% {\n",
              "      border-color: transparent;\n",
              "      border-right-color: var(--fill-color);\n",
              "    }\n",
              "    80% {\n",
              "      border-color: transparent;\n",
              "      border-right-color: var(--fill-color);\n",
              "      border-bottom-color: var(--fill-color);\n",
              "    }\n",
              "    90% {\n",
              "      border-color: transparent;\n",
              "      border-bottom-color: var(--fill-color);\n",
              "    }\n",
              "  }\n",
              "</style>\n",
              "\n",
              "  <script>\n",
              "    async function quickchart(key) {\n",
              "      const quickchartButtonEl =\n",
              "        document.querySelector('#' + key + ' button');\n",
              "      quickchartButtonEl.disabled = true;  // To prevent multiple clicks.\n",
              "      quickchartButtonEl.classList.add('colab-df-spinner');\n",
              "      try {\n",
              "        const charts = await google.colab.kernel.invokeFunction(\n",
              "            'suggestCharts', [key], {});\n",
              "      } catch (error) {\n",
              "        console.error('Error during call to suggestCharts:', error);\n",
              "      }\n",
              "      quickchartButtonEl.classList.remove('colab-df-spinner');\n",
              "      quickchartButtonEl.classList.add('colab-df-quickchart-complete');\n",
              "    }\n",
              "    (() => {\n",
              "      let quickchartButtonEl =\n",
              "        document.querySelector('#df-7a3a3f5b-ea45-4a10-9a9b-703e92d66e9a button');\n",
              "      quickchartButtonEl.style.display =\n",
              "        google.colab.kernel.accessAllowed ? 'block' : 'none';\n",
              "    })();\n",
              "  </script>\n",
              "</div>\n",
              "    </div>\n",
              "  </div>\n"
            ]
          },
          "metadata": {},
          "execution_count": 15
        }
      ]
    },
    {
      "cell_type": "code",
      "source": [
        "df = pd.read_csv('input.csv', index_col=0)\n",
        "smi = df['smiles'][1]\n",
        "mol = Chem.MolFromSmiles(smi)"
      ],
      "metadata": {
        "id": "Yp0SaCL2fLBn"
      },
      "execution_count": 16,
      "outputs": []
    },
    {
      "cell_type": "code",
      "source": [
        "smi"
      ],
      "metadata": {
        "colab": {
          "base_uri": "https://localhost:8080/",
          "height": 36
        },
        "id": "A8m9k9EXfN6y",
        "outputId": "52d4ff1e-5a29-4169-c3bb-d98f46395562"
      },
      "execution_count": 17,
      "outputs": [
        {
          "output_type": "execute_result",
          "data": {
            "text/plain": [
              "'Cl.CCCCCCOC1=CC=C(C(=N)N(CCCC)CCCC)C2=C1C=CC=C2'"
            ],
            "application/vnd.google.colaboratory.intrinsic+json": {
              "type": "string"
            }
          },
          "metadata": {},
          "execution_count": 17
        }
      ]
    },
    {
      "cell_type": "code",
      "source": [],
      "metadata": {
        "id": "F2KME9ngl7Pp"
      },
      "execution_count": 17,
      "outputs": []
    },
    {
      "cell_type": "code",
      "source": [
        "mol"
      ],
      "metadata": {
        "colab": {
          "base_uri": "https://localhost:8080/",
          "height": 167
        },
        "id": "4WoogatLfOxS",
        "outputId": "1478ac20-ecfb-45e1-c02d-386f50ec82fc"
      },
      "execution_count": 18,
      "outputs": [
        {
          "output_type": "execute_result",
          "data": {
            "text/plain": [
              "<rdkit.Chem.rdchem.Mol at 0x7a1265f6b450>"
            ],
            "image/png": "[encoded data removed]"
          },
          "metadata": {},
          "execution_count": 18
        }
      ]
    },
    {
      "cell_type": "code",
      "source": [
        "df.shape"
      ],
      "metadata": {
        "colab": {
          "base_uri": "https://localhost:8080/"
        },
        "id": "GOUstnJmfPrm",
        "outputId": "a64b151a-d601-4097-f660-c581b7a968dc"
      },
      "execution_count": 19,
      "outputs": [
        {
          "output_type": "execute_result",
          "data": {
            "text/plain": [
              "(9362, 3)"
            ]
          },
          "metadata": {},
          "execution_count": 19
        }
      ]
    },
    {
      "cell_type": "markdown",
      "source": [
        "# molecular graphs for pyg"
      ],
      "metadata": {
        "id": "OYSXRCQbfSf_"
      }
    },
    {
      "cell_type": "code",
      "source": [
        "edges = []\n",
        "for bond in mol.GetBonds():  # iterates through all the bonds in the RDKit molecule `mol`\n",
        "  i = bond.GetBeginAtomIdx() #returns the index of the atom at the beginning of the bond.\n",
        "  j = bond.GetEndAtomIdx()\n",
        "  edges.extend([(i,j), (j,i)])"
      ],
      "metadata": {
        "id": "mU0fBxC2fXtm"
      },
      "execution_count": 20,
      "outputs": []
    },
    {
      "cell_type": "code",
      "source": [
        "edge_index = list(zip(*edges))"
      ],
      "metadata": {
        "id": "160paKLgfhxr"
      },
      "execution_count": 21,
      "outputs": []
    },
    {
      "cell_type": "code",
      "source": [
        "edge_index"
      ],
      "metadata": {
        "colab": {
          "base_uri": "https://localhost:8080/"
        },
        "id": "fVP2vpu6fp_k",
        "outputId": "d45790ae-a784-48e7-dc3d-0cac092068e9"
      },
      "execution_count": 22,
      "outputs": [
        {
          "output_type": "execute_result",
          "data": {
            "text/plain": [
              "[(1,\n",
              "  2,\n",
              "  2,\n",
              "  3,\n",
              "  3,\n",
              "  4,\n",
              "  4,\n",
              "  5,\n",
              "  5,\n",
              "  6,\n",
              "  6,\n",
              "  7,\n",
              "  7,\n",
              "  8,\n",
              "  8,\n",
              "  9,\n",
              "  9,\n",
              "  10,\n",
              "  10,\n",
              "  11,\n",
              "  11,\n",
              "  12,\n",
              "  12,\n",
              "  13,\n",
              "  12,\n",
              "  14,\n",
              "  14,\n",
              "  15,\n",
              "  15,\n",
              "  16,\n",
              "  16,\n",
              "  17,\n",
              "  17,\n",
              "  18,\n",
              "  14,\n",
              "  19,\n",
              "  19,\n",
              "  20,\n",
              "  20,\n",
              "  21,\n",
              "  21,\n",
              "  22,\n",
              "  11,\n",
              "  23,\n",
              "  23,\n",
              "  24,\n",
              "  24,\n",
              "  25,\n",
              "  25,\n",
              "  26,\n",
              "  26,\n",
              "  27,\n",
              "  27,\n",
              "  28,\n",
              "  24,\n",
              "  8,\n",
              "  28,\n",
              "  23),\n",
              " (2,\n",
              "  1,\n",
              "  3,\n",
              "  2,\n",
              "  4,\n",
              "  3,\n",
              "  5,\n",
              "  4,\n",
              "  6,\n",
              "  5,\n",
              "  7,\n",
              "  6,\n",
              "  8,\n",
              "  7,\n",
              "  9,\n",
              "  8,\n",
              "  10,\n",
              "  9,\n",
              "  11,\n",
              "  10,\n",
              "  12,\n",
              "  11,\n",
              "  13,\n",
              "  12,\n",
              "  14,\n",
              "  12,\n",
              "  15,\n",
              "  14,\n",
              "  16,\n",
              "  15,\n",
              "  17,\n",
              "  16,\n",
              "  18,\n",
              "  17,\n",
              "  19,\n",
              "  14,\n",
              "  20,\n",
              "  19,\n",
              "  21,\n",
              "  20,\n",
              "  22,\n",
              "  21,\n",
              "  23,\n",
              "  11,\n",
              "  24,\n",
              "  23,\n",
              "  25,\n",
              "  24,\n",
              "  26,\n",
              "  25,\n",
              "  27,\n",
              "  26,\n",
              "  28,\n",
              "  27,\n",
              "  8,\n",
              "  24,\n",
              "  23,\n",
              "  28)]"
            ]
          },
          "metadata": {},
          "execution_count": 22
        }
      ]
    },
    {
      "cell_type": "code",
      "source": [
        "def atom_feature(atom):\n",
        "  return [atom.GetAtomicNum(), # return atomic number\n",
        "          atom.GetDegree(), #number of bonds\n",
        "          atom.GetNumImplicitHs(), #h-bonds associated\n",
        "          atom.GetIsAromatic()]\n",
        "\n",
        "def bond_feature(bond):\n",
        "  return [bond.GetBondType(),\n",
        "          bond.GetStereo()] #"
      ],
      "metadata": {
        "id": "9ZjFm-hhfrKa"
      },
      "execution_count": 23,
      "outputs": []
    },
    {
      "cell_type": "code",
      "source": [
        "node_features = [atom_feature(a) for a in mol.GetAtoms()]\n",
        "edge_features = [bond_feature(b) for b in mol.GetBonds()]"
      ],
      "metadata": {
        "id": "6to7lweeft-g"
      },
      "execution_count": 24,
      "outputs": []
    },
    {
      "cell_type": "code",
      "source": [
        "g = Data(edge_index=torch.LongTensor(edge_index),\n",
        "         x=torch.FloatTensor(node_features),\n",
        "         edge_attr=torch.FloatTensor(edge_features),\n",
        "         smiles=smi,\n",
        "         mol=mol)"
      ],
      "metadata": {
        "id": "QhLrZE2Cf4Cs"
      },
      "execution_count": 25,
      "outputs": []
    },
    {
      "cell_type": "code",
      "source": [
        "g"
      ],
      "metadata": {
        "colab": {
          "base_uri": "https://localhost:8080/"
        },
        "id": "Tv-3d9VdgH1o",
        "outputId": "8de235c2-ac4a-4698-f10f-5eebd6f892da"
      },
      "execution_count": 26,
      "outputs": [
        {
          "output_type": "execute_result",
          "data": {
            "text/plain": [
              "Data(x=[29, 4], edge_index=[2, 58], edge_attr=[29, 2], smiles='Cl.CCCCCCOC1=CC=C(C(=N)N(CCCC)CCCC)C2=C1C=CC=C2', mol=<rdkit.Chem.rdchem.Mol object at 0x7a1265f6b450>)"
            ]
          },
          "metadata": {},
          "execution_count": 26
        }
      ]
    },
    {
      "cell_type": "code",
      "source": [
        "plot_mol_graph(g)"
      ],
      "metadata": {
        "colab": {
          "base_uri": "https://localhost:8080/",
          "height": 207
        },
        "id": "1H-15y8ngQGz",
        "outputId": "89ba9ac8-9cf8-467d-9260-f3c985c26263"
      },
      "execution_count": 27,
      "outputs": [
        {
          "output_type": "display_data",
          "data": {
            "text/plain": [
              "<Figure size 800x400 with 2 Axes>"
            ],
            "image/png": "[encoded data removed]"
          },
          "metadata": {}
        }
      ]
    },
    {
      "cell_type": "code",
      "source": [
        "# converts a SMILES representation of a molecule into a PyTorch Geometric\n",
        "def smi_to_pyg(smi, y):\n",
        "    mol = Chem.MolFromSmiles(smi)\n",
        "    if mol is None:\n",
        "      return None\n",
        "#  extracts pairs of atom indices from the molecular structure\n",
        "    id_pairs = ((b.GetBeginAtomIdx(), b.GetEndAtomIdx()) for b in mol.GetBonds())\n",
        "\n",
        "# convert pairs of atom indices into a list of tuples, where each tuple represents a bidirectional (undirected) edge between two atoms\n",
        "    atom_pairs = [z for (i, j) in id_pairs for z in ((i, j), (j, i))]\n",
        "\n",
        "    bonds = (mol.GetBondBetweenAtoms(i, j) for (i, j) in atom_pairs)\n",
        "\n",
        "# collects features for each atom in the molecule by calling the atom_feature\n",
        "# include properties like atomic number, degree, number of implicit hydrogens, and aromaticity\n",
        "    atom_features = [atom_feature(a) for a in mol.GetAtoms()]\n",
        "\n",
        "#  include the bond type and stereochemistry\n",
        "    bond_features = [bond_feature(b) for b in bonds]\n",
        "\n",
        "# constructs a PyTorch Geometric Data object representing the molecule's graph structure and associated information.\n",
        "    return Data(edge_index=torch.LongTensor(list(zip(*atom_pairs))), # containing the edge connections between atoms\n",
        "                x=torch.FloatTensor(atom_features),\n",
        "                edge_attr=torch.FloatTensor(bond_features),\n",
        "                y=torch.LongTensor([y]),\n",
        "                mol=mol, #  The RDKit molecule object\n",
        "                smiles=smi) #  original SMILES representation of the molecule"
      ],
      "metadata": {
        "id": "RuvR_EJxgS7k"
      },
      "execution_count": 28,
      "outputs": []
    },
    {
      "cell_type": "code",
      "source": [
        "class MyDataset(Dataset):\n",
        "  def __init__(self, smiles, response):\n",
        "    mols = [smi_to_pyg(smi, y) for smi, y in \\\n",
        "            tqdm(zip(smiles, response), total=len(smiles))]\n",
        "    self.X = [m for m in mols if m]\n",
        "\n",
        "  def __getitem__(self, idx):\n",
        "    return self.X[idx]  # retrieve a data point at a specific index\n",
        "\n",
        "  def __len__(self):\n",
        "    return len(self.X)"
      ],
      "metadata": {
        "id": "v6Lv34ycgdpa"
      },
      "execution_count": 29,
      "outputs": []
    },
    {
      "cell_type": "code",
      "source": [
        "base_dataset = MyDataset(df['smiles'], df['response'])"
      ],
      "metadata": {
        "colab": {
          "base_uri": "https://localhost:8080/",
          "referenced_widgets": [
            "70a2d919d52240509c6ab167dbe56d2b",
            "c3d1ff0c711145d7ba6b24e30c46af56",
            "f72cc08e1bc14b52b415b869b435153c",
            "4bad0a924a4544938f1db7daa5c72266",
            "41fc97c5d5514e359f3db6ce1a266a9b",
            "adf82ea72c554546a1087ea769f76bbb",
            "e9bcdcd4b6134ae38a250d287e14e29d",
            "5a297fe6cd6b4791867a319596cdacc9",
            "f343c694240348ac9aef968afb87a1d5",
            "9fbbea36d18d42fb9305d4a5d71523cb",
            "c7b69c8515f541c5ad23044ebff037af"
          ],
          "height": 136
        },
        "id": "JAkSRLgBgfaL",
        "outputId": "6a20fcf0-2761-4008-9a84-6c67a41267e2"
      },
      "execution_count": 30,
      "outputs": [
        {
          "output_type": "display_data",
          "data": {
            "text/plain": [
              "  0%|          | 0/9362 [00:00<?, ?it/s]"
            ],
            "application/vnd.jupyter.widget-view+json": {
              "version_major": 2,
              "version_minor": 0,
              "model_id": "70a2d919d52240509c6ab167dbe56d2b"
            }
          },
          "metadata": {}
        },
        {
          "output_type": "stream",
          "name": "stderr",
          "text": [
            "[10:06:03] Explicit valence for atom # 3 Si, 8, is greater than permitted\n",
            "[10:06:04] Explicit valence for atom # 0 Cl, 2, is greater than permitted\n",
            "[10:06:06] Explicit valence for atom # 2 Cl, 2, is greater than permitted\n",
            "[10:06:06] WARNING: not removing hydrogen atom without neighbors\n",
            "[10:06:08] Explicit valence for atom # 3 Si, 8, is greater than permitted\n"
          ]
        }
      ]
    },
    {
      "cell_type": "code",
      "source": [
        "base_dataset"
      ],
      "metadata": {
        "colab": {
          "base_uri": "https://localhost:8080/"
        },
        "id": "bIw7o7BqZQR0",
        "outputId": "7cca4c65-a966-49a0-bc67-72bd9552f443"
      },
      "execution_count": 31,
      "outputs": [
        {
          "output_type": "execute_result",
          "data": {
            "text/plain": [
              "<__main__.MyDataset at 0x7a1266ae3910>"
            ]
          },
          "metadata": {},
          "execution_count": 31
        }
      ]
    },
    {
      "cell_type": "code",
      "source": [
        "g = base_dataset[8824]\n",
        "plot_mol_graph(g, figsize=(6, 3), edge_label=True)"
      ],
      "metadata": {
        "colab": {
          "base_uri": "https://localhost:8080/",
          "height": 295
        },
        "id": "vfG7Aa2rgiEN",
        "outputId": "c5a949fa-d8e9-47e1-ecfc-5f0ae5a8f5dd"
      },
      "execution_count": 32,
      "outputs": [
        {
          "output_type": "display_data",
          "data": {
            "text/plain": [
              "<Figure size 600x300 with 2 Axes>"
            ],
            "image/png": "[encoded data removed]"
          },
          "metadata": {}
        }
      ]
    },
    {
      "cell_type": "code",
      "source": [
        "g"
      ],
      "metadata": {
        "colab": {
          "base_uri": "https://localhost:8080/"
        },
        "id": "UJa-cYoBgqXC",
        "outputId": "9c971dc4-7487-4313-861e-81efce517746"
      },
      "execution_count": 33,
      "outputs": [
        {
          "output_type": "execute_result",
          "data": {
            "text/plain": [
              "Data(x=[7, 4], edge_index=[2, 12], edge_attr=[12, 2], y=[1], mol=<rdkit.Chem.rdchem.Mol object at 0x7a126381eff0>, smiles='COP(N)(=O)SC')"
            ]
          },
          "metadata": {},
          "execution_count": 33
        }
      ]
    },
    {
      "cell_type": "code",
      "source": [
        "# node (atom) features of a graph g\n",
        "g.x"
      ],
      "metadata": {
        "colab": {
          "base_uri": "https://localhost:8080/"
        },
        "id": "-XtrliCAgw3m",
        "outputId": "728d20d1-f952-41de-e1e0-e31f23a764fe"
      },
      "execution_count": 34,
      "outputs": [
        {
          "output_type": "execute_result",
          "data": {
            "text/plain": [
              "tensor([[ 6.,  1.,  3.,  0.],\n",
              "        [ 8.,  2.,  0.,  0.],\n",
              "        [15.,  4.,  0.,  0.],\n",
              "        [ 7.,  1.,  2.,  0.],\n",
              "        [ 8.,  1.,  0.,  0.],\n",
              "        [16.,  2.,  0.,  0.],\n",
              "        [ 6.,  1.,  3.,  0.]])"
            ]
          },
          "metadata": {},
          "execution_count": 34
        }
      ]
    },
    {
      "cell_type": "code",
      "source": [
        "# represents the edge (bond) features of a graph\n",
        "g.edge_attr"
      ],
      "metadata": {
        "colab": {
          "base_uri": "https://localhost:8080/"
        },
        "id": "ycbArxGygy70",
        "outputId": "b933350b-c619-4204-e9ea-e83ee382fd10"
      },
      "execution_count": 35,
      "outputs": [
        {
          "output_type": "execute_result",
          "data": {
            "text/plain": [
              "tensor([[1., 0.],\n",
              "        [1., 0.],\n",
              "        [1., 0.],\n",
              "        [1., 0.],\n",
              "        [1., 0.],\n",
              "        [1., 0.],\n",
              "        [2., 0.],\n",
              "        [2., 0.],\n",
              "        [1., 0.],\n",
              "        [1., 0.],\n",
              "        [1., 0.],\n",
              "        [1., 0.]])"
            ]
          },
          "metadata": {},
          "execution_count": 35
        }
      ]
    },
    {
      "cell_type": "markdown",
      "source": [
        "-  row corresponds to an edge (bond) in the graph, and each column represents a feature of that edge"
      ],
      "metadata": {
        "id": "_EcQ5p2AaTUn"
      }
    },
    {
      "cell_type": "code",
      "source": [
        "g.edge_index"
      ],
      "metadata": {
        "colab": {
          "base_uri": "https://localhost:8080/"
        },
        "id": "HxOWuE7Pg6Qx",
        "outputId": "b94482d6-360e-458e-bb6d-7b4f722d7b11"
      },
      "execution_count": 36,
      "outputs": [
        {
          "output_type": "execute_result",
          "data": {
            "text/plain": [
              "tensor([[0, 1, 1, 2, 2, 3, 2, 4, 2, 5, 5, 6],\n",
              "        [1, 0, 2, 1, 3, 2, 4, 2, 5, 2, 6, 5]])"
            ]
          },
          "metadata": {},
          "execution_count": 36
        }
      ]
    },
    {
      "cell_type": "markdown",
      "source": [
        "# train/val/test split"
      ],
      "metadata": {
        "id": "sqztOJnqgnBB"
      }
    },
    {
      "cell_type": "code",
      "source": [
        "# stratified random split of the dataset.\n",
        "# each part of the split contains an equal percentage of the data\n",
        "\n",
        "N = len(base_dataset)\n",
        "M = N // 10\n",
        "\n",
        "indices = np.random.permutation(range(N))\n",
        "\n",
        "idx = {'train': indices[:8*M],  # 8 parts\n",
        "      'valid': indices[8*M:9*M], # 1 part\n",
        "      'test': indices[9*M:]} # 1 part\n",
        "\n",
        "modes = ['train', 'valid', 'test']"
      ],
      "metadata": {
        "id": "g6VegArxg_DV"
      },
      "execution_count": 37,
      "outputs": []
    },
    {
      "cell_type": "code",
      "source": [
        "dataset = {m: Subset(base_dataset, idx[m]) for m in modes}\n",
        "loader = {m: DataLoader(dataset[m], batch_size=200, shuffle=True) if m == 'train' \\\n",
        "          else DataLoader(dataset[m], batch_size=200) for m in modes}"
      ],
      "metadata": {
        "id": "fPgtFrPEhBip"
      },
      "execution_count": 38,
      "outputs": []
    },
    {
      "cell_type": "markdown",
      "source": [
        "# ecfp4 + random_forest"
      ],
      "metadata": {
        "id": "Cv4Z6abrhDme"
      }
    },
    {
      "cell_type": "code",
      "source": [
        "# from sklearn.ensemble import RandomForestClassifier\n",
        "# from sklearn.metrics import accuracy_score, balanced_accuracy_score, roc_auc_score"
      ],
      "metadata": {
        "id": "0wLS1ts2hIAI"
      },
      "execution_count": 39,
      "outputs": []
    },
    {
      "cell_type": "code",
      "source": [
        "# def ECFP4(mol):\n",
        "#   return np.asarray(AllChem.GetMorganFingerprintAsBitVect(mol, 2, nBits=2048))"
      ],
      "metadata": {
        "id": "9MNytHDjhIcC"
      },
      "execution_count": 40,
      "outputs": []
    },
    {
      "cell_type": "code",
      "source": [
        "# X = {m: np.vstack([ECFP4(data.mol) for data in dataset[m]]) for m in modes}\n",
        "# y = {m: np.asarray([data.y.numpy() for data in dataset[m]]).flatten() for m in modes}"
      ],
      "metadata": {
        "id": "CufTajJ3hRk-"
      },
      "execution_count": 41,
      "outputs": []
    },
    {
      "cell_type": "code",
      "source": [
        "# model = RandomForestClassifier()\n",
        "# model.fit(X['train'], y['train'])"
      ],
      "metadata": {
        "id": "ex28SwUthTW-"
      },
      "execution_count": 42,
      "outputs": []
    },
    {
      "cell_type": "code",
      "source": [
        "# for m in ['valid', 'test']:\n",
        "#   y_pred = model.predict(X[m])\n",
        "#   for metric in [accuracy_score, balanced_accuracy_score, roc_auc_score]:\n",
        "#     print(\"{} {} {:.3f}\".format(m, metric.__name__, metric(y[m], y_pred)))"
      ],
      "metadata": {
        "id": "4AKj-yAXhU_q"
      },
      "execution_count": 43,
      "outputs": []
    },
    {
      "cell_type": "markdown",
      "source": [
        "# attentive_fp"
      ],
      "metadata": {
        "id": "xo33TydwhWlR"
      }
    },
    {
      "cell_type": "code",
      "source": [
        "from torch_geometric.nn.models import AttentiveFP"
      ],
      "metadata": {
        "id": "dP4b3HrThbWt"
      },
      "execution_count": 45,
      "outputs": []
    },
    {
      "cell_type": "code",
      "source": [
        "node_dim = base_dataset[0].num_node_features\n",
        "edge_dim = base_dataset[0].num_edge_features\n",
        "node_dim, edge_dim"
      ],
      "metadata": {
        "colab": {
          "base_uri": "https://localhost:8080/"
        },
        "id": "dXL32TlJhlhk",
        "outputId": "186f4a1f-fed8-452a-b945-753c84e375c6"
      },
      "execution_count": 46,
      "outputs": [
        {
          "output_type": "execute_result",
          "data": {
            "text/plain": [
              "(4, 2)"
            ]
          },
          "metadata": {},
          "execution_count": 46
        }
      ]
    },
    {
      "cell_type": "code",
      "source": [
        "device = torch.device('cuda' if torch.cuda.is_available() else 'cpu')\n",
        "device"
      ],
      "metadata": {
        "colab": {
          "base_uri": "https://localhost:8080/"
        },
        "id": "stGrSNRthnF2",
        "outputId": "563cde08-dce3-4bfa-9398-8f6ea831d543"
      },
      "execution_count": 47,
      "outputs": [
        {
          "output_type": "execute_result",
          "data": {
            "text/plain": [
              "device(type='cpu')"
            ]
          },
          "metadata": {},
          "execution_count": 47
        }
      ]
    },
    {
      "cell_type": "code",
      "source": [
        "model = AttentiveFP(out_channels=2, # active or inactive\n",
        "                    in_channels=node_dim, edge_dim=edge_dim,\n",
        "                    hidden_channels=200, num_layers=3, num_timesteps=2,\n",
        "                    dropout=0.2)\n",
        "model = model.to(device)"
      ],
      "metadata": {
        "id": "FR7UFJQbhpQ_"
      },
      "execution_count": 48,
      "outputs": []
    },
    {
      "cell_type": "code",
      "source": [
        "train_epochs = 100\n",
        "optimizer = torch.optim.AdamW(model.parameters(), lr=1e-5)\n",
        "scheduler = torch.optim.lr_scheduler.OneCycleLR(optimizer, max_lr=1e-3, \\\n",
        "                                                steps_per_epoch=len(loader['train']),\n",
        "                                                epochs=train_epochs)\n",
        "criterion = nn.CrossEntropyLoss()"
      ],
      "metadata": {
        "id": "MZHOEv1-h1kV"
      },
      "execution_count": 49,
      "outputs": []
    },
    {
      "cell_type": "code",
      "source": [
        "def train(loader):\n",
        "    total_loss = total_examples = 0\n",
        "    for data in loader:\n",
        "        data = data.to(device)\n",
        "        optimizer.zero_grad()\n",
        "        out = model(data.x, data.edge_index, data.edge_attr, data.batch)\n",
        "        loss = criterion(out, data.y)\n",
        "        loss.backward()\n",
        "        optimizer.step()\n",
        "        scheduler.step()\n",
        "        total_loss += loss.item()\n",
        "        total_examples += data.num_graphs\n",
        "    return total_loss / total_examples\n",
        "\n",
        "@torch.no_grad()\n",
        "def test(loader):\n",
        "    total_loss = total_examples = 0\n",
        "    for data in loader:\n",
        "        data = data.to(device)\n",
        "        out = model(data.x, data.edge_index, data.edge_attr, data.batch)\n",
        "        loss = criterion(out, data.y)\n",
        "        total_loss += loss.item()\n",
        "        total_examples += data.num_graphs\n",
        "    return total_loss / total_examples\n",
        "\n",
        "@torch.no_grad()\n",
        "def predict(loader):\n",
        "    y_pred = []\n",
        "    y_true = []\n",
        "    for data in loader:\n",
        "        data = data.to(device)\n",
        "        out = model(data.x, data.edge_index, data.edge_attr, data.batch)\n",
        "        _, predicted = torch.max(out.data, 1)\n",
        "        y_true.extend(data.y.cpu().numpy())\n",
        "        y_pred.extend(predicted.cpu().numpy())\n",
        "    return y_true, y_pred\n"
      ],
      "metadata": {
        "id": "WqGahvE0h2Ni"
      },
      "execution_count": 50,
      "outputs": []
    },
    {
      "cell_type": "code",
      "source": [
        "best_val = float(\"inf\")\n",
        "\n",
        "learn_curve = defaultdict(list)\n",
        "func = {'train': train, 'valid': test, 'test': test}\n",
        "\n",
        "for epoch in tqdm(range(1, train_epochs+1)):\n",
        "    loss = {}\n",
        "    for mode in ['train', 'valid', 'test']:\n",
        "      loss[mode] = func[mode](loader[mode])\n",
        "      learn_curve[mode].append(loss[mode])\n",
        "    if loss['valid'] < best_val:\n",
        "      torch.save(model.state_dict(), 'best_val.model')\n",
        "    if epoch % 20 == 0:\n",
        "      print(f'Epoch: {epoch:03d} Loss: ' + ' '.join(\n",
        "          ['{} {:.6f}'.format(m, loss[m]) for m in modes]\n",
        "      ))"
      ],
      "metadata": {
        "colab": {
          "base_uri": "https://localhost:8080/",
          "height": 245
        },
        "id": "CEo2wP5BiHMT",
        "outputId": "02946b71-8f88-4ee0-9612-532f7645ad6a"
      },
      "execution_count": 1,
      "outputs": [
        {
          "output_type": "error",
          "ename": "NameError",
          "evalue": "ignored",
          "traceback": [
            "\u001b[0;31m---------------------------------------------------------------------------\u001b[0m",
            "\u001b[0;31mNameError\u001b[0m                                 Traceback (most recent call last)",
            "\u001b[0;32m<ipython-input-1-99b2008296e6>\u001b[0m in \u001b[0;36m<cell line: 3>\u001b[0;34m()\u001b[0m\n\u001b[1;32m      1\u001b[0m \u001b[0mbest_val\u001b[0m \u001b[0;34m=\u001b[0m \u001b[0mfloat\u001b[0m\u001b[0;34m(\u001b[0m\u001b[0;34m\"inf\"\u001b[0m\u001b[0;34m)\u001b[0m\u001b[0;34m\u001b[0m\u001b[0;34m\u001b[0m\u001b[0m\n\u001b[1;32m      2\u001b[0m \u001b[0;34m\u001b[0m\u001b[0m\n\u001b[0;32m----> 3\u001b[0;31m \u001b[0mlearn_curve\u001b[0m \u001b[0;34m=\u001b[0m \u001b[0mdefaultdict\u001b[0m\u001b[0;34m(\u001b[0m\u001b[0mlist\u001b[0m\u001b[0;34m)\u001b[0m\u001b[0;34m\u001b[0m\u001b[0;34m\u001b[0m\u001b[0m\n\u001b[0m\u001b[1;32m      4\u001b[0m \u001b[0mfunc\u001b[0m \u001b[0;34m=\u001b[0m \u001b[0;34m{\u001b[0m\u001b[0;34m'train'\u001b[0m\u001b[0;34m:\u001b[0m \u001b[0mtrain\u001b[0m\u001b[0;34m,\u001b[0m \u001b[0;34m'valid'\u001b[0m\u001b[0;34m:\u001b[0m \u001b[0mtest\u001b[0m\u001b[0;34m,\u001b[0m \u001b[0;34m'test'\u001b[0m\u001b[0;34m:\u001b[0m \u001b[0mtest\u001b[0m\u001b[0;34m}\u001b[0m\u001b[0;34m\u001b[0m\u001b[0;34m\u001b[0m\u001b[0m\n\u001b[1;32m      5\u001b[0m \u001b[0;34m\u001b[0m\u001b[0m\n",
            "\u001b[0;31mNameError\u001b[0m: name 'defaultdict' is not defined"
          ]
        }
      ]
    },
    {
      "cell_type": "code",
      "source": [
        "fig, ax = plt.subplots()\n",
        "for m in modes:\n",
        "  ax.plot(learn_curve[m], label=m)\n",
        "ax.legend()\n",
        "ax.set_xlabel('epochs')\n",
        "ax.set_ylabel('loss')\n",
        "ax.set_yscale('log')\n",
        "plt.show()"
      ],
      "metadata": {
        "id": "OJXKzvU3iJ7J"
      },
      "execution_count": null,
      "outputs": []
    },
    {
      "cell_type": "code",
      "source": [
        "model.load_state_dict(torch.load('best_val.model'))\n",
        "\n",
        "for m in ['valid', 'test']:\n",
        "  y_true, y_pred = predict(loader[m])\n",
        "  for metric in [accuracy_score, balanced_accuracy_score, roc_auc_score]:\n",
        "    print(\"{} {} {:.3f}\".format(m, metric.__name__, metric(y_true, y_pred)))"
      ],
      "metadata": {
        "id": "6jQXenEWiL48"
      },
      "execution_count": null,
      "outputs": []
    },
    {
      "cell_type": "markdown",
      "source": [
        "# gin & gatv2 with edge_attr"
      ],
      "metadata": {
        "id": "ssel6j5EijJZ"
      }
    },
    {
      "cell_type": "code",
      "source": [
        "from torch_geometric.nn import GINEConv, GATv2Conv, global_add_pool"
      ],
      "metadata": {
        "id": "Z-kbDnLmijqi"
      },
      "execution_count": null,
      "outputs": []
    },
    {
      "cell_type": "code",
      "source": [
        "def MyConv(node_dim, edge_dim, arch='GIN'):\n",
        "  conv = None\n",
        "  if arch == 'GIN':\n",
        "    h = nn.Sequential(nn.Linear(node_dim, node_dim, bias=True))\n",
        "    conv = GINEConv(h, edge_dim=edge_dim)\n",
        "  elif arch == 'GAT':\n",
        "    conv = GATv2Conv(node_dim, node_dim, edge_dim=edge_dim)\n",
        "  return conv"
      ],
      "metadata": {
        "id": "Fb8UX7t-ilou"
      },
      "execution_count": null,
      "outputs": []
    },
    {
      "cell_type": "code",
      "source": [
        "class MyGNN(nn.Module):\n",
        "  def __init__(self, node_dim, edge_dim, arch, num_layers=3):\n",
        "    super().__init__()\n",
        "    layers = [MyConv(node_dim, edge_dim, arch) for _ in range(num_layers)]\n",
        "    self.convs = nn.ModuleList(layers)\n",
        "\n",
        "  def forward(self, x, edge_index, edge_attr):\n",
        "    for conv in self.convs:\n",
        "      x = conv(x, edge_index, edge_attr)\n",
        "      x = F.leaky_relu(x)\n",
        "    return x"
      ],
      "metadata": {
        "id": "RJLkx0swiwEg"
      },
      "execution_count": null,
      "outputs": []
    },
    {
      "cell_type": "code",
      "source": [
        "[int(x) for x in Chem.rdchem.BondType.names.values()]"
      ],
      "metadata": {
        "id": "9Dq0tALLi2nr"
      },
      "execution_count": null,
      "outputs": []
    },
    {
      "cell_type": "code",
      "source": [
        "ptable = Chem.GetPeriodicTable()\n",
        "for i in range(200):\n",
        "  try:\n",
        "    s = ptable.GetElementSymbol(i)\n",
        "  except:\n",
        "    print(f'max id {i-1} for {s}')\n",
        "    break\n",
        "ptable.GetElementSymbol(i-1)"
      ],
      "metadata": {
        "id": "CCyjdtiEi2_0"
      },
      "execution_count": null,
      "outputs": []
    },
    {
      "cell_type": "code",
      "source": [
        "class MyFinalNetwork(nn.Module):\n",
        "  def __init__(self, node_dim, edge_dim, arch, num_layers=3,\n",
        "               encoding='onehot'):\n",
        "    super().__init__()\n",
        "\n",
        "    self.encoding = encoding\n",
        "    if encoding != 'onehot':\n",
        "      self.atom_encoder = nn.Embedding(num_embeddings=118+1, embedding_dim=64)\n",
        "      self.bond_encoder = nn.Embedding(num_embeddings=21+1, embedding_dim=8)\n",
        "      node_dim = (node_dim-1) + 64\n",
        "      edge_dim = (edge_dim-1) + 8\n",
        "    else:\n",
        "      node_dim = (node_dim-1) + 118+1\n",
        "      edge_dim = (edge_dim-1) + 21+1\n",
        "\n",
        "    self.gnn = MyGNN(node_dim, edge_dim, arch, num_layers=num_layers)\n",
        "    embed_dim = int(node_dim / 2)\n",
        "    self.head = nn.Sequential(\n",
        "        nn.BatchNorm1d(node_dim),\n",
        "        nn.Dropout(p=0.5),\n",
        "        nn.Linear(node_dim, embed_dim, bias=True),\n",
        "        nn.ReLU(),\n",
        "        nn.BatchNorm1d(embed_dim),\n",
        "        nn.Dropout(p=0.5),\n",
        "        nn.Linear(embed_dim, 2)\n",
        "    )\n",
        "  def forward(self, x, edge_index, edge_attr, batch):\n",
        "    if self.encoding == 'onehot':\n",
        "      x0 = F.one_hot(x[:, 0].to(torch.int64), num_classes=118+1)\n",
        "      edge_attr0 = F.one_hot(edge_attr[:, 0].to(torch.int64), num_classes=21+1)\n",
        "    else:\n",
        "      x0 = self.atom_encoder(x[:, 0].int())\n",
        "      edge_attr0 = self.bond_encoder(edge_attr[:, 0].int())\n",
        "\n",
        "    x = torch.cat([x0, x[:, 1:]], dim=1)\n",
        "    edge_attr = torch.cat([edge_attr0, edge_attr[:, 1:]], dim=1)\n",
        "\n",
        "    node_out = self.gnn(x, edge_index, edge_attr)\n",
        "    graph_out = global_add_pool(node_out, batch)\n",
        "    return self.head(graph_out)"
      ],
      "metadata": {
        "id": "reAjD8jIi5cm"
      },
      "execution_count": null,
      "outputs": []
    },
    {
      "cell_type": "code",
      "source": [
        "model = MyFinalNetwork(node_dim, edge_dim, arch='GAT', num_layers=3, encoding='embedding')\n",
        "model = model.to(device)"
      ],
      "metadata": {
        "id": "JJ0x2IUUjOOA"
      },
      "execution_count": null,
      "outputs": []
    },
    {
      "cell_type": "code",
      "source": [
        "train_epochs = 200\n",
        "optimizer = torch.optim.AdamW(model.parameters(), lr=1e-5)\n",
        "scheduler = torch.optim.lr_scheduler.OneCycleLR(optimizer, max_lr=1e-3, \\\n",
        "                                                steps_per_epoch=len(loader['train']),\n",
        "                                                epochs=train_epochs)\n",
        "criterion = nn.CrossEntropyLoss()"
      ],
      "metadata": {
        "id": "iBOi98otjTTV"
      },
      "execution_count": null,
      "outputs": []
    },
    {
      "cell_type": "code",
      "source": [
        "best_val = float(\"inf\")\n",
        "\n",
        "learn_curve = defaultdict(list)\n",
        "func = {'train': train, 'valid': test, 'test': test}\n",
        "\n",
        "for epoch in tqdm(range(1, train_epochs+1)):\n",
        "    loss = {}\n",
        "    for mode in ['train', 'valid', 'test']:\n",
        "      loss[mode] = func[mode](loader[mode])\n",
        "      learn_curve[mode].append(loss[mode])\n",
        "    if loss['valid'] < best_val:\n",
        "      torch.save(model.state_dict(), 'best_val.model')\n",
        "    if epoch % 20 == 0:\n",
        "      print(f'Epoch: {epoch:03d} Loss: ' + ' '.join(\n",
        "          ['{} {:.6f}'.format(m, loss[m]) for m in modes]\n",
        "      ))"
      ],
      "metadata": {
        "id": "dL2qOSTsjVsh"
      },
      "execution_count": null,
      "outputs": []
    },
    {
      "cell_type": "code",
      "source": [
        "fig, ax = plt.subplots()\n",
        "for m in modes:\n",
        "  ax.plot(learn_curve[m], label=m)\n",
        "ax.legend()\n",
        "ax.set_xlabel('epochs')\n",
        "ax.set_ylabel('loss')\n",
        "ax.set_yscale('log')\n",
        "plt.show()"
      ],
      "metadata": {
        "id": "30CzQc9PjWLU"
      },
      "execution_count": null,
      "outputs": []
    },
    {
      "cell_type": "code",
      "source": [
        "model.load_state_dict(torch.load('best_val.model'))\n",
        "\n",
        "for m in ['valid', 'test']:\n",
        "  y_true, y_pred = predict(loader[m])\n",
        "  for metric in [accuracy_score, balanced_accuracy_score, roc_auc_score]:\n",
        "    print(\"{} {} {:.3f}\".format(m, metric.__name__, metric(y_true, y_pred)))"
      ],
      "metadata": {
        "id": "kGkAa7anjX6S"
      },
      "execution_count": null,
      "outputs": []
    },
    {
      "cell_type": "code",
      "source": [],
      "metadata": {
        "id": "WXEhrw-krDEE"
      },
      "execution_count": null,
      "outputs": []
    }
  ]
}