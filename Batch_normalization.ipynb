{
  "nbformat": 4,
  "nbformat_minor": 0,
  "metadata": {
    "colab": {
      "provenance": [],
      "gpuType": "T4",
      "authorship_tag": "ABX9TyOXc97Axx2yNUXp++BfuOw3",
      "include_colab_link": true
    },
    "kernelspec": {
      "name": "python3",
      "display_name": "Python 3"
    },
    "language_info": {
      "name": "python"
    },
    "accelerator": "GPU"
  },
  "cells": [
    {
      "cell_type": "markdown",
      "metadata": {
        "id": "view-in-github",
        "colab_type": "text"
      },
      "source": [
        "<a href=\"https://colab.research.google.com/github/ankit-singh973/Deep_Learning/blob/main/Batch_normalization.ipynb\" target=\"_parent\"><img src=\"https://colab.research.google.com/assets/colab-badge.svg\" alt=\"Open In Colab\"/></a>"
      ]
    },
    {
      "cell_type": "markdown",
      "source": [
        "# **Observing results before and after Batch Normalization**"
      ],
      "metadata": {
        "id": "Zf10A__XmKeD"
      }
    },
    {
      "cell_type": "markdown",
      "source": [
        "## **Before applying Batch normalization**"
      ],
      "metadata": {
        "id": "Ld1ykXsgmTnR"
      }
    },
    {
      "cell_type": "code",
      "execution_count": 1,
      "metadata": {
        "id": "OwHCuL9peHCX"
      },
      "outputs": [],
      "source": [
        "# importing necessary libraries\n",
        "import os\n",
        "import tensorflow as tf\n",
        "import numpy as np\n",
        "import pandas as pd\n",
        "import matplotlib.pyplot as plt\n",
        "import seaborn as sns\n",
        "import time\n",
        "plt.style.use(\"fivethirtyeight\")\n",
        "%load_ext tensorboard"
      ]
    },
    {
      "cell_type": "code",
      "source": [
        "#loading the data of fashion_mnist\n",
        "(X_train_full, y_train_full), (X_test, y_test) = tf.keras.datasets.fashion_mnist.load_data()\n",
        "X_train_full = X_train_full / 255.0\n",
        "X_test = X_test / 255.0\n",
        "X_valid , X_train = X_train_full[:5000], X_train_full[5000:]\n",
        "y_valid, y_train = y_train_full[:5000], y_train_full[5000:]"
      ],
      "metadata": {
        "colab": {
          "base_uri": "https://localhost:8080/"
        },
        "id": "348_cB_hnBdI",
        "outputId": "2c207a23-800a-44e9-a602-d580137e2ac7"
      },
      "execution_count": 2,
      "outputs": [
        {
          "output_type": "stream",
          "name": "stdout",
          "text": [
            "Downloading data from https://storage.googleapis.com/tensorflow/tf-keras-datasets/train-labels-idx1-ubyte.gz\n",
            "29515/29515 [==============================] - 0s 0us/step\n",
            "Downloading data from https://storage.googleapis.com/tensorflow/tf-keras-datasets/train-images-idx3-ubyte.gz\n",
            "26421880/26421880 [==============================] - 0s 0us/step\n",
            "Downloading data from https://storage.googleapis.com/tensorflow/tf-keras-datasets/t10k-labels-idx1-ubyte.gz\n",
            "5148/5148 [==============================] - 0s 0us/step\n",
            "Downloading data from https://storage.googleapis.com/tensorflow/tf-keras-datasets/t10k-images-idx3-ubyte.gz\n",
            "4422102/4422102 [==============================] - 0s 0us/step\n"
          ]
        }
      ]
    },
    {
      "cell_type": "code",
      "source": [
        "#creating layer of model\n",
        "tf.random.set_seed(42)\n",
        "np.random.seed(42)\n",
        "\n",
        "LAYERS = [\n",
        "    tf.keras.layers.Flatten(input_shape = [28,28]),\n",
        "    tf.keras.layers.Dense(300, kernel_initializer=\"he_normal\"),\n",
        "    tf.keras.layers.LeakyReLU(),\n",
        "    tf.keras.layers.Dense(100, kernel_initializer='he_normal'),\n",
        "    tf.keras.layers.LeakyReLU(),\n",
        "    tf.keras.layers.Dense(10, activation = 'softmax')\n",
        "]\n",
        "\n",
        "model = tf.keras.models.Sequential(LAYERS)"
      ],
      "metadata": {
        "id": "FA2P7q7QoBC0"
      },
      "execution_count": 3,
      "outputs": []
    },
    {
      "cell_type": "code",
      "source": [
        "# compiling the model\n",
        "model.compile(loss = \"sparse_categorical_crossentropy\",\n",
        "              optimizer = tf.keras.optimizers.SGD(learning_rate = 1e-3),\n",
        "              metrics = [\"accuracy\"])\n"
      ],
      "metadata": {
        "id": "6LX40lGSqdCM"
      },
      "execution_count": 4,
      "outputs": []
    },
    {
      "cell_type": "code",
      "source": [
        "model.summary()"
      ],
      "metadata": {
        "colab": {
          "base_uri": "https://localhost:8080/"
        },
        "id": "W7AHkO3HrHVk",
        "outputId": "4ae9a82b-c3b2-4506-a50b-2e4d8adb84ec"
      },
      "execution_count": 5,
      "outputs": [
        {
          "output_type": "stream",
          "name": "stdout",
          "text": [
            "Model: \"sequential\"\n",
            "_________________________________________________________________\n",
            " Layer (type)                Output Shape              Param #   \n",
            "=================================================================\n",
            " flatten (Flatten)           (None, 784)               0         \n",
            "                                                                 \n",
            " dense (Dense)               (None, 300)               235500    \n",
            "                                                                 \n",
            " leaky_re_lu (LeakyReLU)     (None, 300)               0         \n",
            "                                                                 \n",
            " dense_1 (Dense)             (None, 100)               30100     \n",
            "                                                                 \n",
            " leaky_re_lu_1 (LeakyReLU)   (None, 100)               0         \n",
            "                                                                 \n",
            " dense_2 (Dense)             (None, 10)                1010      \n",
            "                                                                 \n",
            "=================================================================\n",
            "Total params: 266610 (1.02 MB)\n",
            "Trainable params: 266610 (1.02 MB)\n",
            "Non-trainable params: 0 (0.00 Byte)\n",
            "_________________________________________________________________\n"
          ]
        }
      ]
    },
    {
      "cell_type": "code",
      "source": [
        "# now training and calculating the training time.\n",
        "\n",
        "# starting time\n",
        "start = time.time()\n",
        "\n",
        "history = model.fit(X_train, y_train, epochs = 10,\n",
        "                    validation_data = (X_valid, y_valid), verbose = 2)\n",
        "\n",
        "#ending time\n",
        "end = time.time()\n",
        "\n",
        "#total time taken\n",
        "print(f\"Training time of model is {end - start}\")"
      ],
      "metadata": {
        "colab": {
          "base_uri": "https://localhost:8080/"
        },
        "id": "icVRXmN4rSPc",
        "outputId": "22d65a9a-1890-4dda-bcc6-5a044a665d66"
      },
      "execution_count": 6,
      "outputs": [
        {
          "output_type": "stream",
          "name": "stdout",
          "text": [
            "Epoch 1/10\n",
            "1719/1719 - 10s - loss: 1.2661 - accuracy: 0.6017 - val_loss: 0.8782 - val_accuracy: 0.7070 - 10s/epoch - 6ms/step\n",
            "Epoch 2/10\n",
            "1719/1719 - 5s - loss: 0.7918 - accuracy: 0.7337 - val_loss: 0.7104 - val_accuracy: 0.7630 - 5s/epoch - 3ms/step\n",
            "Epoch 3/10\n",
            "1719/1719 - 6s - loss: 0.6803 - accuracy: 0.7729 - val_loss: 0.6402 - val_accuracy: 0.7928 - 6s/epoch - 4ms/step\n",
            "Epoch 4/10\n",
            "1719/1719 - 5s - loss: 0.6211 - accuracy: 0.7927 - val_loss: 0.5877 - val_accuracy: 0.8080 - 5s/epoch - 3ms/step\n",
            "Epoch 5/10\n",
            "1719/1719 - 5s - loss: 0.5828 - accuracy: 0.8055 - val_loss: 0.5552 - val_accuracy: 0.8190 - 5s/epoch - 3ms/step\n",
            "Epoch 6/10\n",
            "1719/1719 - 6s - loss: 0.5550 - accuracy: 0.8137 - val_loss: 0.5319 - val_accuracy: 0.8240 - 6s/epoch - 3ms/step\n",
            "Epoch 7/10\n",
            "1719/1719 - 6s - loss: 0.5336 - accuracy: 0.8205 - val_loss: 0.5118 - val_accuracy: 0.8334 - 6s/epoch - 3ms/step\n",
            "Epoch 8/10\n",
            "1719/1719 - 6s - loss: 0.5172 - accuracy: 0.8253 - val_loss: 0.5041 - val_accuracy: 0.8326 - 6s/epoch - 3ms/step\n",
            "Epoch 9/10\n",
            "1719/1719 - 5s - loss: 0.5038 - accuracy: 0.8293 - val_loss: 0.4865 - val_accuracy: 0.8392 - 5s/epoch - 3ms/step\n",
            "Epoch 10/10\n",
            "1719/1719 - 5s - loss: 0.4924 - accuracy: 0.8327 - val_loss: 0.4784 - val_accuracy: 0.8406 - 5s/epoch - 3ms/step\n",
            "Training time of model is 82.89849972724915\n"
          ]
        }
      ]
    },
    {
      "cell_type": "markdown",
      "source": [
        "# **Conclusion**\n",
        "\n",
        "> - Runtime of the program is 82.89 sec\n",
        "> - accuracy is 0.8406"
      ],
      "metadata": {
        "id": "THExy_9utdEC"
      }
    },
    {
      "cell_type": "markdown",
      "source": [
        "## **After applying batch normalization**"
      ],
      "metadata": {
        "id": "uGONADcluBqa"
      }
    },
    {
      "cell_type": "code",
      "source": [
        "# delete previous model\n",
        "del model"
      ],
      "metadata": {
        "id": "3dtJxfxztMj2"
      },
      "execution_count": 6,
      "outputs": []
    },
    {
      "cell_type": "code",
      "source": [
        "LAYERS_BN = [\n",
        "    tf.keras.layers.Flatten(input_shape = [28,28]),\n",
        "    tf.keras.layers.BatchNormalization(),\n",
        "    tf.keras.layers.Dense(300, activation = \"relu\"),\n",
        "    tf.keras.layers.BatchNormalization(),\n",
        "    tf.keras.layers.Dense(100, activation = \"relu\"),\n",
        "    tf.keras.layers.BatchNormalization(),\n",
        "    tf.keras.layers.Dense(10, activation = 'softmax')\n",
        "]\n",
        "\n",
        "model = tf.keras.models.Sequential(LAYERS_BN)"
      ],
      "metadata": {
        "id": "zASLn4y-s0qR"
      },
      "execution_count": 7,
      "outputs": []
    },
    {
      "cell_type": "code",
      "source": [
        "model.summary()"
      ],
      "metadata": {
        "colab": {
          "base_uri": "https://localhost:8080/"
        },
        "id": "R8rUb98CtKKf",
        "outputId": "5ad6c7b5-2726-44d4-a07f-015af544a6eb"
      },
      "execution_count": 8,
      "outputs": [
        {
          "output_type": "stream",
          "name": "stdout",
          "text": [
            "Model: \"sequential_1\"\n",
            "_________________________________________________________________\n",
            " Layer (type)                Output Shape              Param #   \n",
            "=================================================================\n",
            " flatten_1 (Flatten)         (None, 784)               0         \n",
            "                                                                 \n",
            " batch_normalization (Batch  (None, 784)               3136      \n",
            " Normalization)                                                  \n",
            "                                                                 \n",
            " dense_3 (Dense)             (None, 300)               235500    \n",
            "                                                                 \n",
            " batch_normalization_1 (Bat  (None, 300)               1200      \n",
            " chNormalization)                                                \n",
            "                                                                 \n",
            " dense_4 (Dense)             (None, 100)               30100     \n",
            "                                                                 \n",
            " batch_normalization_2 (Bat  (None, 100)               400       \n",
            " chNormalization)                                                \n",
            "                                                                 \n",
            " dense_5 (Dense)             (None, 10)                1010      \n",
            "                                                                 \n",
            "=================================================================\n",
            "Total params: 271346 (1.04 MB)\n",
            "Trainable params: 268978 (1.03 MB)\n",
            "Non-trainable params: 2368 (9.25 KB)\n",
            "_________________________________________________________________\n"
          ]
        }
      ]
    },
    {
      "cell_type": "code",
      "source": [
        "bn1 = model.layers[1]"
      ],
      "metadata": {
        "id": "_3Mo_dKKxswM"
      },
      "execution_count": 10,
      "outputs": []
    },
    {
      "cell_type": "code",
      "source": [
        "for variable in bn1.variables:\n",
        "  print(variable.name, variable.trainable)"
      ],
      "metadata": {
        "colab": {
          "base_uri": "https://localhost:8080/"
        },
        "id": "28sUIow8xss1",
        "outputId": "419e510c-41c0-4e61-df92-5dc85f5f4f89"
      },
      "execution_count": 12,
      "outputs": [
        {
          "output_type": "stream",
          "name": "stdout",
          "text": [
            "batch_normalization/gamma:0 True\n",
            "batch_normalization/beta:0 True\n",
            "batch_normalization/moving_mean:0 False\n",
            "batch_normalization/moving_variance:0 False\n"
          ]
        }
      ]
    },
    {
      "cell_type": "code",
      "source": [
        "model.compile(loss = \"sparse_categorical_crossentropy\",\n",
        "              optimizer = tf.keras.optimizers.SGD(learning_rate = 1e-3),\n",
        "              metrics = [\"accuracy\"])"
      ],
      "metadata": {
        "id": "s0IeHFPuxsqH"
      },
      "execution_count": 13,
      "outputs": []
    },
    {
      "cell_type": "code",
      "source": [
        " # training and calculating the training time\n",
        "\n",
        "# starting time\n",
        "start = time.time()\n",
        "\n",
        "history = model.fit(X_train, y_train, epochs = 10,\n",
        "                    validation_data = (X_valid, y_valid), verbose = 2)\n",
        "\n",
        "# ending time\n",
        "end = time.time()\n",
        "\n",
        "#total time taken\n",
        "print(f\"Runtime of this program is {end-start}\")"
      ],
      "metadata": {
        "colab": {
          "base_uri": "https://localhost:8080/"
        },
        "id": "SLiP3Y1itIjg",
        "outputId": "f23eac71-ec97-4d57-999d-0630c3470f30"
      },
      "execution_count": 14,
      "outputs": [
        {
          "output_type": "stream",
          "name": "stdout",
          "text": [
            "Epoch 1/10\n",
            "1719/1719 - 9s - loss: 0.8575 - accuracy: 0.7160 - val_loss: 0.5587 - val_accuracy: 0.8170 - 9s/epoch - 5ms/step\n",
            "Epoch 2/10\n",
            "1719/1719 - 7s - loss: 0.5779 - accuracy: 0.8013 - val_loss: 0.4781 - val_accuracy: 0.8418 - 7s/epoch - 4ms/step\n",
            "Epoch 3/10\n",
            "1719/1719 - 8s - loss: 0.5219 - accuracy: 0.8190 - val_loss: 0.4439 - val_accuracy: 0.8506 - 8s/epoch - 5ms/step\n",
            "Epoch 4/10\n",
            "1719/1719 - 7s - loss: 0.4811 - accuracy: 0.8321 - val_loss: 0.4208 - val_accuracy: 0.8564 - 7s/epoch - 4ms/step\n",
            "Epoch 5/10\n",
            "1719/1719 - 7s - loss: 0.4551 - accuracy: 0.8397 - val_loss: 0.4060 - val_accuracy: 0.8596 - 7s/epoch - 4ms/step\n",
            "Epoch 6/10\n",
            "1719/1719 - 7s - loss: 0.4388 - accuracy: 0.8450 - val_loss: 0.3934 - val_accuracy: 0.8636 - 7s/epoch - 4ms/step\n",
            "Epoch 7/10\n",
            "1719/1719 - 7s - loss: 0.4254 - accuracy: 0.8509 - val_loss: 0.3830 - val_accuracy: 0.8672 - 7s/epoch - 4ms/step\n",
            "Epoch 8/10\n",
            "1719/1719 - 7s - loss: 0.4134 - accuracy: 0.8536 - val_loss: 0.3774 - val_accuracy: 0.8694 - 7s/epoch - 4ms/step\n",
            "Epoch 9/10\n",
            "1719/1719 - 6s - loss: 0.4032 - accuracy: 0.8570 - val_loss: 0.3693 - val_accuracy: 0.8690 - 6s/epoch - 4ms/step\n",
            "Epoch 10/10\n",
            "1719/1719 - 7s - loss: 0.3922 - accuracy: 0.8611 - val_loss: 0.3636 - val_accuracy: 0.8712 - 7s/epoch - 4ms/step\n",
            "Runtime of this program is 83.6314287185669\n"
          ]
        }
      ]
    },
    {
      "cell_type": "code",
      "source": [],
      "metadata": {
        "id": "Zbg_ubyPtIW-"
      },
      "execution_count": null,
      "outputs": []
    }
  ]
}