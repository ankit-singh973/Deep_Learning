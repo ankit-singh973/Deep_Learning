{
  "nbformat": 4,
  "nbformat_minor": 0,
  "metadata": {
    "colab": {
      "provenance": [],
      "gpuType": "T4",
      "authorship_tag": "ABX9TyN1ifkxLZf2jnC+fgzTztjy",
      "include_colab_link": true
    },
    "kernelspec": {
      "name": "python3",
      "display_name": "Python 3"
    },
    "language_info": {
      "name": "python"
    },
    "accelerator": "GPU"
  },
  "cells": [
    {
      "cell_type": "markdown",
      "metadata": {
        "id": "view-in-github",
        "colab_type": "text"
      },
      "source": [
        "<a href=\"https://colab.research.google.com/github/ankit-singh973/Deep_Learning/blob/main/Pytorch.ipynb\" target=\"_parent\"><img src=\"https://colab.research.google.com/assets/colab-badge.svg\" alt=\"Open In Colab\"/></a>"
      ]
    },
    {
      "cell_type": "markdown",
      "source": [
        "# **Pytorch**"
      ],
      "metadata": {
        "id": "6xaRwzDSx1tw"
      }
    },
    {
      "cell_type": "code",
      "execution_count": null,
      "metadata": {
        "id": "o-SWPDRkmUtt"
      },
      "outputs": [],
      "source": [
        "#pip install torch torchvision torchaudio --index-url https://download.pytorch.org/whl/cu118"
      ]
    },
    {
      "cell_type": "code",
      "source": [
        "import torch"
      ],
      "metadata": {
        "id": "-eSuABvjy7w_"
      },
      "execution_count": null,
      "outputs": []
    },
    {
      "cell_type": "markdown",
      "source": [
        "## **Tensors**"
      ],
      "metadata": {
        "id": "-u0RA4G1zNe3"
      }
    },
    {
      "cell_type": "code",
      "source": [
        "t1 = torch.tensor(4.)"
      ],
      "metadata": {
        "id": "q9hzWu5TzJ2V"
      },
      "execution_count": null,
      "outputs": []
    },
    {
      "cell_type": "code",
      "source": [
        "t1"
      ],
      "metadata": {
        "colab": {
          "base_uri": "https://localhost:8080/"
        },
        "id": "SW7Mz0t7zZpy",
        "outputId": "26db2d63-2eda-4f2e-b610-a779b8ad271b"
      },
      "execution_count": null,
      "outputs": [
        {
          "output_type": "execute_result",
          "data": {
            "text/plain": [
              "tensor(4.)"
            ]
          },
          "metadata": {},
          "execution_count": 4
        }
      ]
    },
    {
      "cell_type": "code",
      "source": [
        "t1.dtype"
      ],
      "metadata": {
        "colab": {
          "base_uri": "https://localhost:8080/"
        },
        "id": "ussXv9EnzaPi",
        "outputId": "4df2461b-7ddb-449a-d1cc-223a72fd3528"
      },
      "execution_count": null,
      "outputs": [
        {
          "output_type": "execute_result",
          "data": {
            "text/plain": [
              "torch.float32"
            ]
          },
          "metadata": {},
          "execution_count": 5
        }
      ]
    },
    {
      "cell_type": "code",
      "source": [
        "#vector\n",
        "t2 = torch.tensor([1.,2.,3.])\n",
        "t2"
      ],
      "metadata": {
        "colab": {
          "base_uri": "https://localhost:8080/"
        },
        "id": "GHMN9ByYzcra",
        "outputId": "921f4cd1-9e41-4232-f7ac-49b371070dca"
      },
      "execution_count": null,
      "outputs": [
        {
          "output_type": "execute_result",
          "data": {
            "text/plain": [
              "tensor([1., 2., 3.])"
            ]
          },
          "metadata": {},
          "execution_count": 6
        }
      ]
    },
    {
      "cell_type": "code",
      "source": [
        "t3 = torch.tensor([[5., 6.],\n",
        "                   [7., 8.],\n",
        "                   [9., 10.]])\n",
        "t3"
      ],
      "metadata": {
        "colab": {
          "base_uri": "https://localhost:8080/"
        },
        "id": "_FGPMB1zzwE9",
        "outputId": "e011b9e2-a45e-4f85-9609-7061dbc47b70"
      },
      "execution_count": null,
      "outputs": [
        {
          "output_type": "execute_result",
          "data": {
            "text/plain": [
              "tensor([[ 5.,  6.],\n",
              "        [ 7.,  8.],\n",
              "        [ 9., 10.]])"
            ]
          },
          "metadata": {},
          "execution_count": 7
        }
      ]
    },
    {
      "cell_type": "code",
      "source": [
        "t3.numpy()"
      ],
      "metadata": {
        "colab": {
          "base_uri": "https://localhost:8080/"
        },
        "id": "KIbF1rZU0DVV",
        "outputId": "c6c5a608-139c-47dc-9832-5f94a39864af"
      },
      "execution_count": null,
      "outputs": [
        {
          "output_type": "execute_result",
          "data": {
            "text/plain": [
              "array([[ 5.,  6.],\n",
              "       [ 7.,  8.],\n",
              "       [ 9., 10.]], dtype=float32)"
            ]
          },
          "metadata": {},
          "execution_count": 8
        }
      ]
    },
    {
      "cell_type": "code",
      "source": [
        "#if we want to check the shape of the tensor `.shape()` is used\n",
        "print(t1, '\\n', t1.shape)\n",
        "print()\n",
        "print(t2, '\\n', t2.shape)\n",
        "print()\n",
        "print(t3, '\\n', t3.shape)"
      ],
      "metadata": {
        "colab": {
          "base_uri": "https://localhost:8080/"
        },
        "id": "09xANdoS0KKs",
        "outputId": "e1c3aaae-1645-4caa-dd69-320c82a2a126"
      },
      "execution_count": null,
      "outputs": [
        {
          "output_type": "stream",
          "name": "stdout",
          "text": [
            "tensor(4.) \n",
            " torch.Size([])\n",
            "\n",
            "tensor([1., 2., 3.]) \n",
            " torch.Size([3])\n",
            "\n",
            "tensor([[ 5.,  6.],\n",
            "        [ 7.,  8.],\n",
            "        [ 9., 10.]]) \n",
            " torch.Size([3, 2])\n"
          ]
        }
      ]
    },
    {
      "cell_type": "markdown",
      "source": [
        "# **Tensor operations and Gradients**"
      ],
      "metadata": {
        "id": "IH-2Na6R1jPW"
      }
    },
    {
      "cell_type": "markdown",
      "source": [
        "- We can combine tensors with the usual arithmetic operations. Let's look at example\n"
      ],
      "metadata": {
        "id": "Vxi-cOQc1qaE"
      }
    },
    {
      "cell_type": "code",
      "source": [
        "# create tensors\n",
        "\n",
        "x = torch.tensor(3.)\n",
        "w = torch.tensor(4., requires_grad = True)\n",
        "b = torch.tensor(5., requires_grad = True)\n",
        "\n",
        "x, w, b"
      ],
      "metadata": {
        "colab": {
          "base_uri": "https://localhost:8080/"
        },
        "id": "-fixV7iD0dil",
        "outputId": "69e17f15-4b1a-421d-f9c7-cd6d4a814cc7"
      },
      "execution_count": null,
      "outputs": [
        {
          "output_type": "execute_result",
          "data": {
            "text/plain": [
              "(tensor(3.), tensor(4., requires_grad=True), tensor(5., requires_grad=True))"
            ]
          },
          "metadata": {},
          "execution_count": 10
        }
      ]
    },
    {
      "cell_type": "code",
      "source": [
        "y = w*x +b\n",
        "y"
      ],
      "metadata": {
        "colab": {
          "base_uri": "https://localhost:8080/"
        },
        "id": "GZKZGIcj2O-R",
        "outputId": "c7b30515-7953-4fc7-f91c-7456f8f7a2a9"
      },
      "execution_count": null,
      "outputs": [
        {
          "output_type": "execute_result",
          "data": {
            "text/plain": [
              "tensor(17., grad_fn=<AddBackward0>)"
            ]
          },
          "metadata": {},
          "execution_count": 11
        }
      ]
    },
    {
      "cell_type": "markdown",
      "source": [
        "- ### What makes pytorch unique is that we can automatically compute the derivative of `y` w.r.t the tensors that have `requires_grad = True` i.e `w` & `b`.\n",
        "- This feature of pyorch is called `autograd`(automatic gradients).\n",
        "- To compute the derivatives, we can invoke the `.backward` method on our result `y`."
      ],
      "metadata": {
        "id": "DIEMMSDz2y_y"
      }
    },
    {
      "cell_type": "code",
      "source": [
        " # Compute derivatives\n",
        " y.backward()"
      ],
      "metadata": {
        "id": "L_UFlvpU2nW4"
      },
      "execution_count": null,
      "outputs": []
    },
    {
      "cell_type": "markdown",
      "source": [
        "- ### The derivatives of `y` with respect to the input tensors are stored in the `.grad` property of respective tensors."
      ],
      "metadata": {
        "id": "_8nut4gc7M-2"
      }
    },
    {
      "cell_type": "code",
      "source": [
        "# display gradients\n",
        "print('dy/dx: ', x.grad)\n",
        "print('dy/dw: ', w.grad)\n",
        "print('dy/db: ',b.grad)"
      ],
      "metadata": {
        "colab": {
          "base_uri": "https://localhost:8080/"
        },
        "id": "U18qy75v6lgu",
        "outputId": "af06e63e-c29e-4038-a543-e0806a3af517"
      },
      "execution_count": null,
      "outputs": [
        {
          "output_type": "stream",
          "name": "stdout",
          "text": [
            "dy/dx:  None\n",
            "dy/dw:  tensor(3.)\n",
            "dy/db:  tensor(1.)\n"
          ]
        }
      ]
    },
    {
      "cell_type": "markdown",
      "source": [
        "- As expected, `dy/dw` has the same value as x, i.e 3 and `dy/dw` has the value 1.\n",
        "- Note that `x.grad` is None because `x` dosen't have `requires_grad` set to `True`."
      ],
      "metadata": {
        "id": "Y9g2xAQT8YWT"
      }
    },
    {
      "cell_type": "markdown",
      "source": [
        "## **Tensor Functions**"
      ],
      "metadata": {
        "id": "4rq1hwaH9LG9"
      }
    },
    {
      "cell_type": "code",
      "source": [
        "# create a tensor with fixed value for every tensor\n",
        "t6 = torch.full((3, 2), 42)\n",
        "t6"
      ],
      "metadata": {
        "colab": {
          "base_uri": "https://localhost:8080/"
        },
        "id": "CUVqy8-V79dr",
        "outputId": "67b50513-7f5b-4990-b806-d66468cd9146"
      },
      "execution_count": null,
      "outputs": [
        {
          "output_type": "execute_result",
          "data": {
            "text/plain": [
              "tensor([[42, 42],\n",
              "        [42, 42],\n",
              "        [42, 42]])"
            ]
          },
          "metadata": {},
          "execution_count": 14
        }
      ]
    },
    {
      "cell_type": "code",
      "source": [
        "# concatenate two tensors with compatible shape\n",
        "print('shape of t3 is: ',t3.shape, '\\n')\n",
        "print('shape of t6 is: ', t6.shape, '\\n')\n",
        "t7 = torch.cat((t3, t6))\n",
        "t7"
      ],
      "metadata": {
        "colab": {
          "base_uri": "https://localhost:8080/"
        },
        "id": "m9FEv2Lk_yzZ",
        "outputId": "8af16f48-7723-43ec-f4bd-f5eb9a0407dc"
      },
      "execution_count": null,
      "outputs": [
        {
          "output_type": "stream",
          "name": "stdout",
          "text": [
            "shape of t3 is:  torch.Size([3, 2]) \n",
            "\n",
            "shape of t6 is:  torch.Size([3, 2]) \n",
            "\n"
          ]
        },
        {
          "output_type": "execute_result",
          "data": {
            "text/plain": [
              "tensor([[ 5.,  6.],\n",
              "        [ 7.,  8.],\n",
              "        [ 9., 10.],\n",
              "        [42., 42.],\n",
              "        [42., 42.],\n",
              "        [42., 42.]])"
            ]
          },
          "metadata": {},
          "execution_count": 15
        }
      ]
    },
    {
      "cell_type": "code",
      "source": [
        "# compute sin of each element\n",
        "t8 = torch.sin(t7)\n",
        "t8"
      ],
      "metadata": {
        "colab": {
          "base_uri": "https://localhost:8080/"
        },
        "id": "rOxtiBo5_jaN",
        "outputId": "184aa2bd-09d4-4e18-ad5b-dfe28f6c7066"
      },
      "execution_count": null,
      "outputs": [
        {
          "output_type": "execute_result",
          "data": {
            "text/plain": [
              "tensor([[-0.9589, -0.2794],\n",
              "        [ 0.6570,  0.9894],\n",
              "        [ 0.4121, -0.5440],\n",
              "        [-0.9165, -0.9165],\n",
              "        [-0.9165, -0.9165],\n",
              "        [-0.9165, -0.9165]])"
            ]
          },
          "metadata": {},
          "execution_count": 16
        }
      ]
    },
    {
      "cell_type": "code",
      "source": [
        "# change the shape of tensor\n",
        "t9 = t8.reshape(2, 3, 2)"
      ],
      "metadata": {
        "id": "ldJu-g_ZAPzB"
      },
      "execution_count": null,
      "outputs": []
    },
    {
      "cell_type": "code",
      "source": [
        "t9"
      ],
      "metadata": {
        "colab": {
          "base_uri": "https://localhost:8080/"
        },
        "id": "ELVPzcluBE3s",
        "outputId": "89c26833-00c9-454c-e276-9deb92f6b6f8"
      },
      "execution_count": null,
      "outputs": [
        {
          "output_type": "execute_result",
          "data": {
            "text/plain": [
              "tensor([[[-0.9589, -0.2794],\n",
              "         [ 0.6570,  0.9894],\n",
              "         [ 0.4121, -0.5440]],\n",
              "\n",
              "        [[-0.9165, -0.9165],\n",
              "         [-0.9165, -0.9165],\n",
              "         [-0.9165, -0.9165]]])"
            ]
          },
          "metadata": {},
          "execution_count": 18
        }
      ]
    },
    {
      "cell_type": "markdown",
      "source": [
        "# **Linear regression using Pytorch**"
      ],
      "metadata": {
        "id": "S-kbqFVRC-sq"
      }
    },
    {
      "cell_type": "code",
      "source": [
        "import numpy as np"
      ],
      "metadata": {
        "id": "CvChlUJ9BF5u"
      },
      "execution_count": null,
      "outputs": []
    },
    {
      "cell_type": "code",
      "source": [
        "# making training data\n",
        "# input (temp, rainfall, humidity)\n",
        "inputs = np.array([[73, 67, 43],\n",
        "                   [91, 88, 64],\n",
        "                   [87, 134, 58],\n",
        "                   [102, 43, 37],\n",
        "                   [69, 96, 70]], dtype = 'float32')"
      ],
      "metadata": {
        "id": "rV9K1SOoD1Su"
      },
      "execution_count": null,
      "outputs": []
    },
    {
      "cell_type": "code",
      "source": [
        "# Targets (apples, oranges)\n",
        "target = np.array([[56, 70],\n",
        "                   [81, 101],\n",
        "                   [119, 133],\n",
        "                   [22, 37],\n",
        "                   [103, 119]], dtype = 'float32')"
      ],
      "metadata": {
        "id": "a4MFFTfVEsZ8"
      },
      "execution_count": null,
      "outputs": []
    },
    {
      "cell_type": "code",
      "source": [
        "# convert input and target to tensors\n",
        "inputs = torch.from_numpy(inputs)\n",
        "target = torch.from_numpy(target)\n",
        "\n",
        "print(inputs, '\\n')\n",
        "print(target)"
      ],
      "metadata": {
        "colab": {
          "base_uri": "https://localhost:8080/"
        },
        "id": "3XhDKL4rFIbq",
        "outputId": "2fa1e100-27c7-4b0f-e937-cf0bcbe76bec"
      },
      "execution_count": null,
      "outputs": [
        {
          "output_type": "stream",
          "name": "stdout",
          "text": [
            "tensor([[ 73.,  67.,  43.],\n",
            "        [ 91.,  88.,  64.],\n",
            "        [ 87., 134.,  58.],\n",
            "        [102.,  43.,  37.],\n",
            "        [ 69.,  96.,  70.]]) \n",
            "\n",
            "tensor([[ 56.,  70.],\n",
            "        [ 81., 101.],\n",
            "        [119., 133.],\n",
            "        [ 22.,  37.],\n",
            "        [103., 119.]])\n"
          ]
        }
      ]
    },
    {
      "cell_type": "code",
      "source": [
        "# weights and biases\n",
        "w = torch.randn(2,3, requires_grad = True)\n",
        "b = torch.randn(2, requires_grad = True)\n",
        "\n",
        "print(w, '\\n')\n",
        "print(b)"
      ],
      "metadata": {
        "colab": {
          "base_uri": "https://localhost:8080/"
        },
        "id": "4tMrtdvyFkmJ",
        "outputId": "8edad5a9-664e-4ac5-a473-f11302b33413"
      },
      "execution_count": null,
      "outputs": [
        {
          "output_type": "stream",
          "name": "stdout",
          "text": [
            "tensor([[-1.1523, -0.6240, -0.7516],\n",
            "        [ 0.2067,  0.5823,  0.6412]], requires_grad=True) \n",
            "\n",
            "tensor([ 1.1364, -0.3363], requires_grad=True)\n"
          ]
        }
      ]
    },
    {
      "cell_type": "code",
      "source": [
        "# define the model\n",
        "\n",
        "def model(x):\n",
        "  return x @ w.t()+b"
      ],
      "metadata": {
        "id": "O9wQ-lyVGi-E"
      },
      "execution_count": null,
      "outputs": []
    },
    {
      "cell_type": "code",
      "source": [
        "# prediction\n",
        "preds = model(inputs)\n",
        "print(preds)"
      ],
      "metadata": {
        "colab": {
          "base_uri": "https://localhost:8080/"
        },
        "id": "MJGJxVLeKQmy",
        "outputId": "4c5e76bc-fe67-4b86-98fb-8a083cea0ad7"
      },
      "execution_count": null,
      "outputs": [
        {
          "output_type": "stream",
          "name": "stdout",
          "text": [
            "tensor([[-157.1075,   81.3393],\n",
            "        [-206.7361,  110.7537],\n",
            "        [-226.3199,  132.8638],\n",
            "        [-171.0400,   69.5127],\n",
            "        [-190.8863,  114.7112]], grad_fn=<AddBackward0>)\n"
          ]
        }
      ]
    },
    {
      "cell_type": "code",
      "source": [
        "# actual\n",
        "print(target)"
      ],
      "metadata": {
        "colab": {
          "base_uri": "https://localhost:8080/"
        },
        "id": "6PAZpzVlKaWo",
        "outputId": "bcd4b77c-f8b8-481e-9aab-00479c51f722"
      },
      "execution_count": null,
      "outputs": [
        {
          "output_type": "stream",
          "name": "stdout",
          "text": [
            "tensor([[ 56.,  70.],\n",
            "        [ 81., 101.],\n",
            "        [119., 133.],\n",
            "        [ 22.,  37.],\n",
            "        [103., 119.]])\n"
          ]
        }
      ]
    },
    {
      "cell_type": "code",
      "source": [
        "# loss function MSE\n",
        "def MSE(actul, target):\n",
        "  diff = actual - target\n",
        "  return torch.sum(diff * diff) / diff.nume1()"
      ],
      "metadata": {
        "id": "DwTVxqOCLWEU"
      },
      "execution_count": null,
      "outputs": []
    },
    {
      "cell_type": "code",
      "source": [
        "# error\n",
        "loss = MSE(target, preds)\n",
        "print(loss)"
      ],
      "metadata": {
        "id": "JebSYAjsL3Uq"
      },
      "execution_count": null,
      "outputs": []
    },
    {
      "cell_type": "code",
      "source": [
        "#compute gradient\n",
        "loss.backward()"
      ],
      "metadata": {
        "id": "l5GdiY67MBZK"
      },
      "execution_count": null,
      "outputs": []
    },
    {
      "cell_type": "code",
      "source": [
        "print(w, '\\n')\n",
        "print(w.grad)"
      ],
      "metadata": {
        "id": "1qca6zy9Msfp"
      },
      "execution_count": null,
      "outputs": []
    },
    {
      "cell_type": "code",
      "source": [
        "print(b, '\\n')\n",
        "print(b.grad)"
      ],
      "metadata": {
        "id": "PdDm1AlfM0QJ"
      },
      "execution_count": null,
      "outputs": []
    },
    {
      "cell_type": "code",
      "source": [
        "# reset gradients\n",
        "w.grad.zero_()\n",
        "b.grad.zero_()\n",
        "\n",
        "print(w.grad)\n",
        "print(b.grad)"
      ],
      "metadata": {
        "id": "h83lqlS2M_RE"
      },
      "execution_count": null,
      "outputs": []
    },
    {
      "cell_type": "code",
      "source": [
        "# adjust params\n",
        "\n",
        "preds = model(inputs)\n",
        "print(preds)"
      ],
      "metadata": {
        "id": "58v2kdYiNXIW"
      },
      "execution_count": null,
      "outputs": []
    },
    {
      "cell_type": "code",
      "source": [
        "# loss\n",
        "loss = MSE(target, preds)\n",
        "print(loss)"
      ],
      "metadata": {
        "id": "GTbpEd6RNmHR"
      },
      "execution_count": null,
      "outputs": []
    },
    {
      "cell_type": "code",
      "source": [
        "loss.backward()\n",
        "\n",
        "print(w.grad, '\\n')\n",
        "print(b.grad)"
      ],
      "metadata": {
        "id": "A-ypaScXNuEK"
      },
      "execution_count": null,
      "outputs": []
    },
    {
      "cell_type": "code",
      "source": [
        "# adjust weights and reset gradients\n",
        "with torch.no_grad():\n",
        "  w -= w.grad * 1e-5\n",
        "  b -= b.grad * 1e-5\n",
        "  w.grad.zero_()\n",
        "  b.grad.zero_()"
      ],
      "metadata": {
        "id": "28pLjn7YN5rF"
      },
      "execution_count": null,
      "outputs": []
    },
    {
      "cell_type": "code",
      "source": [
        "print(w)\n",
        "print(b)"
      ],
      "metadata": {
        "id": "88DUrlUHOP23"
      },
      "execution_count": null,
      "outputs": []
    },
    {
      "cell_type": "markdown",
      "source": [
        "## **Neural networks using pytorch**"
      ],
      "metadata": {
        "id": "Fdwbtk4-VCd7"
      }
    },
    {
      "cell_type": "code",
      "source": [
        "#to check GPU\n",
        "!nvidia-smi"
      ],
      "metadata": {
        "colab": {
          "base_uri": "https://localhost:8080/"
        },
        "id": "Sy8H3tTrVAe6",
        "outputId": "4f78dea6-f750-438f-8412-7ad37257bf0d"
      },
      "execution_count": 1,
      "outputs": [
        {
          "output_type": "stream",
          "name": "stdout",
          "text": [
            "Thu Oct 19 09:39:58 2023       \n",
            "+-----------------------------------------------------------------------------+\n",
            "| NVIDIA-SMI 525.105.17   Driver Version: 525.105.17   CUDA Version: 12.0     |\n",
            "|-------------------------------+----------------------+----------------------+\n",
            "| GPU  Name        Persistence-M| Bus-Id        Disp.A | Volatile Uncorr. ECC |\n",
            "| Fan  Temp  Perf  Pwr:Usage/Cap|         Memory-Usage | GPU-Util  Compute M. |\n",
            "|                               |                      |               MIG M. |\n",
            "|===============================+======================+======================|\n",
            "|   0  Tesla T4            Off  | 00000000:00:04.0 Off |                    0 |\n",
            "| N/A   34C    P8     9W /  70W |      0MiB / 15360MiB |      0%      Default |\n",
            "|                               |                      |                  N/A |\n",
            "+-------------------------------+----------------------+----------------------+\n",
            "                                                                               \n",
            "+-----------------------------------------------------------------------------+\n",
            "| Processes:                                                                  |\n",
            "|  GPU   GI   CI        PID   Type   Process name                  GPU Memory |\n",
            "|        ID   ID                                                   Usage      |\n",
            "|=============================================================================|\n",
            "|  No running processes found                                                 |\n",
            "+-----------------------------------------------------------------------------+\n"
          ]
        }
      ]
    },
    {
      "cell_type": "code",
      "source": [
        "import torch\n",
        "from torch import nn\n",
        "from torch.utils.data import DataLoader\n",
        "from torchvision import datasets\n",
        "from torchvision.transforms import ToTensor, Lambda, Compose\n",
        "import matplotlib.pyplot as plt"
      ],
      "metadata": {
        "id": "rbOPRUx-VWaU"
      },
      "execution_count": 2,
      "outputs": []
    },
    {
      "cell_type": "code",
      "source": [
        "# download training data from open datasets\n",
        "training_data = datasets.FashionMNIST(\n",
        "    root = 'data',\n",
        "    train = True,\n",
        "    download = True,\n",
        "    transform = ToTensor()\n",
        ")\n",
        "\n",
        "# download test data from open datasets\n",
        "test_data = datasets.FashionMNIST(\n",
        "    root = 'data',\n",
        "    train = False,\n",
        "    download = True,\n",
        "    transform = ToTensor()\n",
        ")"
      ],
      "metadata": {
        "colab": {
          "base_uri": "https://localhost:8080/"
        },
        "id": "0AQy1jNRWDFn",
        "outputId": "5ebe40e9-b8a2-474e-81c1-8ead16e4591d"
      },
      "execution_count": 3,
      "outputs": [
        {
          "output_type": "stream",
          "name": "stdout",
          "text": [
            "Downloading http://fashion-mnist.s3-website.eu-central-1.amazonaws.com/train-images-idx3-ubyte.gz\n",
            "Downloading http://fashion-mnist.s3-website.eu-central-1.amazonaws.com/train-images-idx3-ubyte.gz to data/FashionMNIST/raw/train-images-idx3-ubyte.gz\n"
          ]
        },
        {
          "output_type": "stream",
          "name": "stderr",
          "text": [
            "100%|██████████| 26421880/26421880 [00:01<00:00, 14217240.20it/s]\n"
          ]
        },
        {
          "output_type": "stream",
          "name": "stdout",
          "text": [
            "Extracting data/FashionMNIST/raw/train-images-idx3-ubyte.gz to data/FashionMNIST/raw\n",
            "\n",
            "Downloading http://fashion-mnist.s3-website.eu-central-1.amazonaws.com/train-labels-idx1-ubyte.gz\n",
            "Downloading http://fashion-mnist.s3-website.eu-central-1.amazonaws.com/train-labels-idx1-ubyte.gz to data/FashionMNIST/raw/train-labels-idx1-ubyte.gz\n"
          ]
        },
        {
          "output_type": "stream",
          "name": "stderr",
          "text": [
            "100%|██████████| 29515/29515 [00:00<00:00, 269625.15it/s]\n"
          ]
        },
        {
          "output_type": "stream",
          "name": "stdout",
          "text": [
            "Extracting data/FashionMNIST/raw/train-labels-idx1-ubyte.gz to data/FashionMNIST/raw\n",
            "\n",
            "Downloading http://fashion-mnist.s3-website.eu-central-1.amazonaws.com/t10k-images-idx3-ubyte.gz\n",
            "Downloading http://fashion-mnist.s3-website.eu-central-1.amazonaws.com/t10k-images-idx3-ubyte.gz to data/FashionMNIST/raw/t10k-images-idx3-ubyte.gz\n"
          ]
        },
        {
          "output_type": "stream",
          "name": "stderr",
          "text": [
            "100%|██████████| 4422102/4422102 [00:00<00:00, 5007912.46it/s]\n"
          ]
        },
        {
          "output_type": "stream",
          "name": "stdout",
          "text": [
            "Extracting data/FashionMNIST/raw/t10k-images-idx3-ubyte.gz to data/FashionMNIST/raw\n",
            "\n",
            "Downloading http://fashion-mnist.s3-website.eu-central-1.amazonaws.com/t10k-labels-idx1-ubyte.gz\n",
            "Downloading http://fashion-mnist.s3-website.eu-central-1.amazonaws.com/t10k-labels-idx1-ubyte.gz to data/FashionMNIST/raw/t10k-labels-idx1-ubyte.gz\n"
          ]
        },
        {
          "output_type": "stream",
          "name": "stderr",
          "text": [
            "100%|██████████| 5148/5148 [00:00<00:00, 5865872.59it/s]"
          ]
        },
        {
          "output_type": "stream",
          "name": "stdout",
          "text": [
            "Extracting data/FashionMNIST/raw/t10k-labels-idx1-ubyte.gz to data/FashionMNIST/raw\n",
            "\n"
          ]
        },
        {
          "output_type": "stream",
          "name": "stderr",
          "text": [
            "\n"
          ]
        }
      ]
    },
    {
      "cell_type": "code",
      "source": [
        "type(training_data)"
      ],
      "metadata": {
        "colab": {
          "base_uri": "https://localhost:8080/"
        },
        "id": "Nj3kDWibW_R_",
        "outputId": "1cb0e14d-4587-4cb2-c090-b0b5ec5f888c"
      },
      "execution_count": 4,
      "outputs": [
        {
          "output_type": "execute_result",
          "data": {
            "text/plain": [
              "torchvision.datasets.mnist.FashionMNIST"
            ]
          },
          "metadata": {},
          "execution_count": 4
        }
      ]
    },
    {
      "cell_type": "code",
      "source": [
        "# create data loader\n",
        "batch_size = 64\n",
        "\n",
        "train_dataloader = DataLoader(training_data, batch_size = batch_size)\n",
        "test_dataloader = DataLoader(test_data, batch_size = batch_size)\n",
        "\n",
        "for X,y in test_dataloader:\n",
        "  print(\"shape of X [N, C, H, W]: \", X.shape, '\\n')\n",
        "  print(\"shape of y: \", y.shape, y.dtype, '\\n')\n",
        "  # print (X,'\\n')\n",
        "  # print(y)\n",
        "\n",
        "  break\n"
      ],
      "metadata": {
        "colab": {
          "base_uri": "https://localhost:8080/"
        },
        "id": "4XM--j5fXeEt",
        "outputId": "974fb0a0-7eee-4632-ad9a-d630b97c009b"
      },
      "execution_count": 5,
      "outputs": [
        {
          "output_type": "stream",
          "name": "stdout",
          "text": [
            "shape of X [N, C, H, W]:  torch.Size([64, 1, 28, 28]) \n",
            "\n",
            "shape of y:  torch.Size([64]) torch.int64 \n",
            "\n"
          ]
        }
      ]
    },
    {
      "cell_type": "code",
      "source": [
        "# get GPU or CPU device for training\n",
        "device = \"cuda\" if torch.cuda.is_available() else \"cpu\"\n",
        "print(f\"using {device} device\")"
      ],
      "metadata": {
        "colab": {
          "base_uri": "https://localhost:8080/"
        },
        "id": "_F9yzk1jb63m",
        "outputId": "21a25b7b-6339-466d-da2d-d71064b30286"
      },
      "execution_count": 6,
      "outputs": [
        {
          "output_type": "stream",
          "name": "stdout",
          "text": [
            "using cuda device\n"
          ]
        }
      ]
    },
    {
      "cell_type": "code",
      "source": [
        "# define model\n",
        "\n",
        "class NeuralNetwork(nn.Module):\n",
        "  def __init__(self):\n",
        "    super(NeuralNetwork, self).__init__()\n",
        "    self.flatten = nn.Flatten()\n",
        "    self.linear_relu_stack = nn.Sequential(\n",
        "        nn.Linear(28*28, 512),\n",
        "        nn.ReLU(),\n",
        "        nn.Linear(512, 512),\n",
        "        nn.ReLU(),\n",
        "        nn.Linear(512, 10)\n",
        "    )\n",
        "\n",
        "  def forward(self,x):\n",
        "    x = self.flatten(x)\n",
        "    logits = self.linear_relu_stack(x)\n",
        "    return logits\n",
        "\n",
        "model = NeuralNetwork().to(device)\n",
        "print(model)"
      ],
      "metadata": {
        "colab": {
          "base_uri": "https://localhost:8080/"
        },
        "id": "pwvuKVQLY7OO",
        "outputId": "133f6850-10fe-4320-fe2d-6e9eedc75e14"
      },
      "execution_count": 7,
      "outputs": [
        {
          "output_type": "stream",
          "name": "stdout",
          "text": [
            "NeuralNetwork(\n",
            "  (flatten): Flatten(start_dim=1, end_dim=-1)\n",
            "  (linear_relu_stack): Sequential(\n",
            "    (0): Linear(in_features=784, out_features=512, bias=True)\n",
            "    (1): ReLU()\n",
            "    (2): Linear(in_features=512, out_features=512, bias=True)\n",
            "    (3): ReLU()\n",
            "    (4): Linear(in_features=512, out_features=10, bias=True)\n",
            "  )\n",
            ")\n"
          ]
        }
      ]
    },
    {
      "cell_type": "code",
      "source": [
        "loss_fn = nn.CrossEntropyLoss()\n",
        "optimizer = torch.optim.SGD(model.parameters(), lr = 1e-1)"
      ],
      "metadata": {
        "id": "lzXmTP5ubpAF"
      },
      "execution_count": 8,
      "outputs": []
    },
    {
      "cell_type": "code",
      "source": [
        "# defining train function\n",
        "\n",
        "def train(dataloader, model, loss_fn, optimizer):\n",
        "  size = len(dataloader.dataset)\n",
        "  model.train()\n",
        "  for batch, (X, y) in enumerate(dataloader):\n",
        "    X, y = X.to(device), y.to(device)\n",
        "\n",
        "    # Compute precdiction error\n",
        "    pred = model(X)\n",
        "    loss = loss_fn(pred, y)\n",
        "\n",
        "    # Backpropagation\n",
        "    optimizer.zero_grad()\n",
        "    loss.backward()\n",
        "    optimizer.step()\n",
        "\n",
        "    if batch % 100 == 0:\n",
        "      loss, current = loss.item(), batch *len(X)\n",
        "      print(f\"loss : {loss:>7f} [{current:>5d}/{size:>5d}] \")"
      ],
      "metadata": {
        "id": "qP_gapPv0EJg"
      },
      "execution_count": 9,
      "outputs": []
    },
    {
      "cell_type": "code",
      "source": [
        "def test(dataloader, model, loss_fn):\n",
        "  size = len(dataloader.dataset)\n",
        "  num_batches = len(dataloader)\n",
        "  model.eval()\n",
        "  test_loss, correct = 0, 0\n",
        "  with torch.no_grad():\n",
        "    for X, y in dataloader:\n",
        "      X, y = X.to(device), y.to(device)\n",
        "      pred = model(X)\n",
        "      test_loss += loss_fn(pred, y).item()\n",
        "      correct += (pred.argmax(1) == y).type(torch.float).sum().item()\n",
        "\n",
        "  test_loss /= num_batches\n",
        "  correct /= size\n",
        "  print(f\"Test Error: \\n Accuracy : {(100*correct):>0.1f}%, Avg loss: {test_loss:>8f} \\n\")"
      ],
      "metadata": {
        "id": "o8JJk6tA5t2q"
      },
      "execution_count": 10,
      "outputs": []
    },
    {
      "cell_type": "code",
      "source": [
        "epochs = 10\n",
        "for t in range(epochs):\n",
        "  print(f\"Epoch {t+1} \\n-----------------------------------\")\n",
        "  train(train_dataloader, model, loss_fn, optimizer)\n",
        "  test(test_dataloader, model, loss_fn)\n",
        "print(\"Done!\")"
      ],
      "metadata": {
        "colab": {
          "base_uri": "https://localhost:8080/"
        },
        "id": "7y6ec5OaLS34",
        "outputId": "53be7661-5696-47d3-b07d-d6616e7e8065"
      },
      "execution_count": 11,
      "outputs": [
        {
          "output_type": "stream",
          "name": "stdout",
          "text": [
            "Epoch 1 \n",
            "-----------------------------------\n",
            "loss : 2.302747 [    0/60000] \n",
            "loss : 0.902848 [ 6400/60000] \n",
            "loss : 0.569938 [12800/60000] \n",
            "loss : 0.695913 [19200/60000] \n",
            "loss : 0.591733 [25600/60000] \n",
            "loss : 0.511099 [32000/60000] \n",
            "loss : 0.543013 [38400/60000] \n",
            "loss : 0.581170 [44800/60000] \n",
            "loss : 0.619050 [51200/60000] \n",
            "loss : 0.449328 [57600/60000] \n",
            "Test Error: \n",
            " Accuracy : 79.3%, Avg loss: 0.554454 \n",
            "\n",
            "Epoch 2 \n",
            "-----------------------------------\n",
            "loss : 0.435267 [    0/60000] \n",
            "loss : 0.438892 [ 6400/60000] \n",
            "loss : 0.373680 [12800/60000] \n",
            "loss : 0.443704 [19200/60000] \n",
            "loss : 0.413331 [25600/60000] \n",
            "loss : 0.449827 [32000/60000] \n",
            "loss : 0.402548 [38400/60000] \n",
            "loss : 0.495397 [44800/60000] \n",
            "loss : 0.508066 [51200/60000] \n",
            "loss : 0.419015 [57600/60000] \n",
            "Test Error: \n",
            " Accuracy : 82.6%, Avg loss: 0.469033 \n",
            "\n",
            "Epoch 3 \n",
            "-----------------------------------\n",
            "loss : 0.320099 [    0/60000] \n",
            "loss : 0.352874 [ 6400/60000] \n",
            "loss : 0.308225 [12800/60000] \n",
            "loss : 0.370905 [19200/60000] \n",
            "loss : 0.346903 [25600/60000] \n",
            "loss : 0.417277 [32000/60000] \n",
            "loss : 0.343252 [38400/60000] \n",
            "loss : 0.443452 [44800/60000] \n",
            "loss : 0.468717 [51200/60000] \n",
            "loss : 0.408169 [57600/60000] \n",
            "Test Error: \n",
            " Accuracy : 83.8%, Avg loss: 0.438496 \n",
            "\n",
            "Epoch 4 \n",
            "-----------------------------------\n",
            "loss : 0.268055 [    0/60000] \n",
            "loss : 0.315067 [ 6400/60000] \n",
            "loss : 0.263821 [12800/60000] \n",
            "loss : 0.336042 [19200/60000] \n",
            "loss : 0.321586 [25600/60000] \n",
            "loss : 0.402365 [32000/60000] \n",
            "loss : 0.308810 [38400/60000] \n",
            "loss : 0.417887 [44800/60000] \n",
            "loss : 0.436640 [51200/60000] \n",
            "loss : 0.392950 [57600/60000] \n",
            "Test Error: \n",
            " Accuracy : 85.1%, Avg loss: 0.409449 \n",
            "\n",
            "Epoch 5 \n",
            "-----------------------------------\n",
            "loss : 0.237771 [    0/60000] \n",
            "loss : 0.298226 [ 6400/60000] \n",
            "loss : 0.226858 [12800/60000] \n",
            "loss : 0.309487 [19200/60000] \n",
            "loss : 0.305606 [25600/60000] \n",
            "loss : 0.378842 [32000/60000] \n",
            "loss : 0.285867 [38400/60000] \n",
            "loss : 0.385918 [44800/60000] \n",
            "loss : 0.408296 [51200/60000] \n",
            "loss : 0.398461 [57600/60000] \n",
            "Test Error: \n",
            " Accuracy : 86.1%, Avg loss: 0.382827 \n",
            "\n",
            "Epoch 6 \n",
            "-----------------------------------\n",
            "loss : 0.211116 [    0/60000] \n",
            "loss : 0.284593 [ 6400/60000] \n",
            "loss : 0.206757 [12800/60000] \n",
            "loss : 0.290075 [19200/60000] \n",
            "loss : 0.291359 [25600/60000] \n",
            "loss : 0.365240 [32000/60000] \n",
            "loss : 0.261524 [38400/60000] \n",
            "loss : 0.368473 [44800/60000] \n",
            "loss : 0.386454 [51200/60000] \n",
            "loss : 0.380307 [57600/60000] \n",
            "Test Error: \n",
            " Accuracy : 86.7%, Avg loss: 0.365326 \n",
            "\n",
            "Epoch 7 \n",
            "-----------------------------------\n",
            "loss : 0.200062 [    0/60000] \n",
            "loss : 0.277251 [ 6400/60000] \n",
            "loss : 0.194492 [12800/60000] \n",
            "loss : 0.269015 [19200/60000] \n",
            "loss : 0.278034 [25600/60000] \n",
            "loss : 0.354551 [32000/60000] \n",
            "loss : 0.261912 [38400/60000] \n",
            "loss : 0.339950 [44800/60000] \n",
            "loss : 0.374421 [51200/60000] \n",
            "loss : 0.360874 [57600/60000] \n",
            "Test Error: \n",
            " Accuracy : 87.0%, Avg loss: 0.357189 \n",
            "\n",
            "Epoch 8 \n",
            "-----------------------------------\n",
            "loss : 0.188459 [    0/60000] \n",
            "loss : 0.268930 [ 6400/60000] \n",
            "loss : 0.180959 [12800/60000] \n",
            "loss : 0.259324 [19200/60000] \n",
            "loss : 0.278081 [25600/60000] \n",
            "loss : 0.331838 [32000/60000] \n",
            "loss : 0.244252 [38400/60000] \n",
            "loss : 0.319644 [44800/60000] \n",
            "loss : 0.336050 [51200/60000] \n",
            "loss : 0.353685 [57600/60000] \n",
            "Test Error: \n",
            " Accuracy : 87.5%, Avg loss: 0.346795 \n",
            "\n",
            "Epoch 9 \n",
            "-----------------------------------\n",
            "loss : 0.186061 [    0/60000] \n",
            "loss : 0.249332 [ 6400/60000] \n",
            "loss : 0.177278 [12800/60000] \n",
            "loss : 0.243435 [19200/60000] \n",
            "loss : 0.278043 [25600/60000] \n",
            "loss : 0.318838 [32000/60000] \n",
            "loss : 0.239274 [38400/60000] \n",
            "loss : 0.298254 [44800/60000] \n",
            "loss : 0.319825 [51200/60000] \n",
            "loss : 0.347984 [57600/60000] \n",
            "Test Error: \n",
            " Accuracy : 87.5%, Avg loss: 0.343060 \n",
            "\n",
            "Epoch 10 \n",
            "-----------------------------------\n",
            "loss : 0.183068 [    0/60000] \n",
            "loss : 0.242993 [ 6400/60000] \n",
            "loss : 0.171896 [12800/60000] \n",
            "loss : 0.228977 [19200/60000] \n",
            "loss : 0.271923 [25600/60000] \n",
            "loss : 0.307296 [32000/60000] \n",
            "loss : 0.220272 [38400/60000] \n",
            "loss : 0.286676 [44800/60000] \n",
            "loss : 0.298087 [51200/60000] \n",
            "loss : 0.317101 [57600/60000] \n",
            "Test Error: \n",
            " Accuracy : 87.7%, Avg loss: 0.335935 \n",
            "\n",
            "Done!\n"
          ]
        }
      ]
    },
    {
      "cell_type": "code",
      "source": [
        "# save model\n",
        "torch.save(model.state_dict(), \"model1.pth\")\n",
        "print(\"Saved PyTorch Model State to model1.pth\")"
      ],
      "metadata": {
        "colab": {
          "base_uri": "https://localhost:8080/"
        },
        "id": "E4IiyN4_L7SQ",
        "outputId": "6f9b11eb-b0dd-40ad-a802-72d327ea75f9"
      },
      "execution_count": 12,
      "outputs": [
        {
          "output_type": "stream",
          "name": "stdout",
          "text": [
            "Saved PyTorch Model State to model1.pth\n"
          ]
        }
      ]
    },
    {
      "cell_type": "code",
      "source": [
        "# load model\n",
        "\n",
        "model = NeuralNetwork()\n",
        "model.load_state_dict(torch.load(\"model1.pth\"))"
      ],
      "metadata": {
        "colab": {
          "base_uri": "https://localhost:8080/"
        },
        "id": "qQZ0jZGMO1H1",
        "outputId": "a8ce6770-e24d-4607-92f2-6fa4d96610bd"
      },
      "execution_count": 13,
      "outputs": [
        {
          "output_type": "execute_result",
          "data": {
            "text/plain": [
              "<All keys matched successfully>"
            ]
          },
          "metadata": {},
          "execution_count": 13
        }
      ]
    },
    {
      "cell_type": "code",
      "source": [
        "# Prediction\n",
        "\n",
        "classes = [\n",
        "    'T-shirt/top',\n",
        "    'Trouser',\n",
        "    'pullover',\n",
        "    'Dress',\n",
        "    'Coat',\n",
        "    'Sandal',\n",
        "    'Shirt',\n",
        "    'Sneaker',\n",
        "    'Bag',\n",
        "    'Ankle boot'\n",
        "\n",
        "]\n",
        "\n",
        "model.eval()\n",
        "x, y = test_data[0][0], test_data[0][1]\n",
        "with torch.no_grad():\n",
        "  pred = model(x)\n",
        "  predicted, actual = classes[pred[0].argmax(0)], classes[y]\n",
        "  print(f'Predicted: \"{predicted}\", Actual: \"{actual}\"')"
      ],
      "metadata": {
        "colab": {
          "base_uri": "https://localhost:8080/"
        },
        "id": "U6a7Qhz7PE4g",
        "outputId": "61feb4f0-8c7c-44a4-d75f-6176c2b9f6fd"
      },
      "execution_count": 14,
      "outputs": [
        {
          "output_type": "stream",
          "name": "stdout",
          "text": [
            "Predicted: \"Ankle boot\", Actual: \"Ankle boot\"\n"
          ]
        }
      ]
    },
    {
      "cell_type": "code",
      "source": [],
      "metadata": {
        "id": "Y3dGW4AIQglz"
      },
      "execution_count": null,
      "outputs": []
    }
  ]
}