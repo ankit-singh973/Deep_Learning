{
  "nbformat": 4,
  "nbformat_minor": 0,
  "metadata": {
    "colab": {
      "provenance": [],
      "gpuType": "T4",
      "authorship_tag": "ABX9TyNmpKPfJABMLariBvJAtf1w"
    },
    "kernelspec": {
      "name": "python3",
      "display_name": "Python 3"
    },
    "language_info": {
      "name": "python"
    },
    "accelerator": "GPU",
    "widgets": {
      "application/vnd.jupyter.widget-state+json": {
        "71fca8edcf7c4fb5b909a6ba50ebb633": {
          "model_module": "@jupyter-widgets/controls",
          "model_name": "HBoxModel",
          "model_module_version": "1.5.0",
          "state": {
            "_dom_classes": [],
            "_model_module": "@jupyter-widgets/controls",
            "_model_module_version": "1.5.0",
            "_model_name": "HBoxModel",
            "_view_count": null,
            "_view_module": "@jupyter-widgets/controls",
            "_view_module_version": "1.5.0",
            "_view_name": "HBoxView",
            "box_style": "",
            "children": [
              "IPY_MODEL_e30585b3b54c49f6adafe77609e5d3ba",
              "IPY_MODEL_ee105be6b8d0483881706d3bddb1c12a",
              "IPY_MODEL_659ab0e24b6e432a936ed392c5f0c2d3"
            ],
            "layout": "IPY_MODEL_8c8bf7d7eb2942f1a53aa6847ef701c0"
          }
        },
        "e30585b3b54c49f6adafe77609e5d3ba": {
          "model_module": "@jupyter-widgets/controls",
          "model_name": "HTMLModel",
          "model_module_version": "1.5.0",
          "state": {
            "_dom_classes": [],
            "_model_module": "@jupyter-widgets/controls",
            "_model_module_version": "1.5.0",
            "_model_name": "HTMLModel",
            "_view_count": null,
            "_view_module": "@jupyter-widgets/controls",
            "_view_module_version": "1.5.0",
            "_view_name": "HTMLView",
            "description": "",
            "description_tooltip": null,
            "layout": "IPY_MODEL_b5ff8a95f2a94e7b9987aed80e3b965d",
            "placeholder": "​",
            "style": "IPY_MODEL_bfba3062e17a4bf3bdcf206f3ece5259",
            "value": "100%"
          }
        },
        "ee105be6b8d0483881706d3bddb1c12a": {
          "model_module": "@jupyter-widgets/controls",
          "model_name": "FloatProgressModel",
          "model_module_version": "1.5.0",
          "state": {
            "_dom_classes": [],
            "_model_module": "@jupyter-widgets/controls",
            "_model_module_version": "1.5.0",
            "_model_name": "FloatProgressModel",
            "_view_count": null,
            "_view_module": "@jupyter-widgets/controls",
            "_view_module_version": "1.5.0",
            "_view_name": "ProgressView",
            "bar_style": "success",
            "description": "",
            "description_tooltip": null,
            "layout": "IPY_MODEL_4639bfc576154d4da9ab94c1ff9fe31b",
            "max": 10,
            "min": 0,
            "orientation": "horizontal",
            "style": "IPY_MODEL_34e4244875254e889f3b2c1914457d14",
            "value": 10
          }
        },
        "659ab0e24b6e432a936ed392c5f0c2d3": {
          "model_module": "@jupyter-widgets/controls",
          "model_name": "HTMLModel",
          "model_module_version": "1.5.0",
          "state": {
            "_dom_classes": [],
            "_model_module": "@jupyter-widgets/controls",
            "_model_module_version": "1.5.0",
            "_model_name": "HTMLModel",
            "_view_count": null,
            "_view_module": "@jupyter-widgets/controls",
            "_view_module_version": "1.5.0",
            "_view_name": "HTMLView",
            "description": "",
            "description_tooltip": null,
            "layout": "IPY_MODEL_ae46e741c05842d499725d86651e973e",
            "placeholder": "​",
            "style": "IPY_MODEL_378ff90f1a4748b0a5e4ccdaafecd6d7",
            "value": " 10/10 [02:07&lt;00:00, 12.39s/it]"
          }
        },
        "8c8bf7d7eb2942f1a53aa6847ef701c0": {
          "model_module": "@jupyter-widgets/base",
          "model_name": "LayoutModel",
          "model_module_version": "1.2.0",
          "state": {
            "_model_module": "@jupyter-widgets/base",
            "_model_module_version": "1.2.0",
            "_model_name": "LayoutModel",
            "_view_count": null,
            "_view_module": "@jupyter-widgets/base",
            "_view_module_version": "1.2.0",
            "_view_name": "LayoutView",
            "align_content": null,
            "align_items": null,
            "align_self": null,
            "border": null,
            "bottom": null,
            "display": null,
            "flex": null,
            "flex_flow": null,
            "grid_area": null,
            "grid_auto_columns": null,
            "grid_auto_flow": null,
            "grid_auto_rows": null,
            "grid_column": null,
            "grid_gap": null,
            "grid_row": null,
            "grid_template_areas": null,
            "grid_template_columns": null,
            "grid_template_rows": null,
            "height": null,
            "justify_content": null,
            "justify_items": null,
            "left": null,
            "margin": null,
            "max_height": null,
            "max_width": null,
            "min_height": null,
            "min_width": null,
            "object_fit": null,
            "object_position": null,
            "order": null,
            "overflow": null,
            "overflow_x": null,
            "overflow_y": null,
            "padding": null,
            "right": null,
            "top": null,
            "visibility": null,
            "width": null
          }
        },
        "b5ff8a95f2a94e7b9987aed80e3b965d": {
          "model_module": "@jupyter-widgets/base",
          "model_name": "LayoutModel",
          "model_module_version": "1.2.0",
          "state": {
            "_model_module": "@jupyter-widgets/base",
            "_model_module_version": "1.2.0",
            "_model_name": "LayoutModel",
            "_view_count": null,
            "_view_module": "@jupyter-widgets/base",
            "_view_module_version": "1.2.0",
            "_view_name": "LayoutView",
            "align_content": null,
            "align_items": null,
            "align_self": null,
            "border": null,
            "bottom": null,
            "display": null,
            "flex": null,
            "flex_flow": null,
            "grid_area": null,
            "grid_auto_columns": null,
            "grid_auto_flow": null,
            "grid_auto_rows": null,
            "grid_column": null,
            "grid_gap": null,
            "grid_row": null,
            "grid_template_areas": null,
            "grid_template_columns": null,
            "grid_template_rows": null,
            "height": null,
            "justify_content": null,
            "justify_items": null,
            "left": null,
            "margin": null,
            "max_height": null,
            "max_width": null,
            "min_height": null,
            "min_width": null,
            "object_fit": null,
            "object_position": null,
            "order": null,
            "overflow": null,
            "overflow_x": null,
            "overflow_y": null,
            "padding": null,
            "right": null,
            "top": null,
            "visibility": null,
            "width": null
          }
        },
        "bfba3062e17a4bf3bdcf206f3ece5259": {
          "model_module": "@jupyter-widgets/controls",
          "model_name": "DescriptionStyleModel",
          "model_module_version": "1.5.0",
          "state": {
            "_model_module": "@jupyter-widgets/controls",
            "_model_module_version": "1.5.0",
            "_model_name": "DescriptionStyleModel",
            "_view_count": null,
            "_view_module": "@jupyter-widgets/base",
            "_view_module_version": "1.2.0",
            "_view_name": "StyleView",
            "description_width": ""
          }
        },
        "4639bfc576154d4da9ab94c1ff9fe31b": {
          "model_module": "@jupyter-widgets/base",
          "model_name": "LayoutModel",
          "model_module_version": "1.2.0",
          "state": {
            "_model_module": "@jupyter-widgets/base",
            "_model_module_version": "1.2.0",
            "_model_name": "LayoutModel",
            "_view_count": null,
            "_view_module": "@jupyter-widgets/base",
            "_view_module_version": "1.2.0",
            "_view_name": "LayoutView",
            "align_content": null,
            "align_items": null,
            "align_self": null,
            "border": null,
            "bottom": null,
            "display": null,
            "flex": null,
            "flex_flow": null,
            "grid_area": null,
            "grid_auto_columns": null,
            "grid_auto_flow": null,
            "grid_auto_rows": null,
            "grid_column": null,
            "grid_gap": null,
            "grid_row": null,
            "grid_template_areas": null,
            "grid_template_columns": null,
            "grid_template_rows": null,
            "height": null,
            "justify_content": null,
            "justify_items": null,
            "left": null,
            "margin": null,
            "max_height": null,
            "max_width": null,
            "min_height": null,
            "min_width": null,
            "object_fit": null,
            "object_position": null,
            "order": null,
            "overflow": null,
            "overflow_x": null,
            "overflow_y": null,
            "padding": null,
            "right": null,
            "top": null,
            "visibility": null,
            "width": null
          }
        },
        "34e4244875254e889f3b2c1914457d14": {
          "model_module": "@jupyter-widgets/controls",
          "model_name": "ProgressStyleModel",
          "model_module_version": "1.5.0",
          "state": {
            "_model_module": "@jupyter-widgets/controls",
            "_model_module_version": "1.5.0",
            "_model_name": "ProgressStyleModel",
            "_view_count": null,
            "_view_module": "@jupyter-widgets/base",
            "_view_module_version": "1.2.0",
            "_view_name": "StyleView",
            "bar_color": null,
            "description_width": ""
          }
        },
        "ae46e741c05842d499725d86651e973e": {
          "model_module": "@jupyter-widgets/base",
          "model_name": "LayoutModel",
          "model_module_version": "1.2.0",
          "state": {
            "_model_module": "@jupyter-widgets/base",
            "_model_module_version": "1.2.0",
            "_model_name": "LayoutModel",
            "_view_count": null,
            "_view_module": "@jupyter-widgets/base",
            "_view_module_version": "1.2.0",
            "_view_name": "LayoutView",
            "align_content": null,
            "align_items": null,
            "align_self": null,
            "border": null,
            "bottom": null,
            "display": null,
            "flex": null,
            "flex_flow": null,
            "grid_area": null,
            "grid_auto_columns": null,
            "grid_auto_flow": null,
            "grid_auto_rows": null,
            "grid_column": null,
            "grid_gap": null,
            "grid_row": null,
            "grid_template_areas": null,
            "grid_template_columns": null,
            "grid_template_rows": null,
            "height": null,
            "justify_content": null,
            "justify_items": null,
            "left": null,
            "margin": null,
            "max_height": null,
            "max_width": null,
            "min_height": null,
            "min_width": null,
            "object_fit": null,
            "object_position": null,
            "order": null,
            "overflow": null,
            "overflow_x": null,
            "overflow_y": null,
            "padding": null,
            "right": null,
            "top": null,
            "visibility": null,
            "width": null
          }
        },
        "378ff90f1a4748b0a5e4ccdaafecd6d7": {
          "model_module": "@jupyter-widgets/controls",
          "model_name": "DescriptionStyleModel",
          "model_module_version": "1.5.0",
          "state": {
            "_model_module": "@jupyter-widgets/controls",
            "_model_module_version": "1.5.0",
            "_model_name": "DescriptionStyleModel",
            "_view_count": null,
            "_view_module": "@jupyter-widgets/base",
            "_view_module_version": "1.2.0",
            "_view_name": "StyleView",
            "description_width": ""
          }
        },
        "af5a885b04a24b0fafa92a4da183bd35": {
          "model_module": "@jupyter-widgets/controls",
          "model_name": "HBoxModel",
          "model_module_version": "1.5.0",
          "state": {
            "_dom_classes": [],
            "_model_module": "@jupyter-widgets/controls",
            "_model_module_version": "1.5.0",
            "_model_name": "HBoxModel",
            "_view_count": null,
            "_view_module": "@jupyter-widgets/controls",
            "_view_module_version": "1.5.0",
            "_view_name": "HBoxView",
            "box_style": "",
            "children": [
              "IPY_MODEL_30c51c36d09745b398bd1fa27a30a8b2",
              "IPY_MODEL_bab392e4a3e943048402c888acd59cb3",
              "IPY_MODEL_83f696168dd34337a955d6a473f46472"
            ],
            "layout": "IPY_MODEL_07a0dbb650f44d39ad7968a96d096b4d"
          }
        },
        "30c51c36d09745b398bd1fa27a30a8b2": {
          "model_module": "@jupyter-widgets/controls",
          "model_name": "HTMLModel",
          "model_module_version": "1.5.0",
          "state": {
            "_dom_classes": [],
            "_model_module": "@jupyter-widgets/controls",
            "_model_module_version": "1.5.0",
            "_model_name": "HTMLModel",
            "_view_count": null,
            "_view_module": "@jupyter-widgets/controls",
            "_view_module_version": "1.5.0",
            "_view_name": "HTMLView",
            "description": "",
            "description_tooltip": null,
            "layout": "IPY_MODEL_2dd5d7196b4f4a3c83234d5c1323a792",
            "placeholder": "​",
            "style": "IPY_MODEL_3e10ee816e4c4b8083e27d83620c858d",
            "value": "Making predictions...: 100%"
          }
        },
        "bab392e4a3e943048402c888acd59cb3": {
          "model_module": "@jupyter-widgets/controls",
          "model_name": "FloatProgressModel",
          "model_module_version": "1.5.0",
          "state": {
            "_dom_classes": [],
            "_model_module": "@jupyter-widgets/controls",
            "_model_module_version": "1.5.0",
            "_model_name": "FloatProgressModel",
            "_view_count": null,
            "_view_module": "@jupyter-widgets/controls",
            "_view_module_version": "1.5.0",
            "_view_name": "ProgressView",
            "bar_style": "success",
            "description": "",
            "description_tooltip": null,
            "layout": "IPY_MODEL_f48fc5f6dbe24677864da160f7c3725f",
            "max": 313,
            "min": 0,
            "orientation": "horizontal",
            "style": "IPY_MODEL_742aa4a35ef04876806a26a4aabee077",
            "value": 313
          }
        },
        "83f696168dd34337a955d6a473f46472": {
          "model_module": "@jupyter-widgets/controls",
          "model_name": "HTMLModel",
          "model_module_version": "1.5.0",
          "state": {
            "_dom_classes": [],
            "_model_module": "@jupyter-widgets/controls",
            "_model_module_version": "1.5.0",
            "_model_name": "HTMLModel",
            "_view_count": null,
            "_view_module": "@jupyter-widgets/controls",
            "_view_module_version": "1.5.0",
            "_view_name": "HTMLView",
            "description": "",
            "description_tooltip": null,
            "layout": "IPY_MODEL_bdba09ac5aa642d3b88b07984f2db66d",
            "placeholder": "​",
            "style": "IPY_MODEL_119f7a01dd93483885f6c4a2f2df6612",
            "value": " 313/313 [00:01&lt;00:00, 238.46it/s]"
          }
        },
        "07a0dbb650f44d39ad7968a96d096b4d": {
          "model_module": "@jupyter-widgets/base",
          "model_name": "LayoutModel",
          "model_module_version": "1.2.0",
          "state": {
            "_model_module": "@jupyter-widgets/base",
            "_model_module_version": "1.2.0",
            "_model_name": "LayoutModel",
            "_view_count": null,
            "_view_module": "@jupyter-widgets/base",
            "_view_module_version": "1.2.0",
            "_view_name": "LayoutView",
            "align_content": null,
            "align_items": null,
            "align_self": null,
            "border": null,
            "bottom": null,
            "display": null,
            "flex": null,
            "flex_flow": null,
            "grid_area": null,
            "grid_auto_columns": null,
            "grid_auto_flow": null,
            "grid_auto_rows": null,
            "grid_column": null,
            "grid_gap": null,
            "grid_row": null,
            "grid_template_areas": null,
            "grid_template_columns": null,
            "grid_template_rows": null,
            "height": null,
            "justify_content": null,
            "justify_items": null,
            "left": null,
            "margin": null,
            "max_height": null,
            "max_width": null,
            "min_height": null,
            "min_width": null,
            "object_fit": null,
            "object_position": null,
            "order": null,
            "overflow": null,
            "overflow_x": null,
            "overflow_y": null,
            "padding": null,
            "right": null,
            "top": null,
            "visibility": null,
            "width": null
          }
        },
        "2dd5d7196b4f4a3c83234d5c1323a792": {
          "model_module": "@jupyter-widgets/base",
          "model_name": "LayoutModel",
          "model_module_version": "1.2.0",
          "state": {
            "_model_module": "@jupyter-widgets/base",
            "_model_module_version": "1.2.0",
            "_model_name": "LayoutModel",
            "_view_count": null,
            "_view_module": "@jupyter-widgets/base",
            "_view_module_version": "1.2.0",
            "_view_name": "LayoutView",
            "align_content": null,
            "align_items": null,
            "align_self": null,
            "border": null,
            "bottom": null,
            "display": null,
            "flex": null,
            "flex_flow": null,
            "grid_area": null,
            "grid_auto_columns": null,
            "grid_auto_flow": null,
            "grid_auto_rows": null,
            "grid_column": null,
            "grid_gap": null,
            "grid_row": null,
            "grid_template_areas": null,
            "grid_template_columns": null,
            "grid_template_rows": null,
            "height": null,
            "justify_content": null,
            "justify_items": null,
            "left": null,
            "margin": null,
            "max_height": null,
            "max_width": null,
            "min_height": null,
            "min_width": null,
            "object_fit": null,
            "object_position": null,
            "order": null,
            "overflow": null,
            "overflow_x": null,
            "overflow_y": null,
            "padding": null,
            "right": null,
            "top": null,
            "visibility": null,
            "width": null
          }
        },
        "3e10ee816e4c4b8083e27d83620c858d": {
          "model_module": "@jupyter-widgets/controls",
          "model_name": "DescriptionStyleModel",
          "model_module_version": "1.5.0",
          "state": {
            "_model_module": "@jupyter-widgets/controls",
            "_model_module_version": "1.5.0",
            "_model_name": "DescriptionStyleModel",
            "_view_count": null,
            "_view_module": "@jupyter-widgets/base",
            "_view_module_version": "1.2.0",
            "_view_name": "StyleView",
            "description_width": ""
          }
        },
        "f48fc5f6dbe24677864da160f7c3725f": {
          "model_module": "@jupyter-widgets/base",
          "model_name": "LayoutModel",
          "model_module_version": "1.2.0",
          "state": {
            "_model_module": "@jupyter-widgets/base",
            "_model_module_version": "1.2.0",
            "_model_name": "LayoutModel",
            "_view_count": null,
            "_view_module": "@jupyter-widgets/base",
            "_view_module_version": "1.2.0",
            "_view_name": "LayoutView",
            "align_content": null,
            "align_items": null,
            "align_self": null,
            "border": null,
            "bottom": null,
            "display": null,
            "flex": null,
            "flex_flow": null,
            "grid_area": null,
            "grid_auto_columns": null,
            "grid_auto_flow": null,
            "grid_auto_rows": null,
            "grid_column": null,
            "grid_gap": null,
            "grid_row": null,
            "grid_template_areas": null,
            "grid_template_columns": null,
            "grid_template_rows": null,
            "height": null,
            "justify_content": null,
            "justify_items": null,
            "left": null,
            "margin": null,
            "max_height": null,
            "max_width": null,
            "min_height": null,
            "min_width": null,
            "object_fit": null,
            "object_position": null,
            "order": null,
            "overflow": null,
            "overflow_x": null,
            "overflow_y": null,
            "padding": null,
            "right": null,
            "top": null,
            "visibility": null,
            "width": null
          }
        },
        "742aa4a35ef04876806a26a4aabee077": {
          "model_module": "@jupyter-widgets/controls",
          "model_name": "ProgressStyleModel",
          "model_module_version": "1.5.0",
          "state": {
            "_model_module": "@jupyter-widgets/controls",
            "_model_module_version": "1.5.0",
            "_model_name": "ProgressStyleModel",
            "_view_count": null,
            "_view_module": "@jupyter-widgets/base",
            "_view_module_version": "1.2.0",
            "_view_name": "StyleView",
            "bar_color": null,
            "description_width": ""
          }
        },
        "bdba09ac5aa642d3b88b07984f2db66d": {
          "model_module": "@jupyter-widgets/base",
          "model_name": "LayoutModel",
          "model_module_version": "1.2.0",
          "state": {
            "_model_module": "@jupyter-widgets/base",
            "_model_module_version": "1.2.0",
            "_model_name": "LayoutModel",
            "_view_count": null,
            "_view_module": "@jupyter-widgets/base",
            "_view_module_version": "1.2.0",
            "_view_name": "LayoutView",
            "align_content": null,
            "align_items": null,
            "align_self": null,
            "border": null,
            "bottom": null,
            "display": null,
            "flex": null,
            "flex_flow": null,
            "grid_area": null,
            "grid_auto_columns": null,
            "grid_auto_flow": null,
            "grid_auto_rows": null,
            "grid_column": null,
            "grid_gap": null,
            "grid_row": null,
            "grid_template_areas": null,
            "grid_template_columns": null,
            "grid_template_rows": null,
            "height": null,
            "justify_content": null,
            "justify_items": null,
            "left": null,
            "margin": null,
            "max_height": null,
            "max_width": null,
            "min_height": null,
            "min_width": null,
            "object_fit": null,
            "object_position": null,
            "order": null,
            "overflow": null,
            "overflow_x": null,
            "overflow_y": null,
            "padding": null,
            "right": null,
            "top": null,
            "visibility": null,
            "width": null
          }
        },
        "119f7a01dd93483885f6c4a2f2df6612": {
          "model_module": "@jupyter-widgets/controls",
          "model_name": "DescriptionStyleModel",
          "model_module_version": "1.5.0",
          "state": {
            "_model_module": "@jupyter-widgets/controls",
            "_model_module_version": "1.5.0",
            "_model_name": "DescriptionStyleModel",
            "_view_count": null,
            "_view_module": "@jupyter-widgets/base",
            "_view_module_version": "1.2.0",
            "_view_name": "StyleView",
            "description_width": ""
          }
        }
      }
    }
  },
  "cells": [
    {
      "cell_type": "code",
      "execution_count": null,
      "metadata": {
        "id": "rVO3brN9DWJt"
      },
      "outputs": [],
      "source": []
    },
    {
      "cell_type": "code",
      "source": [
        "!pip install torchmetrics"
      ],
      "metadata": {
        "colab": {
          "base_uri": "https://localhost:8080/"
        },
        "id": "j4kSNEsDHukB",
        "outputId": "0ca9a8d3-227e-477c-ffb6-a91172271e25"
      },
      "execution_count": 1,
      "outputs": [
        {
          "output_type": "stream",
          "name": "stdout",
          "text": [
            "Collecting torchmetrics\n",
            "  Downloading torchmetrics-1.4.0.post0-py3-none-any.whl (868 kB)\n",
            "\u001b[2K     \u001b[90m━━━━━━━━━━━━━━━━━━━━━━━━━━━━━━━━━━━━━━━━\u001b[0m \u001b[32m868.8/868.8 kB\u001b[0m \u001b[31m8.7 MB/s\u001b[0m eta \u001b[36m0:00:00\u001b[0m\n",
            "\u001b[?25hRequirement already satisfied: numpy>1.20.0 in /usr/local/lib/python3.10/dist-packages (from torchmetrics) (1.25.2)\n",
            "Requirement already satisfied: packaging>17.1 in /usr/local/lib/python3.10/dist-packages (from torchmetrics) (24.1)\n",
            "Requirement already satisfied: torch>=1.10.0 in /usr/local/lib/python3.10/dist-packages (from torchmetrics) (2.3.0+cu121)\n",
            "Collecting lightning-utilities>=0.8.0 (from torchmetrics)\n",
            "  Downloading lightning_utilities-0.11.3.post0-py3-none-any.whl (26 kB)\n",
            "Requirement already satisfied: setuptools in /usr/local/lib/python3.10/dist-packages (from lightning-utilities>=0.8.0->torchmetrics) (67.7.2)\n",
            "Requirement already satisfied: typing-extensions in /usr/local/lib/python3.10/dist-packages (from lightning-utilities>=0.8.0->torchmetrics) (4.12.2)\n",
            "Requirement already satisfied: filelock in /usr/local/lib/python3.10/dist-packages (from torch>=1.10.0->torchmetrics) (3.15.3)\n",
            "Requirement already satisfied: sympy in /usr/local/lib/python3.10/dist-packages (from torch>=1.10.0->torchmetrics) (1.12.1)\n",
            "Requirement already satisfied: networkx in /usr/local/lib/python3.10/dist-packages (from torch>=1.10.0->torchmetrics) (3.3)\n",
            "Requirement already satisfied: jinja2 in /usr/local/lib/python3.10/dist-packages (from torch>=1.10.0->torchmetrics) (3.1.4)\n",
            "Requirement already satisfied: fsspec in /usr/local/lib/python3.10/dist-packages (from torch>=1.10.0->torchmetrics) (2023.6.0)\n",
            "Collecting nvidia-cuda-nvrtc-cu12==12.1.105 (from torch>=1.10.0->torchmetrics)\n",
            "  Using cached nvidia_cuda_nvrtc_cu12-12.1.105-py3-none-manylinux1_x86_64.whl (23.7 MB)\n",
            "Collecting nvidia-cuda-runtime-cu12==12.1.105 (from torch>=1.10.0->torchmetrics)\n",
            "  Using cached nvidia_cuda_runtime_cu12-12.1.105-py3-none-manylinux1_x86_64.whl (823 kB)\n",
            "Collecting nvidia-cuda-cupti-cu12==12.1.105 (from torch>=1.10.0->torchmetrics)\n",
            "  Using cached nvidia_cuda_cupti_cu12-12.1.105-py3-none-manylinux1_x86_64.whl (14.1 MB)\n",
            "Collecting nvidia-cudnn-cu12==8.9.2.26 (from torch>=1.10.0->torchmetrics)\n",
            "  Using cached nvidia_cudnn_cu12-8.9.2.26-py3-none-manylinux1_x86_64.whl (731.7 MB)\n",
            "Collecting nvidia-cublas-cu12==12.1.3.1 (from torch>=1.10.0->torchmetrics)\n",
            "  Using cached nvidia_cublas_cu12-12.1.3.1-py3-none-manylinux1_x86_64.whl (410.6 MB)\n",
            "Collecting nvidia-cufft-cu12==11.0.2.54 (from torch>=1.10.0->torchmetrics)\n",
            "  Using cached nvidia_cufft_cu12-11.0.2.54-py3-none-manylinux1_x86_64.whl (121.6 MB)\n",
            "Collecting nvidia-curand-cu12==10.3.2.106 (from torch>=1.10.0->torchmetrics)\n",
            "  Using cached nvidia_curand_cu12-10.3.2.106-py3-none-manylinux1_x86_64.whl (56.5 MB)\n",
            "Collecting nvidia-cusolver-cu12==11.4.5.107 (from torch>=1.10.0->torchmetrics)\n",
            "  Using cached nvidia_cusolver_cu12-11.4.5.107-py3-none-manylinux1_x86_64.whl (124.2 MB)\n",
            "Collecting nvidia-cusparse-cu12==12.1.0.106 (from torch>=1.10.0->torchmetrics)\n",
            "  Using cached nvidia_cusparse_cu12-12.1.0.106-py3-none-manylinux1_x86_64.whl (196.0 MB)\n",
            "Collecting nvidia-nccl-cu12==2.20.5 (from torch>=1.10.0->torchmetrics)\n",
            "  Using cached nvidia_nccl_cu12-2.20.5-py3-none-manylinux2014_x86_64.whl (176.2 MB)\n",
            "Collecting nvidia-nvtx-cu12==12.1.105 (from torch>=1.10.0->torchmetrics)\n",
            "  Using cached nvidia_nvtx_cu12-12.1.105-py3-none-manylinux1_x86_64.whl (99 kB)\n",
            "Requirement already satisfied: triton==2.3.0 in /usr/local/lib/python3.10/dist-packages (from torch>=1.10.0->torchmetrics) (2.3.0)\n",
            "Collecting nvidia-nvjitlink-cu12 (from nvidia-cusolver-cu12==11.4.5.107->torch>=1.10.0->torchmetrics)\n",
            "  Downloading nvidia_nvjitlink_cu12-12.5.40-py3-none-manylinux2014_x86_64.whl (21.3 MB)\n",
            "\u001b[2K     \u001b[90m━━━━━━━━━━━━━━━━━━━━━━━━━━━━━━━━━━━━━━━━\u001b[0m \u001b[32m21.3/21.3 MB\u001b[0m \u001b[31m58.2 MB/s\u001b[0m eta \u001b[36m0:00:00\u001b[0m\n",
            "\u001b[?25hRequirement already satisfied: MarkupSafe>=2.0 in /usr/local/lib/python3.10/dist-packages (from jinja2->torch>=1.10.0->torchmetrics) (2.1.5)\n",
            "Requirement already satisfied: mpmath<1.4.0,>=1.1.0 in /usr/local/lib/python3.10/dist-packages (from sympy->torch>=1.10.0->torchmetrics) (1.3.0)\n",
            "Installing collected packages: nvidia-nvtx-cu12, nvidia-nvjitlink-cu12, nvidia-nccl-cu12, nvidia-curand-cu12, nvidia-cufft-cu12, nvidia-cuda-runtime-cu12, nvidia-cuda-nvrtc-cu12, nvidia-cuda-cupti-cu12, nvidia-cublas-cu12, lightning-utilities, nvidia-cusparse-cu12, nvidia-cudnn-cu12, nvidia-cusolver-cu12, torchmetrics\n",
            "Successfully installed lightning-utilities-0.11.3.post0 nvidia-cublas-cu12-12.1.3.1 nvidia-cuda-cupti-cu12-12.1.105 nvidia-cuda-nvrtc-cu12-12.1.105 nvidia-cuda-runtime-cu12-12.1.105 nvidia-cudnn-cu12-8.9.2.26 nvidia-cufft-cu12-11.0.2.54 nvidia-curand-cu12-10.3.2.106 nvidia-cusolver-cu12-11.4.5.107 nvidia-cusparse-cu12-12.1.0.106 nvidia-nccl-cu12-2.20.5 nvidia-nvjitlink-cu12-12.5.40 nvidia-nvtx-cu12-12.1.105 torchmetrics-1.4.0.post0\n"
          ]
        }
      ]
    },
    {
      "cell_type": "code",
      "execution_count": 2,
      "metadata": {
        "id": "LGc749hQKgaZ"
      },
      "outputs": [],
      "source": [
        "# Import PyTorch\n",
        "import torch\n",
        "from torch import nn\n",
        "\n",
        "# Import torchvision\n",
        "import torchvision\n",
        "from torchvision import datasets\n",
        "from torchvision.transforms import ToTensor\n",
        "import torchmetrics\n",
        "from tqdm.auto import tqdm\n",
        "\n",
        "# Import matplotlib for visualization\n",
        "import matplotlib.pyplot as plt"
      ]
    },
    {
      "cell_type": "markdown",
      "source": [
        "# **Getting Dataset**\n",
        "* we will use FashionMNIST data\n"
      ],
      "metadata": {
        "id": "Hx8vPY7O1I1N"
      }
    },
    {
      "cell_type": "code",
      "source": [
        "from torchvision import datasets\n",
        "train_data = datasets.FashionMNIST(\n",
        "    root = \"data\",\n",
        "    train = True,\n",
        "    download = True,\n",
        "    transform = torchvision.transforms.ToTensor(), # to transofrm the data\n",
        "    target_transform = None # how do we want to tranform the labels or targets\n",
        ")\n",
        "\n",
        "test_data = datasets.FashionMNIST(\n",
        "    root = \"data\",\n",
        "    train = False,\n",
        "    download = True,\n",
        "    transform = ToTensor(),\n",
        "    target_transform = None\n",
        "\n",
        ")"
      ],
      "metadata": {
        "id": "_a4rmjMP0gLX",
        "colab": {
          "base_uri": "https://localhost:8080/"
        },
        "outputId": "76adf853-bed0-41eb-f41e-c3f5a79eec81"
      },
      "execution_count": 3,
      "outputs": [
        {
          "output_type": "stream",
          "name": "stdout",
          "text": [
            "Downloading http://fashion-mnist.s3-website.eu-central-1.amazonaws.com/train-images-idx3-ubyte.gz\n",
            "Downloading http://fashion-mnist.s3-website.eu-central-1.amazonaws.com/train-images-idx3-ubyte.gz to data/FashionMNIST/raw/train-images-idx3-ubyte.gz\n"
          ]
        },
        {
          "output_type": "stream",
          "name": "stderr",
          "text": [
            "100%|██████████| 26421880/26421880 [00:02<00:00, 12822501.99it/s]\n"
          ]
        },
        {
          "output_type": "stream",
          "name": "stdout",
          "text": [
            "Extracting data/FashionMNIST/raw/train-images-idx3-ubyte.gz to data/FashionMNIST/raw\n",
            "\n",
            "Downloading http://fashion-mnist.s3-website.eu-central-1.amazonaws.com/train-labels-idx1-ubyte.gz\n",
            "Downloading http://fashion-mnist.s3-website.eu-central-1.amazonaws.com/train-labels-idx1-ubyte.gz to data/FashionMNIST/raw/train-labels-idx1-ubyte.gz\n"
          ]
        },
        {
          "output_type": "stream",
          "name": "stderr",
          "text": [
            "100%|██████████| 29515/29515 [00:00<00:00, 204109.54it/s]\n"
          ]
        },
        {
          "output_type": "stream",
          "name": "stdout",
          "text": [
            "Extracting data/FashionMNIST/raw/train-labels-idx1-ubyte.gz to data/FashionMNIST/raw\n",
            "\n",
            "Downloading http://fashion-mnist.s3-website.eu-central-1.amazonaws.com/t10k-images-idx3-ubyte.gz\n",
            "Downloading http://fashion-mnist.s3-website.eu-central-1.amazonaws.com/t10k-images-idx3-ubyte.gz to data/FashionMNIST/raw/t10k-images-idx3-ubyte.gz\n"
          ]
        },
        {
          "output_type": "stream",
          "name": "stderr",
          "text": [
            "100%|██████████| 4422102/4422102 [00:01<00:00, 3711486.20it/s]\n"
          ]
        },
        {
          "output_type": "stream",
          "name": "stdout",
          "text": [
            "Extracting data/FashionMNIST/raw/t10k-images-idx3-ubyte.gz to data/FashionMNIST/raw\n",
            "\n",
            "Downloading http://fashion-mnist.s3-website.eu-central-1.amazonaws.com/t10k-labels-idx1-ubyte.gz\n",
            "Downloading http://fashion-mnist.s3-website.eu-central-1.amazonaws.com/t10k-labels-idx1-ubyte.gz to data/FashionMNIST/raw/t10k-labels-idx1-ubyte.gz\n"
          ]
        },
        {
          "output_type": "stream",
          "name": "stderr",
          "text": [
            "100%|██████████| 5148/5148 [00:00<00:00, 19007286.08it/s]\n"
          ]
        },
        {
          "output_type": "stream",
          "name": "stdout",
          "text": [
            "Extracting data/FashionMNIST/raw/t10k-labels-idx1-ubyte.gz to data/FashionMNIST/raw\n",
            "\n"
          ]
        }
      ]
    },
    {
      "cell_type": "code",
      "source": [
        "len(test_data)"
      ],
      "metadata": {
        "colab": {
          "base_uri": "https://localhost:8080/"
        },
        "id": "a5bTQRIPAPZS",
        "outputId": "786d2664-6fa6-4825-f504-2d010832f28a"
      },
      "execution_count": 4,
      "outputs": [
        {
          "output_type": "execute_result",
          "data": {
            "text/plain": [
              "10000"
            ]
          },
          "metadata": {},
          "execution_count": 4
        }
      ]
    },
    {
      "cell_type": "code",
      "source": [
        "len(train_data)"
      ],
      "metadata": {
        "colab": {
          "base_uri": "https://localhost:8080/"
        },
        "id": "cOxs3IxeARy4",
        "outputId": "ac356c90-ca10-433d-c8b7-c30ee595b7c7"
      },
      "execution_count": 5,
      "outputs": [
        {
          "output_type": "execute_result",
          "data": {
            "text/plain": [
              "60000"
            ]
          },
          "metadata": {},
          "execution_count": 5
        }
      ]
    },
    {
      "cell_type": "code",
      "source": [
        "# see train data\n",
        "image, label = train_data[0]\n",
        "image, label"
      ],
      "metadata": {
        "colab": {
          "base_uri": "https://localhost:8080/"
        },
        "id": "cN41-iUWATVv",
        "outputId": "29683ac5-8e18-42f5-abf7-65dc56c38245"
      },
      "execution_count": 6,
      "outputs": [
        {
          "output_type": "execute_result",
          "data": {
            "text/plain": [
              "(tensor([[[0.0000, 0.0000, 0.0000, 0.0000, 0.0000, 0.0000, 0.0000, 0.0000,\n",
              "           0.0000, 0.0000, 0.0000, 0.0000, 0.0000, 0.0000, 0.0000, 0.0000,\n",
              "           0.0000, 0.0000, 0.0000, 0.0000, 0.0000, 0.0000, 0.0000, 0.0000,\n",
              "           0.0000, 0.0000, 0.0000, 0.0000],\n",
              "          [0.0000, 0.0000, 0.0000, 0.0000, 0.0000, 0.0000, 0.0000, 0.0000,\n",
              "           0.0000, 0.0000, 0.0000, 0.0000, 0.0000, 0.0000, 0.0000, 0.0000,\n",
              "           0.0000, 0.0000, 0.0000, 0.0000, 0.0000, 0.0000, 0.0000, 0.0000,\n",
              "           0.0000, 0.0000, 0.0000, 0.0000],\n",
              "          [0.0000, 0.0000, 0.0000, 0.0000, 0.0000, 0.0000, 0.0000, 0.0000,\n",
              "           0.0000, 0.0000, 0.0000, 0.0000, 0.0000, 0.0000, 0.0000, 0.0000,\n",
              "           0.0000, 0.0000, 0.0000, 0.0000, 0.0000, 0.0000, 0.0000, 0.0000,\n",
              "           0.0000, 0.0000, 0.0000, 0.0000],\n",
              "          [0.0000, 0.0000, 0.0000, 0.0000, 0.0000, 0.0000, 0.0000, 0.0000,\n",
              "           0.0000, 0.0000, 0.0000, 0.0000, 0.0039, 0.0000, 0.0000, 0.0510,\n",
              "           0.2863, 0.0000, 0.0000, 0.0039, 0.0157, 0.0000, 0.0000, 0.0000,\n",
              "           0.0000, 0.0039, 0.0039, 0.0000],\n",
              "          [0.0000, 0.0000, 0.0000, 0.0000, 0.0000, 0.0000, 0.0000, 0.0000,\n",
              "           0.0000, 0.0000, 0.0000, 0.0000, 0.0118, 0.0000, 0.1412, 0.5333,\n",
              "           0.4980, 0.2431, 0.2118, 0.0000, 0.0000, 0.0000, 0.0039, 0.0118,\n",
              "           0.0157, 0.0000, 0.0000, 0.0118],\n",
              "          [0.0000, 0.0000, 0.0000, 0.0000, 0.0000, 0.0000, 0.0000, 0.0000,\n",
              "           0.0000, 0.0000, 0.0000, 0.0000, 0.0235, 0.0000, 0.4000, 0.8000,\n",
              "           0.6902, 0.5255, 0.5647, 0.4824, 0.0902, 0.0000, 0.0000, 0.0000,\n",
              "           0.0000, 0.0471, 0.0392, 0.0000],\n",
              "          [0.0000, 0.0000, 0.0000, 0.0000, 0.0000, 0.0000, 0.0000, 0.0000,\n",
              "           0.0000, 0.0000, 0.0000, 0.0000, 0.0000, 0.0000, 0.6078, 0.9255,\n",
              "           0.8118, 0.6980, 0.4196, 0.6118, 0.6314, 0.4275, 0.2510, 0.0902,\n",
              "           0.3020, 0.5098, 0.2824, 0.0588],\n",
              "          [0.0000, 0.0000, 0.0000, 0.0000, 0.0000, 0.0000, 0.0000, 0.0000,\n",
              "           0.0000, 0.0000, 0.0000, 0.0039, 0.0000, 0.2706, 0.8118, 0.8745,\n",
              "           0.8549, 0.8471, 0.8471, 0.6392, 0.4980, 0.4745, 0.4784, 0.5725,\n",
              "           0.5529, 0.3451, 0.6745, 0.2588],\n",
              "          [0.0000, 0.0000, 0.0000, 0.0000, 0.0000, 0.0000, 0.0000, 0.0000,\n",
              "           0.0000, 0.0039, 0.0039, 0.0039, 0.0000, 0.7843, 0.9098, 0.9098,\n",
              "           0.9137, 0.8980, 0.8745, 0.8745, 0.8431, 0.8353, 0.6431, 0.4980,\n",
              "           0.4824, 0.7686, 0.8980, 0.0000],\n",
              "          [0.0000, 0.0000, 0.0000, 0.0000, 0.0000, 0.0000, 0.0000, 0.0000,\n",
              "           0.0000, 0.0000, 0.0000, 0.0000, 0.0000, 0.7176, 0.8824, 0.8471,\n",
              "           0.8745, 0.8941, 0.9216, 0.8902, 0.8784, 0.8706, 0.8784, 0.8667,\n",
              "           0.8745, 0.9608, 0.6784, 0.0000],\n",
              "          [0.0000, 0.0000, 0.0000, 0.0000, 0.0000, 0.0000, 0.0000, 0.0000,\n",
              "           0.0000, 0.0000, 0.0000, 0.0000, 0.0000, 0.7569, 0.8941, 0.8549,\n",
              "           0.8353, 0.7765, 0.7059, 0.8314, 0.8235, 0.8275, 0.8353, 0.8745,\n",
              "           0.8627, 0.9529, 0.7922, 0.0000],\n",
              "          [0.0000, 0.0000, 0.0000, 0.0000, 0.0000, 0.0000, 0.0000, 0.0000,\n",
              "           0.0000, 0.0039, 0.0118, 0.0000, 0.0471, 0.8588, 0.8627, 0.8314,\n",
              "           0.8549, 0.7529, 0.6627, 0.8902, 0.8157, 0.8549, 0.8784, 0.8314,\n",
              "           0.8863, 0.7725, 0.8196, 0.2039],\n",
              "          [0.0000, 0.0000, 0.0000, 0.0000, 0.0000, 0.0000, 0.0000, 0.0000,\n",
              "           0.0000, 0.0000, 0.0235, 0.0000, 0.3882, 0.9569, 0.8706, 0.8627,\n",
              "           0.8549, 0.7961, 0.7765, 0.8667, 0.8431, 0.8353, 0.8706, 0.8627,\n",
              "           0.9608, 0.4667, 0.6549, 0.2196],\n",
              "          [0.0000, 0.0000, 0.0000, 0.0000, 0.0000, 0.0000, 0.0000, 0.0000,\n",
              "           0.0000, 0.0157, 0.0000, 0.0000, 0.2157, 0.9255, 0.8941, 0.9020,\n",
              "           0.8941, 0.9412, 0.9098, 0.8353, 0.8549, 0.8745, 0.9176, 0.8510,\n",
              "           0.8510, 0.8196, 0.3608, 0.0000],\n",
              "          [0.0000, 0.0000, 0.0039, 0.0157, 0.0235, 0.0275, 0.0078, 0.0000,\n",
              "           0.0000, 0.0000, 0.0000, 0.0000, 0.9294, 0.8863, 0.8510, 0.8745,\n",
              "           0.8706, 0.8588, 0.8706, 0.8667, 0.8471, 0.8745, 0.8980, 0.8431,\n",
              "           0.8549, 1.0000, 0.3020, 0.0000],\n",
              "          [0.0000, 0.0118, 0.0000, 0.0000, 0.0000, 0.0000, 0.0000, 0.0000,\n",
              "           0.0000, 0.2431, 0.5686, 0.8000, 0.8941, 0.8118, 0.8353, 0.8667,\n",
              "           0.8549, 0.8157, 0.8275, 0.8549, 0.8784, 0.8745, 0.8588, 0.8431,\n",
              "           0.8784, 0.9569, 0.6235, 0.0000],\n",
              "          [0.0000, 0.0000, 0.0000, 0.0000, 0.0706, 0.1725, 0.3216, 0.4196,\n",
              "           0.7412, 0.8941, 0.8627, 0.8706, 0.8510, 0.8863, 0.7843, 0.8039,\n",
              "           0.8275, 0.9020, 0.8784, 0.9176, 0.6902, 0.7373, 0.9804, 0.9725,\n",
              "           0.9137, 0.9333, 0.8431, 0.0000],\n",
              "          [0.0000, 0.2235, 0.7333, 0.8157, 0.8784, 0.8667, 0.8784, 0.8157,\n",
              "           0.8000, 0.8392, 0.8157, 0.8196, 0.7843, 0.6235, 0.9608, 0.7569,\n",
              "           0.8078, 0.8745, 1.0000, 1.0000, 0.8667, 0.9176, 0.8667, 0.8275,\n",
              "           0.8627, 0.9098, 0.9647, 0.0000],\n",
              "          [0.0118, 0.7922, 0.8941, 0.8784, 0.8667, 0.8275, 0.8275, 0.8392,\n",
              "           0.8039, 0.8039, 0.8039, 0.8627, 0.9412, 0.3137, 0.5882, 1.0000,\n",
              "           0.8980, 0.8667, 0.7373, 0.6039, 0.7490, 0.8235, 0.8000, 0.8196,\n",
              "           0.8706, 0.8941, 0.8824, 0.0000],\n",
              "          [0.3843, 0.9137, 0.7765, 0.8235, 0.8706, 0.8980, 0.8980, 0.9176,\n",
              "           0.9765, 0.8627, 0.7608, 0.8431, 0.8510, 0.9451, 0.2549, 0.2863,\n",
              "           0.4157, 0.4588, 0.6588, 0.8588, 0.8667, 0.8431, 0.8510, 0.8745,\n",
              "           0.8745, 0.8784, 0.8980, 0.1137],\n",
              "          [0.2941, 0.8000, 0.8314, 0.8000, 0.7569, 0.8039, 0.8275, 0.8824,\n",
              "           0.8471, 0.7255, 0.7725, 0.8078, 0.7765, 0.8353, 0.9412, 0.7647,\n",
              "           0.8902, 0.9608, 0.9373, 0.8745, 0.8549, 0.8314, 0.8196, 0.8706,\n",
              "           0.8627, 0.8667, 0.9020, 0.2627],\n",
              "          [0.1882, 0.7961, 0.7176, 0.7608, 0.8353, 0.7725, 0.7255, 0.7451,\n",
              "           0.7608, 0.7529, 0.7922, 0.8392, 0.8588, 0.8667, 0.8627, 0.9255,\n",
              "           0.8824, 0.8471, 0.7804, 0.8078, 0.7294, 0.7098, 0.6941, 0.6745,\n",
              "           0.7098, 0.8039, 0.8078, 0.4510],\n",
              "          [0.0000, 0.4784, 0.8588, 0.7569, 0.7020, 0.6706, 0.7176, 0.7686,\n",
              "           0.8000, 0.8235, 0.8353, 0.8118, 0.8275, 0.8235, 0.7843, 0.7686,\n",
              "           0.7608, 0.7490, 0.7647, 0.7490, 0.7765, 0.7529, 0.6902, 0.6118,\n",
              "           0.6549, 0.6941, 0.8235, 0.3608],\n",
              "          [0.0000, 0.0000, 0.2902, 0.7412, 0.8314, 0.7490, 0.6863, 0.6745,\n",
              "           0.6863, 0.7098, 0.7255, 0.7373, 0.7412, 0.7373, 0.7569, 0.7765,\n",
              "           0.8000, 0.8196, 0.8235, 0.8235, 0.8275, 0.7373, 0.7373, 0.7608,\n",
              "           0.7529, 0.8471, 0.6667, 0.0000],\n",
              "          [0.0078, 0.0000, 0.0000, 0.0000, 0.2588, 0.7843, 0.8706, 0.9294,\n",
              "           0.9373, 0.9490, 0.9647, 0.9529, 0.9569, 0.8667, 0.8627, 0.7569,\n",
              "           0.7490, 0.7020, 0.7137, 0.7137, 0.7098, 0.6902, 0.6510, 0.6588,\n",
              "           0.3882, 0.2275, 0.0000, 0.0000],\n",
              "          [0.0000, 0.0000, 0.0000, 0.0000, 0.0000, 0.0000, 0.0000, 0.1569,\n",
              "           0.2392, 0.1725, 0.2824, 0.1608, 0.1373, 0.0000, 0.0000, 0.0000,\n",
              "           0.0000, 0.0000, 0.0000, 0.0000, 0.0000, 0.0000, 0.0000, 0.0000,\n",
              "           0.0000, 0.0000, 0.0000, 0.0000],\n",
              "          [0.0000, 0.0000, 0.0000, 0.0000, 0.0000, 0.0000, 0.0000, 0.0000,\n",
              "           0.0000, 0.0000, 0.0000, 0.0000, 0.0000, 0.0000, 0.0000, 0.0000,\n",
              "           0.0000, 0.0000, 0.0000, 0.0000, 0.0000, 0.0000, 0.0000, 0.0000,\n",
              "           0.0000, 0.0000, 0.0000, 0.0000],\n",
              "          [0.0000, 0.0000, 0.0000, 0.0000, 0.0000, 0.0000, 0.0000, 0.0000,\n",
              "           0.0000, 0.0000, 0.0000, 0.0000, 0.0000, 0.0000, 0.0000, 0.0000,\n",
              "           0.0000, 0.0000, 0.0000, 0.0000, 0.0000, 0.0000, 0.0000, 0.0000,\n",
              "           0.0000, 0.0000, 0.0000, 0.0000]]]),\n",
              " 9)"
            ]
          },
          "metadata": {},
          "execution_count": 6
        }
      ]
    },
    {
      "cell_type": "code",
      "source": [
        "# to see class names --> there are 9 classes in the data\n",
        "class_names = train_data.classes\n",
        "class_names"
      ],
      "metadata": {
        "colab": {
          "base_uri": "https://localhost:8080/"
        },
        "id": "8DwnNy4rAZDr",
        "outputId": "ee4999dd-240b-4703-e493-3984ed7ab11c"
      },
      "execution_count": 7,
      "outputs": [
        {
          "output_type": "execute_result",
          "data": {
            "text/plain": [
              "['T-shirt/top',\n",
              " 'Trouser',\n",
              " 'Pullover',\n",
              " 'Dress',\n",
              " 'Coat',\n",
              " 'Sandal',\n",
              " 'Shirt',\n",
              " 'Sneaker',\n",
              " 'Bag',\n",
              " 'Ankle boot']"
            ]
          },
          "metadata": {},
          "execution_count": 7
        }
      ]
    },
    {
      "cell_type": "code",
      "source": [
        "class_to_idx = train_data.class_to_idx\n",
        "class_to_idx"
      ],
      "metadata": {
        "colab": {
          "base_uri": "https://localhost:8080/"
        },
        "id": "PzaKaVPtAjf2",
        "outputId": "b1586f53-9342-438c-a5c9-45736c987c7d"
      },
      "execution_count": 8,
      "outputs": [
        {
          "output_type": "execute_result",
          "data": {
            "text/plain": [
              "{'T-shirt/top': 0,\n",
              " 'Trouser': 1,\n",
              " 'Pullover': 2,\n",
              " 'Dress': 3,\n",
              " 'Coat': 4,\n",
              " 'Sandal': 5,\n",
              " 'Shirt': 6,\n",
              " 'Sneaker': 7,\n",
              " 'Bag': 8,\n",
              " 'Ankle boot': 9}"
            ]
          },
          "metadata": {},
          "execution_count": 8
        }
      ]
    },
    {
      "cell_type": "code",
      "source": [
        "image.shape, label"
      ],
      "metadata": {
        "colab": {
          "base_uri": "https://localhost:8080/"
        },
        "id": "9TNb4-BjBThM",
        "outputId": "483da295-6731-4fc8-b73b-ff0a5929c074"
      },
      "execution_count": 9,
      "outputs": [
        {
          "output_type": "execute_result",
          "data": {
            "text/plain": [
              "(torch.Size([1, 28, 28]), 9)"
            ]
          },
          "metadata": {},
          "execution_count": 9
        }
      ]
    },
    {
      "cell_type": "markdown",
      "source": [
        "### The above output [1, 28, 28] --> [color_channel, height, width]\n",
        "\n",
        "* Greyscale images has 1 color channel"
      ],
      "metadata": {
        "id": "KKdoPYPNBl91"
      }
    },
    {
      "cell_type": "markdown",
      "source": [
        "# **1.2 Visualise a image**"
      ],
      "metadata": {
        "id": "PpL76i77BfEF"
      }
    },
    {
      "cell_type": "code",
      "source": [
        "import matplotlib.pyplot as plt\n",
        "image, label = train_data[0]\n",
        "print(f\"image shape: {image.shape}\")\n",
        "plt.imshow(image.squeeze())\n",
        "print(f\"shape of squeezed image: {image.squeeze().shape}\")\n",
        "plt.title(label)"
      ],
      "metadata": {
        "colab": {
          "base_uri": "https://localhost:8080/",
          "height": 504
        },
        "id": "56sgpc1bCVJQ",
        "outputId": "5ea67c5d-5352-4e9d-aff6-3951328bf235"
      },
      "execution_count": 10,
      "outputs": [
        {
          "output_type": "stream",
          "name": "stdout",
          "text": [
            "image shape: torch.Size([1, 28, 28])\n",
            "shape of squeezed image: torch.Size([28, 28])\n"
          ]
        },
        {
          "output_type": "execute_result",
          "data": {
            "text/plain": [
              "Text(0.5, 1.0, '9')"
            ]
          },
          "metadata": {},
          "execution_count": 10
        },
        {
          "output_type": "display_data",
          "data": {
            "text/plain": [
              "<Figure size 640x480 with 1 Axes>"
            ],
            "image/png": "[encoded data removed]"
          },
          "metadata": {}
        }
      ]
    },
    {
      "cell_type": "code",
      "source": [
        "plt.imshow(image.squeeze(), cmap = \"gray\")\n",
        "plt.title(class_names[label])"
      ],
      "metadata": {
        "colab": {
          "base_uri": "https://localhost:8080/",
          "height": 469
        },
        "id": "3K5vgm7EC7NV",
        "outputId": "68a2fb55-66b3-4d0a-a4e8-c3c89cb28353"
      },
      "execution_count": 11,
      "outputs": [
        {
          "output_type": "execute_result",
          "data": {
            "text/plain": [
              "Text(0.5, 1.0, 'Ankle boot')"
            ]
          },
          "metadata": {},
          "execution_count": 11
        },
        {
          "output_type": "display_data",
          "data": {
            "text/plain": [
              "<Figure size 640x480 with 1 Axes>"
            ],
            "image/png": "[encoded data removed]"
          },
          "metadata": {}
        }
      ]
    },
    {
      "cell_type": "code",
      "source": [
        "# Plot more images\n",
        "torch.manual_seed(42)\n",
        "fig = plt.figure(figsize=(9, 9))\n",
        "rows, cols = 4, 4\n",
        "for i in range(1, rows * cols + 1):\n",
        "    random_idx = torch.randint(0, len(train_data), size=[1]).item()\n",
        "    img, label = train_data[random_idx]\n",
        "    fig.add_subplot(rows, cols, i)\n",
        "    plt.imshow(img.squeeze(), cmap=\"gray\")\n",
        "    plt.title(class_names[label])\n",
        "    plt.axis(False);"
      ],
      "metadata": {
        "colab": {
          "base_uri": "https://localhost:8080/",
          "height": 752
        },
        "id": "fJM8qCCiD1JS",
        "outputId": "620e6bad-9318-41fc-855b-dafa9b949064"
      },
      "execution_count": 12,
      "outputs": [
        {
          "output_type": "display_data",
          "data": {
            "text/plain": [
              "<Figure size 900x900 with 16 Axes>"
            ],
            "image/png": "[encoded data removed]"
          },
          "metadata": {}
        }
      ]
    },
    {
      "cell_type": "code",
      "source": [
        "train_data"
      ],
      "metadata": {
        "colab": {
          "base_uri": "https://localhost:8080/"
        },
        "id": "CUl_B78UE7WJ",
        "outputId": "54101fc5-c42d-4b68-e907-bbf219b31d88"
      },
      "execution_count": 13,
      "outputs": [
        {
          "output_type": "execute_result",
          "data": {
            "text/plain": [
              "Dataset FashionMNIST\n",
              "    Number of datapoints: 60000\n",
              "    Root location: data\n",
              "    Split: Train\n",
              "    StandardTransform\n",
              "Transform: ToTensor()"
            ]
          },
          "metadata": {},
          "execution_count": 13
        }
      ]
    },
    {
      "cell_type": "code",
      "source": [
        "test_data"
      ],
      "metadata": {
        "colab": {
          "base_uri": "https://localhost:8080/"
        },
        "id": "HGxcMYLBTjYy",
        "outputId": "de4c8176-af45-4b3a-f3c7-f798df847a92"
      },
      "execution_count": 14,
      "outputs": [
        {
          "output_type": "execute_result",
          "data": {
            "text/plain": [
              "Dataset FashionMNIST\n",
              "    Number of datapoints: 10000\n",
              "    Root location: data\n",
              "    Split: Test\n",
              "    StandardTransform\n",
              "Transform: ToTensor()"
            ]
          },
          "metadata": {},
          "execution_count": 14
        }
      ]
    },
    {
      "cell_type": "markdown",
      "source": [
        "# 2. Prepare DataLoader\n"
      ],
      "metadata": {
        "id": "dWrxtVXMTpQi"
      }
    },
    {
      "cell_type": "code",
      "source": [
        "from torch.utils.data import DataLoader\n",
        "\n",
        "# steup batch size\n",
        "BATCH_SIZE = 32\n",
        "\n",
        "# Turn the datasets into iterables (batches)\n",
        "train_dataloader = DataLoader(dataset = train_data,\n",
        "                              batch_size = BATCH_SIZE,\n",
        "                              shuffle = True)\n",
        "\n",
        "test_dataloader = DataLoader(dataset = test_data,\n",
        "                             batch_size = BATCH_SIZE,\n",
        "                             shuffle = False)"
      ],
      "metadata": {
        "id": "MK0pU_NIT9KO"
      },
      "execution_count": 15,
      "outputs": []
    },
    {
      "cell_type": "code",
      "source": [
        "train_dataloader, test_dataloader"
      ],
      "metadata": {
        "colab": {
          "base_uri": "https://localhost:8080/"
        },
        "id": "iN7ymYIdVyql",
        "outputId": "c3dbd786-a932-4aef-fe03-f9ca385695e8"
      },
      "execution_count": 16,
      "outputs": [
        {
          "output_type": "execute_result",
          "data": {
            "text/plain": [
              "(<torch.utils.data.dataloader.DataLoader at 0x7c036d28dc30>,\n",
              " <torch.utils.data.dataloader.DataLoader at 0x7c036d29c3a0>)"
            ]
          },
          "metadata": {},
          "execution_count": 16
        }
      ]
    },
    {
      "cell_type": "code",
      "source": [
        "print(f\"DataLoaders: {train_dataloader, test_dataloader}\")\n",
        "print(f\"Length of train dataloader : {len(train_dataloader)} batches of {BATCH_SIZE}\")\n",
        "print(f\"Length of test dataloader : {len(test_dataloader)} batches of {BATCH_SIZE}\")"
      ],
      "metadata": {
        "colab": {
          "base_uri": "https://localhost:8080/"
        },
        "id": "jrcd5JfpV7AE",
        "outputId": "4f1f0d55-3ce9-4628-d4a0-bd8129cc77bf"
      },
      "execution_count": 17,
      "outputs": [
        {
          "output_type": "stream",
          "name": "stdout",
          "text": [
            "DataLoaders: (<torch.utils.data.dataloader.DataLoader object at 0x7c036d28dc30>, <torch.utils.data.dataloader.DataLoader object at 0x7c036d29c3a0>)\n",
            "Length of train dataloader : 1875 batches of 32\n",
            "Length of test dataloader : 313 batches of 32\n"
          ]
        }
      ]
    },
    {
      "cell_type": "code",
      "source": [
        "# check out what's inside dataloader\n",
        "train_features_batch, train_labels_batch = next(iter(train_dataloader))\n",
        "train_features_batch.shape, train_labels_batch.shape"
      ],
      "metadata": {
        "colab": {
          "base_uri": "https://localhost:8080/"
        },
        "id": "4ZGp2vH-Wqck",
        "outputId": "9c5bf9a5-3ccb-4d56-c818-9dad68365c49"
      },
      "execution_count": 18,
      "outputs": [
        {
          "output_type": "execute_result",
          "data": {
            "text/plain": [
              "(torch.Size([32, 1, 28, 28]), torch.Size([32]))"
            ]
          },
          "metadata": {},
          "execution_count": 18
        }
      ]
    },
    {
      "cell_type": "code",
      "source": [
        "train_features_batch"
      ],
      "metadata": {
        "colab": {
          "base_uri": "https://localhost:8080/"
        },
        "id": "P37mFfGNtWkO",
        "outputId": "5a5dab4a-bf52-4d3a-b815-619f049c6011"
      },
      "execution_count": 19,
      "outputs": [
        {
          "output_type": "execute_result",
          "data": {
            "text/plain": [
              "tensor([[[[0.0000, 0.0000, 0.0000,  ..., 0.0000, 0.0000, 0.0000],\n",
              "          [0.0000, 0.0000, 0.0000,  ..., 0.0000, 0.0000, 0.0000],\n",
              "          [0.0000, 0.0000, 0.0000,  ..., 0.0000, 0.0000, 0.0000],\n",
              "          ...,\n",
              "          [0.0000, 0.0000, 0.0000,  ..., 0.0157, 0.0000, 0.0039],\n",
              "          [0.0000, 0.0000, 0.0000,  ..., 0.0000, 0.0000, 0.0000],\n",
              "          [0.0000, 0.0000, 0.0000,  ..., 0.0000, 0.0000, 0.0000]]],\n",
              "\n",
              "\n",
              "        [[[0.0000, 0.0000, 0.0000,  ..., 0.0000, 0.0000, 0.0000],\n",
              "          [0.0000, 0.0000, 0.0000,  ..., 0.0000, 0.0000, 0.0000],\n",
              "          [0.0000, 0.0000, 0.0000,  ..., 0.0000, 0.0000, 0.0000],\n",
              "          ...,\n",
              "          [0.0000, 0.0000, 0.0000,  ..., 0.0000, 0.0000, 0.0000],\n",
              "          [0.0000, 0.0000, 0.0000,  ..., 0.0000, 0.0000, 0.0000],\n",
              "          [0.0000, 0.0000, 0.0000,  ..., 0.0000, 0.0000, 0.0000]]],\n",
              "\n",
              "\n",
              "        [[[0.0000, 0.0000, 0.0000,  ..., 0.0000, 0.0000, 0.0000],\n",
              "          [0.0000, 0.0000, 0.0000,  ..., 0.0000, 0.0000, 0.0000],\n",
              "          [0.0000, 0.0000, 0.0000,  ..., 0.0000, 0.0000, 0.0000],\n",
              "          ...,\n",
              "          [0.0000, 0.0000, 0.0000,  ..., 0.0000, 0.0078, 0.0000],\n",
              "          [0.0000, 0.0000, 0.0000,  ..., 0.0000, 0.0000, 0.0000],\n",
              "          [0.0000, 0.0000, 0.0000,  ..., 0.0000, 0.0000, 0.0000]]],\n",
              "\n",
              "\n",
              "        ...,\n",
              "\n",
              "\n",
              "        [[[0.0000, 0.0000, 0.0000,  ..., 0.0000, 0.0000, 0.0000],\n",
              "          [0.0000, 0.0000, 0.0000,  ..., 0.0000, 0.0000, 0.0000],\n",
              "          [0.0000, 0.0000, 0.0000,  ..., 0.0000, 0.0000, 0.0000],\n",
              "          ...,\n",
              "          [0.0000, 0.0000, 0.0000,  ..., 0.0000, 0.0000, 0.0000],\n",
              "          [0.0000, 0.0000, 0.0000,  ..., 0.0000, 0.0000, 0.0000],\n",
              "          [0.0000, 0.0000, 0.0000,  ..., 0.0000, 0.0000, 0.0000]]],\n",
              "\n",
              "\n",
              "        [[[0.0000, 0.0000, 0.0000,  ..., 0.0000, 0.0000, 0.0000],\n",
              "          [0.0000, 0.0000, 0.0000,  ..., 0.0000, 0.0000, 0.0000],\n",
              "          [0.0000, 0.0000, 0.0000,  ..., 0.0000, 0.0000, 0.0000],\n",
              "          ...,\n",
              "          [0.0000, 0.0000, 0.0000,  ..., 0.0000, 0.0000, 0.0000],\n",
              "          [0.0000, 0.0000, 0.0000,  ..., 0.0000, 0.0000, 0.0000],\n",
              "          [0.0000, 0.0000, 0.0000,  ..., 0.0000, 0.0000, 0.0000]]],\n",
              "\n",
              "\n",
              "        [[[0.0000, 0.0000, 0.0000,  ..., 0.0000, 0.0000, 0.0000],\n",
              "          [0.0000, 0.0000, 0.0000,  ..., 0.0000, 0.0000, 0.0000],\n",
              "          [0.0000, 0.0000, 0.0000,  ..., 0.0000, 0.0000, 0.0000],\n",
              "          ...,\n",
              "          [0.0000, 0.0000, 0.0000,  ..., 0.0000, 0.0000, 0.0000],\n",
              "          [0.0000, 0.0000, 0.0000,  ..., 0.0000, 0.0000, 0.0000],\n",
              "          [0.0000, 0.0000, 0.0000,  ..., 0.0000, 0.0000, 0.0000]]]])"
            ]
          },
          "metadata": {},
          "execution_count": 19
        }
      ]
    },
    {
      "cell_type": "code",
      "source": [
        "# Show a sample\n",
        "# torch.manual_seed(42)\n",
        "random_idx = torch.randint(0, len(train_features_batch), size=[1]).item()\n",
        "img, label = train_features_batch[random_idx], train_labels_batch[random_idx]\n",
        "plt.imshow(img.squeeze(), cmap=\"gray\")\n",
        "plt.title(class_names[label])\n",
        "plt.axis(\"Off\");\n",
        "print(f\"Image size: {img.shape}\")\n",
        "print(f\"Label: {label}, label size: {label.shape}\")"
      ],
      "metadata": {
        "colab": {
          "base_uri": "https://localhost:8080/",
          "height": 463
        },
        "id": "-ltvG-W9Xor4",
        "outputId": "4c58188d-6362-487b-ecc2-9f6c8fb7298b"
      },
      "execution_count": 20,
      "outputs": [
        {
          "output_type": "stream",
          "name": "stdout",
          "text": [
            "Image size: torch.Size([1, 28, 28])\n",
            "Label: 8, label size: torch.Size([])\n"
          ]
        },
        {
          "output_type": "display_data",
          "data": {
            "text/plain": [
              "<Figure size 640x480 with 1 Axes>"
            ],
            "image/png": "[encoded data removed]"
          },
          "metadata": {}
        }
      ]
    },
    {
      "cell_type": "code",
      "source": [
        "# Setup device agnostic code\n",
        "import torch\n",
        "device = \"cuda\" if torch.cuda.is_available() else \"cpu\"\n",
        "device"
      ],
      "metadata": {
        "colab": {
          "base_uri": "https://localhost:8080/",
          "height": 35
        },
        "id": "87KTOmxOXk9a",
        "outputId": "7acc3c31-c2e3-49ad-f0ff-66be8d0f4976"
      },
      "execution_count": 21,
      "outputs": [
        {
          "output_type": "execute_result",
          "data": {
            "text/plain": [
              "'cuda'"
            ],
            "application/vnd.google.colaboratory.intrinsic+json": {
              "type": "string"
            }
          },
          "metadata": {},
          "execution_count": 21
        }
      ]
    },
    {
      "cell_type": "markdown",
      "source": [
        "# **Building a Convolution Neural Network**"
      ],
      "metadata": {
        "id": "2U6m9XsdE_OI"
      }
    },
    {
      "cell_type": "code",
      "source": [
        " # create a cnn\n",
        "class FashionMNISTModelV2(nn.Module):\n",
        "    \"\"\"\n",
        "    Model architecture that replicates the TinyVGG model from CNN explainer website\n",
        "    \"\"\"\n",
        "    def __init__(self, input_shape: int, hidden_units: int, output_shape: int):\n",
        "        super().__init__()\n",
        "        self.conv_block_1 = nn.Sequential(\n",
        "            nn.Conv2d(in_channels = input_shape,\n",
        "                      out_channels = hidden_units,\n",
        "                      kernel_size = 3,\n",
        "                      stride = 1,\n",
        "                      padding = 1),\n",
        "            nn.ReLU(),\n",
        "            nn.Conv2d(in_channels = hidden_units,\n",
        "                      out_channels = hidden_units,\n",
        "                      kernel_size=3,\n",
        "                      stride = 1,\n",
        "                      padding = 1),\n",
        "            nn.ReLU(),\n",
        "            nn.MaxPool2d(kernel_size = 2)\n",
        "        )\n",
        "        self.conv_block_2 = nn.Sequential(\n",
        "            nn.Conv2d(in_channels = hidden_units,\n",
        "                      out_channels = hidden_units,\n",
        "                      kernel_size = 3,\n",
        "                      stride = 1,\n",
        "                      padding = 1),\n",
        "            nn.ReLU(),\n",
        "            nn.Conv2d(in_channels = hidden_units,\n",
        "                      out_channels = hidden_units,\n",
        "                      kernel_size = 3,\n",
        "                      stride = 1,\n",
        "                      padding =1),\n",
        "            nn.ReLU(),\n",
        "            nn.MaxPool2d(kernel_size = 2)\n",
        "        )\n",
        "        self.classifier = nn.Sequential(\n",
        "            nn.Flatten(),\n",
        "            nn.Linear(in_features = hidden_units*7*7,\n",
        "                      out_features = output_shape)\n",
        "        )\n",
        "\n",
        "    def forward(self, x):\n",
        "        x = self.conv_block_1(x)\n",
        "        # print(f\"Output shape of conv_block_1:{x.shape}\")\n",
        "        x = self.conv_block_2(x)\n",
        "        # print(f\"Output shape of conv_block_2:{x.shape}\")\n",
        "        x = self.classifier(x)\n",
        "        # print(f\"output shape of classifier: {x.shape}\")\n",
        "        return x\n"
      ],
      "metadata": {
        "id": "Yj_SJNNBE-8a"
      },
      "execution_count": 22,
      "outputs": []
    },
    {
      "cell_type": "code",
      "source": [
        "torch.manual_seed(42)\n",
        "model_1 = FashionMNISTModelV2(\n",
        "    input_shape = 1, # our input size will be 1 because we are using only 1 channel\n",
        "    hidden_units = 10,\n",
        "    output_shape = len(class_names)).to(device)"
      ],
      "metadata": {
        "id": "0gIA9WJWejS5"
      },
      "execution_count": 23,
      "outputs": []
    },
    {
      "cell_type": "markdown",
      "source": [
        "## **setup a loss function and optimizer**"
      ],
      "metadata": {
        "id": "P5JX4GxP9sjF"
      }
    },
    {
      "cell_type": "code",
      "source": [
        "import requests\n",
        "from pathlib import Path\n",
        "\n",
        "# Download helper functions from Learn PyTorch repo (if not already downloaded)\n",
        "if Path(\"helper_functions.py\").is_file():\n",
        "  print(\"helper_functions.py already exists, skipping download\")\n",
        "else:\n",
        "  print(\"Downloading helper_functions.py\")\n",
        "  # Note: you need the \"raw\" GitHub URL for this to work\n",
        "  request = requests.get(\"https://raw.githubusercontent.com/mrdbourke/pytorch-deep-learning/main/helper_functions.py\")\n",
        "  with open(\"helper_functions.py\", \"wb\") as f:\n",
        "    f.write(request.content)"
      ],
      "metadata": {
        "colab": {
          "base_uri": "https://localhost:8080/"
        },
        "id": "uY2QfnYsGtqS",
        "outputId": "6a201c88-4395-465d-b3d8-d8aa2cbd9cd8"
      },
      "execution_count": 24,
      "outputs": [
        {
          "output_type": "stream",
          "name": "stdout",
          "text": [
            "Downloading helper_functions.py\n"
          ]
        }
      ]
    },
    {
      "cell_type": "code",
      "source": [
        "# Setup loss function/eval metrics/optimizer\n",
        "from helper_functions import accuracy_fn\n",
        "\n",
        "loss_fn = nn.CrossEntropyLoss()\n",
        "optimizer = torch.optim.SGD(params=model_1.parameters(),\n",
        "                            lr=0.1)"
      ],
      "metadata": {
        "id": "LHn_hahs9rqe"
      },
      "execution_count": 25,
      "outputs": []
    },
    {
      "cell_type": "markdown",
      "source": [
        "## **Creating a function for training and testing loop**"
      ],
      "metadata": {
        "id": "xy3uUZQpDbRQ"
      }
    },
    {
      "cell_type": "code",
      "source": [
        "def train_step(model: torch.nn.Module,\n",
        "               data_loader: torch.utils.data.DataLoader,\n",
        "               loss_fn: torch.nn.Module,\n",
        "               optimizer: torch.optim.Optimizer,\n",
        "               accuracy_fn,\n",
        "               device: torch.device = device):\n",
        "    train_loss, train_acc = 0, 0\n",
        "    model.to(device)\n",
        "    for batch, (X, y) in enumerate(data_loader):\n",
        "        # Send data to GPU\n",
        "        X, y = X.to(device), y.to(device)\n",
        "\n",
        "        # 1. Forward pass\n",
        "        y_pred = model(X)\n",
        "\n",
        "        # 2. Calculate loss\n",
        "        loss = loss_fn(y_pred, y)\n",
        "        train_loss += loss\n",
        "        train_acc += accuracy_fn(y_true=y,\n",
        "                                 y_pred=y_pred.argmax(dim=1)) # Go from logits -> pred labels\n",
        "\n",
        "        # 3. Optimizer zero grad\n",
        "        optimizer.zero_grad()\n",
        "\n",
        "        # 4. Loss backward\n",
        "        loss.backward()\n",
        "\n",
        "        # 5. Optimizer step\n",
        "        optimizer.step()\n",
        "\n",
        "    # Calculate loss and accuracy per epoch and print out what's happening\n",
        "    train_loss /= len(data_loader)\n",
        "    train_acc /= len(data_loader)\n",
        "    print(f\"Train loss: {train_loss:.5f} | Train accuracy: {train_acc:.2f}%\")\n",
        "\n",
        "def test_step(data_loader: torch.utils.data.DataLoader,\n",
        "              model: torch.nn.Module,\n",
        "              loss_fn: torch.nn.Module,\n",
        "              accuracy_fn,\n",
        "              device: torch.device = device):\n",
        "    test_loss, test_acc = 0, 0\n",
        "    model.to(device)\n",
        "    model.eval() # put model in eval mode\n",
        "    # Turn on inference context manager\n",
        "    with torch.inference_mode():\n",
        "        for X, y in data_loader:\n",
        "            # Send data to GPU\n",
        "            X, y = X.to(device), y.to(device)\n",
        "\n",
        "            # 1. Forward pass\n",
        "            test_pred = model(X)\n",
        "\n",
        "            # 2. Calculate loss and accuracy\n",
        "            test_loss += loss_fn(test_pred, y)\n",
        "            test_acc += accuracy_fn(y_true=y,\n",
        "                y_pred=test_pred.argmax(dim=1) # Go from logits -> pred labels\n",
        "            )\n",
        "\n",
        "        # Adjust metrics and print out\n",
        "        test_loss /= len(data_loader)\n",
        "        test_acc /= len(data_loader)\n",
        "        print(f\"Test loss: {test_loss:.5f} | Test accuracy: {test_acc:.2f}%\\n\")"
      ],
      "metadata": {
        "id": "5OKem3BFDLoE"
      },
      "execution_count": 26,
      "outputs": []
    },
    {
      "cell_type": "code",
      "source": [],
      "metadata": {
        "id": "2ql0qVIjIu9L"
      },
      "execution_count": 26,
      "outputs": []
    },
    {
      "cell_type": "code",
      "source": [],
      "metadata": {
        "id": "a1R0-J_QIu5u"
      },
      "execution_count": 26,
      "outputs": []
    },
    {
      "cell_type": "code",
      "source": [
        "from timeit import default_timer as timer\n",
        "def print_train_time(start: float,\n",
        "                     end: float,\n",
        "                     device: torch.device = None):\n",
        "  \"\"\"Prints difference between start and end time.\"\"\"\n",
        "  total_time = end - start\n",
        "  print(f\"Train time on {device}: {total_time:.3f} seconds\")\n",
        "  return total_time"
      ],
      "metadata": {
        "id": "IqBDhjY2IssO"
      },
      "execution_count": 27,
      "outputs": []
    },
    {
      "cell_type": "markdown",
      "source": [
        "## **Training and testing loop**"
      ],
      "metadata": {
        "id": "OD948Caj-lOz"
      }
    },
    {
      "cell_type": "code",
      "source": [
        "torch.manual_seed(42)\n",
        "torch.cuda.manual_seed(42)\n",
        "\n",
        "# measure time\n",
        "from timeit import default_timer as timer\n",
        "train_time_start_model_1 = timer()\n",
        "epochs = 10\n",
        "for epoch in tqdm(range(epochs)):\n",
        "    print(f\"Epoch: {epoch}\\n------------------\")\n",
        "    train_step(model = model_1,\n",
        "               data_loader = train_dataloader,\n",
        "               loss_fn = loss_fn,\n",
        "               optimizer = optimizer,\n",
        "               accuracy_fn = accuracy_fn,\n",
        "               device = device)\n",
        "\n",
        "    test_step(model = model_1,\n",
        "              data_loader = test_dataloader,\n",
        "              loss_fn = loss_fn,\n",
        "              accuracy_fn = accuracy_fn,\n",
        "              device = device)\n",
        "\n",
        "train_time_end_model_1 = timer()\n",
        "total_train_time_model_1 = print_train_time(start = train_time_start_model_1,\n",
        "                                           end = train_time_end_model_1,\n",
        "                                           device = device)"
      ],
      "metadata": {
        "colab": {
          "base_uri": "https://localhost:8080/",
          "height": 989,
          "referenced_widgets": [
            "71fca8edcf7c4fb5b909a6ba50ebb633",
            "e30585b3b54c49f6adafe77609e5d3ba",
            "ee105be6b8d0483881706d3bddb1c12a",
            "659ab0e24b6e432a936ed392c5f0c2d3",
            "8c8bf7d7eb2942f1a53aa6847ef701c0",
            "b5ff8a95f2a94e7b9987aed80e3b965d",
            "bfba3062e17a4bf3bdcf206f3ece5259",
            "4639bfc576154d4da9ab94c1ff9fe31b",
            "34e4244875254e889f3b2c1914457d14",
            "ae46e741c05842d499725d86651e973e",
            "378ff90f1a4748b0a5e4ccdaafecd6d7"
          ]
        },
        "id": "NW-SgE_B9rmA",
        "outputId": "8ca46108-d8b7-4536-fc58-2e26aa908c9a"
      },
      "execution_count": 28,
      "outputs": [
        {
          "output_type": "display_data",
          "data": {
            "text/plain": [
              "  0%|          | 0/10 [00:00<?, ?it/s]"
            ],
            "application/vnd.jupyter.widget-view+json": {
              "version_major": 2,
              "version_minor": 0,
              "model_id": "71fca8edcf7c4fb5b909a6ba50ebb633"
            }
          },
          "metadata": {}
        },
        {
          "output_type": "stream",
          "name": "stdout",
          "text": [
            "Epoch: 0\n",
            "------------------\n"
          ]
        },
        {
          "output_type": "stream",
          "name": "stderr",
          "text": [
            "/usr/local/lib/python3.10/dist-packages/torch/autograd/graph.py:744: UserWarning: Plan failed with a cudnnException: CUDNN_BACKEND_EXECUTION_PLAN_DESCRIPTOR: cudnnFinalize Descriptor Failed cudnn_status: CUDNN_STATUS_NOT_SUPPORTED (Triggered internally at ../aten/src/ATen/native/cudnn/Conv_v8.cpp:919.)\n",
            "  return Variable._execution_engine.run_backward(  # Calls into the C++ engine to run the backward pass\n"
          ]
        },
        {
          "output_type": "stream",
          "name": "stdout",
          "text": [
            "Train loss: 0.59421 | Train accuracy: 78.30%\n",
            "Test loss: 0.39950 | Test accuracy: 85.59%\n",
            "\n",
            "Epoch: 1\n",
            "------------------\n",
            "Train loss: 0.35977 | Train accuracy: 87.11%\n",
            "Test loss: 0.34718 | Test accuracy: 87.05%\n",
            "\n",
            "Epoch: 2\n",
            "------------------\n",
            "Train loss: 0.32148 | Train accuracy: 88.39%\n",
            "Test loss: 0.32280 | Test accuracy: 88.42%\n",
            "\n",
            "Epoch: 3\n",
            "------------------\n",
            "Train loss: 0.30283 | Train accuracy: 89.01%\n",
            "Test loss: 0.32821 | Test accuracy: 88.09%\n",
            "\n",
            "Epoch: 4\n",
            "------------------\n",
            "Train loss: 0.28833 | Train accuracy: 89.60%\n",
            "Test loss: 0.30423 | Test accuracy: 89.33%\n",
            "\n",
            "Epoch: 5\n",
            "------------------\n",
            "Train loss: 0.27679 | Train accuracy: 89.88%\n",
            "Test loss: 0.32293 | Test accuracy: 88.29%\n",
            "\n",
            "Epoch: 6\n",
            "------------------\n",
            "Train loss: 0.27011 | Train accuracy: 90.19%\n",
            "Test loss: 0.29495 | Test accuracy: 89.22%\n",
            "\n",
            "Epoch: 7\n",
            "------------------\n",
            "Train loss: 0.26408 | Train accuracy: 90.43%\n",
            "Test loss: 0.30214 | Test accuracy: 89.60%\n",
            "\n",
            "Epoch: 8\n",
            "------------------\n",
            "Train loss: 0.25848 | Train accuracy: 90.56%\n",
            "Test loss: 0.29419 | Test accuracy: 89.64%\n",
            "\n",
            "Epoch: 9\n",
            "------------------\n",
            "Train loss: 0.25310 | Train accuracy: 90.77%\n",
            "Test loss: 0.31765 | Test accuracy: 88.83%\n",
            "\n",
            "Train time on cuda: 127.987 seconds\n"
          ]
        }
      ]
    },
    {
      "cell_type": "code",
      "source": [
        "# Move values to device\n",
        "torch.manual_seed(42)\n",
        "def eval_model(model: torch.nn.Module,\n",
        "               data_loader: torch.utils.data.DataLoader,\n",
        "               loss_fn: torch.nn.Module,\n",
        "               accuracy_fn,\n",
        "               device: torch.device = device):\n",
        "    \"\"\"Evaluates a given model on a given dataset.\n",
        "\n",
        "    Args:\n",
        "        model (torch.nn.Module): A PyTorch model capable of making predictions on data_loader.\n",
        "        data_loader (torch.utils.data.DataLoader): The target dataset to predict on.\n",
        "        loss_fn (torch.nn.Module): The loss function of model.\n",
        "        accuracy_fn: An accuracy function to compare the models predictions to the truth labels.\n",
        "        device (str, optional): Target device to compute on. Defaults to device.\n",
        "\n",
        "    Returns:\n",
        "        (dict): Results of model making predictions on data_loader.\n",
        "    \"\"\"\n",
        "    loss, acc = 0, 0\n",
        "    model.eval()\n",
        "    with torch.inference_mode():\n",
        "        for X, y in data_loader:\n",
        "            # Send data to the target device\n",
        "            X, y = X.to(device), y.to(device)\n",
        "            y_pred = model(X)\n",
        "            loss += loss_fn(y_pred, y)\n",
        "            acc += accuracy_fn(y_true=y, y_pred=y_pred.argmax(dim=1))\n",
        "\n",
        "        # Scale loss and acc\n",
        "        loss /= len(data_loader)\n",
        "        acc /= len(data_loader)\n",
        "    return {\"model_name\": model.__class__.__name__, # only works when model was created with a class\n",
        "            \"model_loss\": loss.item(),\n",
        "            \"model_acc\": acc}\n",
        "\n"
      ],
      "metadata": {
        "id": "FheEez3DwbIL"
      },
      "execution_count": 29,
      "outputs": []
    },
    {
      "cell_type": "code",
      "source": [
        "# get model_1 results\n",
        "\n",
        "model_1_results = eval_model(\n",
        "    model = model_1,\n",
        "    data_loader = test_dataloader,\n",
        "    loss_fn = loss_fn,\n",
        "    accuracy_fn = accuracy_fn,\n",
        "    device = device\n",
        ")\n",
        "\n",
        "model_1_results"
      ],
      "metadata": {
        "colab": {
          "base_uri": "https://localhost:8080/"
        },
        "id": "pDIx7CHuRWbR",
        "outputId": "dec368c0-771d-4609-caac-ede45f5b6322"
      },
      "execution_count": 30,
      "outputs": [
        {
          "output_type": "execute_result",
          "data": {
            "text/plain": [
              "{'model_name': 'FashionMNISTModelV2',\n",
              " 'model_loss': 0.3176461160182953,\n",
              " 'model_acc': 88.82787539936102}"
            ]
          },
          "metadata": {},
          "execution_count": 30
        }
      ]
    },
    {
      "cell_type": "markdown",
      "source": [
        "## **Make and evaluate random perdiction from model**"
      ],
      "metadata": {
        "id": "hcqT-nUm0QuX"
      }
    },
    {
      "cell_type": "code",
      "source": [
        "def make_predictions(model:torch.nn.Module,\n",
        "                     data: list,\n",
        "                     device: torch.device = device):\n",
        "\n",
        "    pred_probs = []\n",
        "    model.eval()\n",
        "    with torch.inference_mode():\n",
        "        for sample in data:\n",
        "            # Prepare the sample (add a batch dimension and pass to target device)\n",
        "            sample = torch.unsqueeze(sample, dim = 0).to(device)\n",
        "\n",
        "            # Forward pass (model outputs are raw logits)\n",
        "            pred_logit = model(sample)\n",
        "\n",
        "            # get prediction probability\n",
        "            pred_prob = torch.softmax(pred_logit.squeeze(), dim = 0)\n",
        "\n",
        "            # Get pred_prob off the GPU for further calculations\n",
        "            pred_probs.append(pred_prob.cpu())\n",
        "\n",
        "\n",
        "# Stack the pred_probs to turn list into a tensor\n",
        "    return torch.stack(pred_probs)"
      ],
      "metadata": {
        "id": "_9rIwTU6RWXs"
      },
      "execution_count": 31,
      "outputs": []
    },
    {
      "cell_type": "code",
      "source": [
        "img, label = test_data[0][:10]\n",
        "img.shape, label"
      ],
      "metadata": {
        "colab": {
          "base_uri": "https://localhost:8080/"
        },
        "id": "pL4-Vw_451he",
        "outputId": "987c630a-76dc-4805-eb18-9b68cb8d4e35"
      },
      "execution_count": 32,
      "outputs": [
        {
          "output_type": "execute_result",
          "data": {
            "text/plain": [
              "(torch.Size([1, 28, 28]), 9)"
            ]
          },
          "metadata": {},
          "execution_count": 32
        }
      ]
    },
    {
      "cell_type": "code",
      "source": [
        "import random\n",
        "# random.seed(42)\n",
        "test_samples = []\n",
        "test_labels = []\n",
        "for sample, label in random.sample(list(test_data), k = 9):\n",
        "    test_samples.append(sample)\n",
        "    test_labels.append(label)\n",
        "\n",
        "# view the first sample shape\n",
        "test_samples[0].shape"
      ],
      "metadata": {
        "colab": {
          "base_uri": "https://localhost:8080/"
        },
        "id": "xz4amBDhyRMu",
        "outputId": "cfb7706a-7cd1-4deb-c4f1-393b63cbe55c"
      },
      "execution_count": 76,
      "outputs": [
        {
          "output_type": "execute_result",
          "data": {
            "text/plain": [
              "torch.Size([1, 28, 28])"
            ]
          },
          "metadata": {},
          "execution_count": 76
        }
      ]
    },
    {
      "cell_type": "code",
      "source": [
        "plt.imshow(test_samples[0].squeeze(), cmap = 'gray')\n",
        "plt.title(class_names[test_labels[0]])"
      ],
      "metadata": {
        "colab": {
          "base_uri": "https://localhost:8080/",
          "height": 469
        },
        "id": "8wzzIP_dyRI1",
        "outputId": "14621929-59dd-428f-ace2-2838c7372b52"
      },
      "execution_count": 77,
      "outputs": [
        {
          "output_type": "execute_result",
          "data": {
            "text/plain": [
              "Text(0.5, 1.0, 'Sandal')"
            ]
          },
          "metadata": {},
          "execution_count": 77
        },
        {
          "output_type": "display_data",
          "data": {
            "text/plain": [
              "<Figure size 640x480 with 1 Axes>"
            ],
            "image/png": "[encoded data removed]"
          },
          "metadata": {}
        }
      ]
    },
    {
      "cell_type": "code",
      "source": [
        "# Make predictions\n",
        "pred_probs = make_predictions(model = model_1,\n",
        "                              data = test_samples)\n",
        "\n",
        "# view first two prediction probabilities\n",
        "pred_probs[:2]"
      ],
      "metadata": {
        "colab": {
          "base_uri": "https://localhost:8080/"
        },
        "id": "2ky9WK2FyRFc",
        "outputId": "83036800-5ae5-4c61-b937-e8e2fc5d853e"
      },
      "execution_count": 78,
      "outputs": [
        {
          "output_type": "execute_result",
          "data": {
            "text/plain": [
              "tensor([[2.2458e-08, 1.3255e-08, 7.1422e-08, 1.1919e-08, 1.0850e-06, 9.9996e-01,\n",
              "         1.0325e-07, 6.4112e-06, 1.1835e-05, 2.0331e-05],\n",
              "        [1.0185e-04, 1.2378e-07, 1.4932e-02, 2.8714e-06, 7.0937e-03, 3.4559e-09,\n",
              "         9.7787e-01, 2.3436e-08, 7.2067e-07, 1.2588e-07]])"
            ]
          },
          "metadata": {},
          "execution_count": 78
        }
      ]
    },
    {
      "cell_type": "code",
      "source": [
        "# convert predictio probs to labels\n",
        "pred_classes = pred_probs.argmax(dim = 1)\n",
        "pred_classes"
      ],
      "metadata": {
        "colab": {
          "base_uri": "https://localhost:8080/"
        },
        "id": "dZwcqTMPyRBO",
        "outputId": "cf5fbcc1-ee08-4345-f0bd-1724363d4e37"
      },
      "execution_count": 79,
      "outputs": [
        {
          "output_type": "execute_result",
          "data": {
            "text/plain": [
              "tensor([5, 6, 6, 4, 3, 1, 2, 3, 4])"
            ]
          },
          "metadata": {},
          "execution_count": 79
        }
      ]
    },
    {
      "cell_type": "code",
      "source": [
        "# plot predictions\n",
        "plt.figure(figsize = (9, 9))\n",
        "nrows = 3\n",
        "ncols = 3\n",
        "for i, sample in enumerate(test_samples):\n",
        "    #create subplot\n",
        "    plt.subplot(nrows, ncols, i+1)\n",
        "\n",
        "    # plot the target image\n",
        "    plt.imshow(sample.squeeze(), cmap = \"gray\")\n",
        "\n",
        "    # Find the prediction in text form\n",
        "    pred_label = class_names[pred_classes[i]]\n",
        "\n",
        "    # get the truth label\n",
        "    truth_label = class_names[test_labels[i]]\n",
        "\n",
        "    #create a title for the plot\n",
        "    title_text = f\"pred: {pred_label} | Truth: {truth_label}\"\n",
        "\n",
        "    # check for equality between pred and truth and change color of title text\n",
        "    if pred_label == truth_label:\n",
        "        plt.title(title_text, fontsize =10, c = \"g\")\n",
        "    else:\n",
        "        plt.title(title_text, fontsize = 10, c = \"r\")\n"
      ],
      "metadata": {
        "colab": {
          "base_uri": "https://localhost:8080/",
          "height": 773
        },
        "id": "0NRSvg6LRWUR",
        "outputId": "af647aca-a0f7-4f58-a25a-24cf3725bcf0"
      },
      "execution_count": 80,
      "outputs": [
        {
          "output_type": "display_data",
          "data": {
            "text/plain": [
              "<Figure size 900x900 with 9 Axes>"
            ],
            "image/png": "[encoded data removed]"
          },
          "metadata": {}
        }
      ]
    },
    {
      "cell_type": "markdown",
      "source": [
        "## **Let's make a confusion matrix 😁👻**\n",
        "\n",
        "1. Make prediction with our trained model\n",
        "2. Make a confusion matrix `torchmetrics.ConfusionMatrix`\n",
        "3. Plot the confusion matrix using `mlxtend.plotting.plot_confusion_matrix()`"
      ],
      "metadata": {
        "id": "m6OL8qxiXWml"
      }
    },
    {
      "cell_type": "code",
      "source": [
        "# 1. Make predictions with trained model\n",
        "y_preds = []\n",
        "model_1.eval()\n",
        "with torch.inference_mode():\n",
        "    for X, y in tqdm(test_dataloader, desc = \"Making predictions...\"):\n",
        "\n",
        "        # send data and targets to target device\n",
        "        X, y = X.to(device), y.to(device)\n",
        "\n",
        "        # Do forward pass\n",
        "        y_logit = model_1(X)\n",
        "\n",
        "        # Turn predictions form logits --> prediction probabilities --> prediction labels\n",
        "        y_pred = torch.softmax(y_logit, dim = 1).argmax(dim=1)\n",
        "\n",
        "        # Put predictions on CPU for evaluation\n",
        "        y_preds.append(y_pred.cpu())\n",
        "\n",
        "# Conctenate list of predictions into a tensor\n",
        "# print(y_preds)\n",
        "y_pred_tensor = torch.cat(y_preds)\n",
        "y_pred_tensor\n",
        "\n"
      ],
      "metadata": {
        "colab": {
          "base_uri": "https://localhost:8080/",
          "height": 66,
          "referenced_widgets": [
            "af5a885b04a24b0fafa92a4da183bd35",
            "30c51c36d09745b398bd1fa27a30a8b2",
            "bab392e4a3e943048402c888acd59cb3",
            "83f696168dd34337a955d6a473f46472",
            "07a0dbb650f44d39ad7968a96d096b4d",
            "2dd5d7196b4f4a3c83234d5c1323a792",
            "3e10ee816e4c4b8083e27d83620c858d",
            "f48fc5f6dbe24677864da160f7c3725f",
            "742aa4a35ef04876806a26a4aabee077",
            "bdba09ac5aa642d3b88b07984f2db66d",
            "119f7a01dd93483885f6c4a2f2df6612"
          ]
        },
        "id": "2b3chydbZ_RC",
        "outputId": "cba3793f-7f99-4145-c181-8eab3bd14410"
      },
      "execution_count": 88,
      "outputs": [
        {
          "output_type": "display_data",
          "data": {
            "text/plain": [
              "Making predictions...:   0%|          | 0/313 [00:00<?, ?it/s]"
            ],
            "application/vnd.jupyter.widget-view+json": {
              "version_major": 2,
              "version_minor": 0,
              "model_id": "af5a885b04a24b0fafa92a4da183bd35"
            }
          },
          "metadata": {}
        },
        {
          "output_type": "execute_result",
          "data": {
            "text/plain": [
              "tensor([9, 2, 1,  ..., 8, 1, 5])"
            ]
          },
          "metadata": {},
          "execution_count": 88
        }
      ]
    },
    {
      "cell_type": "code",
      "source": [
        "len(y_pred_tensor)"
      ],
      "metadata": {
        "colab": {
          "base_uri": "https://localhost:8080/"
        },
        "id": "Fak4q66HZ-rc",
        "outputId": "382cab6c-e019-45da-b5c5-1082c8f7374c"
      },
      "execution_count": 89,
      "outputs": [
        {
          "output_type": "execute_result",
          "data": {
            "text/plain": [
              "10000"
            ]
          },
          "metadata": {},
          "execution_count": 89
        }
      ]
    },
    {
      "cell_type": "code",
      "source": [
        "from torchmetrics import ConfusionMatrix\n",
        "from mlxtend.plotting import plot_confusion_matrix\n",
        "\n",
        "# 2. Steup confusion instance and compare predictions to targets\n",
        "confmat = ConfusionMatrix(num_classes = len(class_names), task = \"multiclass\")\n",
        "confmat_tensor = confmat(preds = y_pred_tensor,\n",
        "                         target = test_data.targets)\n",
        "\n",
        "# 3. Plot the confusion matrix\n",
        "fig, ax = plot_confusion_matrix(\n",
        "    conf_mat= confmat_tensor.numpy(),\n",
        "    class_names = class_names,\n",
        "    figsize = (10, 7)\n",
        ")\n"
      ],
      "metadata": {
        "colab": {
          "base_uri": "https://localhost:8080/",
          "height": 667
        },
        "id": "qk7q3I2jZ-Yd",
        "outputId": "271cce62-8435-4169-e13a-b725db41817c"
      },
      "execution_count": 93,
      "outputs": [
        {
          "output_type": "display_data",
          "data": {
            "text/plain": [
              "<Figure size 1000x700 with 1 Axes>"
            ],
            "image/png": "[encoded data removed]"
          },
          "metadata": {}
        }
      ]
    },
    {
      "cell_type": "markdown",
      "source": [
        "# **Save and Load our model**"
      ],
      "metadata": {
        "id": "9eqyuf4Teip5"
      }
    },
    {
      "cell_type": "code",
      "source": [
        "from pathlib import Path\n",
        "\n",
        "# create model directory\n",
        "MODEL_PATH = Path(\"models\")\n",
        "MODEL_PATH.mkdir(parents = True,\n",
        "                 exist_ok = True)\n",
        "\n",
        "# Create model save\n",
        "MODEL_NAME = \"CNN_best_model.pth\"\n",
        "MODEL_SAVE_PATH = MODEL_PATH / MODEL_NAME\n",
        "\n",
        "# Save the model state dict\n",
        "print(f\"Saving model to: {MODEL_SAVE_PATH}\")\n",
        "torch.save(obj = model_1.state_dict(), # we have saved state dict of our model\n",
        "           f = MODEL_SAVE_PATH)"
      ],
      "metadata": {
        "colab": {
          "base_uri": "https://localhost:8080/"
        },
        "id": "CMz_quKQ7obB",
        "outputId": "7478edfe-ccc3-4554-8e9f-c9f8783d468b"
      },
      "execution_count": 97,
      "outputs": [
        {
          "output_type": "stream",
          "name": "stdout",
          "text": [
            "Saving model to: models/CNN_best_model.pth\n"
          ]
        }
      ]
    },
    {
      "cell_type": "code",
      "source": [
        "model_1.state_dict()"
      ],
      "metadata": {
        "colab": {
          "base_uri": "https://localhost:8080/"
        },
        "id": "UInUjGNVhBY7",
        "outputId": "df723a78-ef43-417d-a9e1-95036af14c44"
      },
      "execution_count": 96,
      "outputs": [
        {
          "output_type": "execute_result",
          "data": {
            "text/plain": [
              "OrderedDict([('conv_block_1.0.weight',\n",
              "              tensor([[[[ 0.3976,  0.4075, -0.5956],\n",
              "                        [ 0.3272,  0.4222, -0.1968],\n",
              "                        [-0.3940,  0.1448,  0.2702]]],\n",
              "              \n",
              "              \n",
              "                      [[[-0.8525,  0.7561, -0.2342],\n",
              "                        [ 0.0698,  0.5865,  0.1228],\n",
              "                        [-0.3223,  0.2002,  0.3322]]],\n",
              "              \n",
              "              \n",
              "                      [[[-0.2446, -0.0647,  0.0896],\n",
              "                        [-1.2997, -1.0651,  0.5660],\n",
              "                        [-1.3571, -1.2132, -0.0683]]],\n",
              "              \n",
              "              \n",
              "                      [[[-1.0822, -1.7474, -0.7731],\n",
              "                        [ 0.3075, -0.9989,  0.4083],\n",
              "                        [ 0.3297, -0.0682,  0.4715]]],\n",
              "              \n",
              "              \n",
              "                      [[[-0.0483,  0.2182, -0.1527],\n",
              "                        [-0.3152,  0.0511, -0.3074],\n",
              "                        [-0.0534,  0.2650,  0.0459]]],\n",
              "              \n",
              "              \n",
              "                      [[[-0.1455,  0.1882,  0.0591],\n",
              "                        [ 0.1834, -0.1980, -0.3309],\n",
              "                        [-0.1187, -0.2534,  0.2570]]],\n",
              "              \n",
              "              \n",
              "                      [[[ 0.1555,  0.1739, -0.3059],\n",
              "                        [ 0.4198,  0.2521, -0.8338],\n",
              "                        [-0.0873, -0.7845, -0.4746]]],\n",
              "              \n",
              "              \n",
              "                      [[[-0.0764,  0.1545, -0.4148],\n",
              "                        [ 0.5665, -0.1074, -0.7484],\n",
              "                        [-0.2969,  0.6304, -0.0894]]],\n",
              "              \n",
              "              \n",
              "                      [[[ 0.7363, -0.6165, -0.4328],\n",
              "                        [-0.5749, -0.7026, -0.0228],\n",
              "                        [ 0.5343,  0.9761, -0.2956]]],\n",
              "              \n",
              "              \n",
              "                      [[[-0.2244,  0.1796, -0.1368],\n",
              "                        [ 0.2077, -0.0770,  0.1928],\n",
              "                        [-0.2586, -0.1675,  0.1042]]]], device='cuda:0')),\n",
              "             ('conv_block_1.0.bias',\n",
              "              tensor([-0.1229, -0.0365,  0.2811,  0.3173, -0.4056, -0.2068,  0.2203, -0.1149,\n",
              "                      -0.1143, -0.3193], device='cuda:0')),\n",
              "             ('conv_block_1.2.weight',\n",
              "              tensor([[[[ 2.0406e-02,  2.3893e-01, -9.7144e-03],\n",
              "                        [-7.7739e-02, -2.1307e-01, -2.0895e-01],\n",
              "                        [-1.2799e-01, -2.5230e-01, -1.2467e-01]],\n",
              "              \n",
              "                       [[-9.6969e-02,  1.3862e-01, -1.0562e-01],\n",
              "                        [-1.6554e-01, -1.9547e-01, -1.6764e-01],\n",
              "                        [-1.3478e-01, -2.1242e-01, -2.0996e-01]],\n",
              "              \n",
              "                       [[-1.2108e-01,  1.3343e-01,  2.2486e-01],\n",
              "                        [-6.5745e-02,  5.5781e-01,  2.6685e-01],\n",
              "                        [-2.6593e-01, -9.5393e-02,  1.1404e-01]],\n",
              "              \n",
              "                       [[-9.5217e-02, -1.9324e-01, -4.5154e-01],\n",
              "                        [ 1.4194e-01, -1.0146e-02, -3.0450e-01],\n",
              "                        [ 4.0836e-01,  1.8054e-01,  3.9562e-01]],\n",
              "              \n",
              "                       [[-1.4071e-01, -1.2463e-01, -2.3150e-02],\n",
              "                        [-5.1590e-02,  3.1340e-02, -1.2752e-01],\n",
              "                        [ 8.5942e-02, -1.0485e-01, -5.5390e-02]],\n",
              "              \n",
              "                       [[ 2.2139e-02,  5.1504e-02,  8.3038e-02],\n",
              "                        [ 9.8556e-02, -8.4549e-02,  2.7699e-02],\n",
              "                        [-4.5200e-02, -1.4043e-02, -7.9772e-02]],\n",
              "              \n",
              "                       [[ 2.2986e-01,  4.9568e-02, -2.7644e-01],\n",
              "                        [ 1.6109e-01,  3.6367e-02, -2.2743e-01],\n",
              "                        [-5.3199e-02,  5.2536e-02, -6.8242e-02]],\n",
              "              \n",
              "                       [[-1.1632e-01,  7.8501e-02,  8.7198e-03],\n",
              "                        [ 1.1348e-02,  2.8727e-02,  1.1074e-02],\n",
              "                        [-1.0232e-01, -1.3393e-01, -1.2717e-01]],\n",
              "              \n",
              "                       [[ 1.4313e-02, -2.7418e-02,  8.3591e-03],\n",
              "                        [-3.0046e-01, -1.6641e-01,  4.2425e-03],\n",
              "                        [ 2.4055e-01, -2.1633e-01, -2.2387e-01]],\n",
              "              \n",
              "                       [[ 5.4482e-02,  1.8830e-02, -3.7560e-02],\n",
              "                        [ 5.4946e-02,  5.5352e-02,  3.9332e-02],\n",
              "                        [-1.8520e-02, -2.7910e-02,  1.1293e-02]]],\n",
              "              \n",
              "              \n",
              "                      [[[-8.0800e-02, -1.3325e-01,  2.2612e-02],\n",
              "                        [ 1.3632e-01, -8.2990e-02, -9.1805e-02],\n",
              "                        [ 1.1983e-01,  1.5925e-01, -8.9812e-02]],\n",
              "              \n",
              "                       [[-5.8427e-02, -1.1499e-01, -7.4932e-02],\n",
              "                        [ 8.7867e-02,  3.9512e-02, -3.9515e-02],\n",
              "                        [-1.4706e-02, -1.0656e-01, -1.6942e-01]],\n",
              "              \n",
              "                       [[-5.6490e-02,  4.1734e-02,  2.7973e-02],\n",
              "                        [ 4.0130e-02, -9.0004e-02, -1.2001e-01],\n",
              "                        [-2.1798e-02,  1.1507e-01, -3.2630e-02]],\n",
              "              \n",
              "                       [[ 2.2278e-02,  1.1192e-01,  6.8609e-02],\n",
              "                        [-1.2305e-01,  1.8854e-01,  8.3018e-02],\n",
              "                        [-5.5159e-02, -1.0848e-01,  2.3195e-01]],\n",
              "              \n",
              "                       [[ 7.3973e-02,  2.8503e-02, -9.4154e-02],\n",
              "                        [-1.1446e-01, -9.0790e-02,  6.1634e-02],\n",
              "                        [ 4.9676e-02,  1.1467e-01,  4.4681e-02]],\n",
              "              \n",
              "                       [[ 2.6872e-02, -6.4994e-04, -8.0478e-02],\n",
              "                        [-8.9887e-02, -9.8218e-02,  4.4726e-02],\n",
              "                        [-5.0220e-02, -2.1484e-02, -6.0462e-02]],\n",
              "              \n",
              "                       [[-2.8095e-02, -1.0487e-01, -7.1912e-02],\n",
              "                        [-1.3947e-02, -7.5729e-02,  8.4858e-02],\n",
              "                        [-3.9820e-02, -1.3893e-01, -2.3469e-02]],\n",
              "              \n",
              "                       [[ 1.1048e-02, -6.2680e-02, -1.0100e-01],\n",
              "                        [ 1.2419e-01, -4.7233e-02,  6.3456e-03],\n",
              "                        [ 1.5468e-02,  1.9411e-01, -5.8083e-02]],\n",
              "              \n",
              "                       [[ 1.7673e-01,  1.8776e-02, -3.1060e-02],\n",
              "                        [ 7.2968e-02,  1.6924e-02, -9.1428e-02],\n",
              "                        [-9.8863e-02, -8.4163e-02,  1.8210e-01]],\n",
              "              \n",
              "                       [[-1.0465e-01,  6.5434e-02,  7.9033e-02],\n",
              "                        [ 9.9534e-02, -2.4892e-02, -8.6696e-02],\n",
              "                        [ 2.3619e-02,  5.8191e-02, -1.0492e-01]]],\n",
              "              \n",
              "              \n",
              "                      [[[-2.3990e-02, -6.4861e-02, -1.1943e-02],\n",
              "                        [-5.3743e-02, -4.6598e-02, -4.2547e-02],\n",
              "                        [-1.0461e-01,  7.7888e-02,  7.4594e-02]],\n",
              "              \n",
              "                       [[-1.7047e-02, -1.3450e-02, -4.3891e-02],\n",
              "                        [-9.4573e-02, -1.0472e-01,  2.9964e-02],\n",
              "                        [-5.6440e-02, -7.6793e-02, -3.3259e-02]],\n",
              "              \n",
              "                       [[-4.2709e-02, -5.0320e-02, -8.1438e-03],\n",
              "                        [-2.3249e-02, -3.8681e-02, -5.5557e-02],\n",
              "                        [-8.6800e-02,  8.6142e-02, -4.2469e-02]],\n",
              "              \n",
              "                       [[ 2.0314e-04, -5.6476e-02, -6.8866e-03],\n",
              "                        [ 9.4248e-02,  3.7310e-02, -1.0549e-01],\n",
              "                        [ 3.2529e-02,  7.8216e-02,  1.5658e-02]],\n",
              "              \n",
              "                       [[ 7.0654e-02,  1.0394e-01, -1.6188e-02],\n",
              "                        [ 2.1812e-02, -7.3474e-02, -2.2934e-02],\n",
              "                        [ 7.5199e-02,  5.2131e-02, -7.0647e-02]],\n",
              "              \n",
              "                       [[-8.4512e-02, -7.2035e-02, -1.0403e-01],\n",
              "                        [-8.1346e-02, -2.6208e-02,  7.1176e-02],\n",
              "                        [ 1.7674e-02, -8.0164e-02, -8.4660e-02]],\n",
              "              \n",
              "                       [[ 4.5177e-02, -8.8104e-02, -2.3930e-02],\n",
              "                        [ 4.7606e-02, -5.5162e-02, -1.1644e-02],\n",
              "                        [-1.0854e-02, -2.4478e-02, -5.1159e-02]],\n",
              "              \n",
              "                       [[-9.3905e-02, -8.5273e-02, -5.6483e-02],\n",
              "                        [ 1.0186e-01, -5.2888e-02, -7.5272e-02],\n",
              "                        [ 2.2045e-02,  3.5095e-02,  6.1454e-02]],\n",
              "              \n",
              "                       [[ 8.2660e-02,  5.7889e-02, -1.0428e-01],\n",
              "                        [ 1.7937e-02,  7.0209e-02, -1.6633e-02],\n",
              "                        [-7.4081e-02,  9.2007e-02, -4.4783e-02]],\n",
              "              \n",
              "                       [[-6.0014e-02, -9.5032e-02,  4.7083e-03],\n",
              "                        [ 4.6710e-02,  2.3334e-02,  2.0845e-02],\n",
              "                        [-7.9940e-02, -9.8436e-02,  1.8444e-03]]],\n",
              "              \n",
              "              \n",
              "                      [[[-1.8632e-01, -2.4269e-01, -6.6477e-02],\n",
              "                        [-1.8333e-01,  1.0892e-01, -2.0668e-02],\n",
              "                        [ 1.2421e-01,  1.7653e-01,  3.0864e-01]],\n",
              "              \n",
              "                       [[-8.3023e-02, -2.2221e-01,  3.0716e-01],\n",
              "                        [ 3.1238e-01, -6.3326e-02, -1.4774e-01],\n",
              "                        [-4.6184e-02, -1.0130e-03,  5.9341e-02]],\n",
              "              \n",
              "                       [[-1.6161e-01, -4.0543e-01, -3.1378e-01],\n",
              "                        [-9.9300e-02, -3.9520e-01, -2.3622e-01],\n",
              "                        [ 1.1504e-01, -3.2158e-01, -2.7400e-01]],\n",
              "              \n",
              "                       [[ 1.6679e-01, -2.6030e-02,  2.1355e-01],\n",
              "                        [-3.4798e-01, -5.6640e-01,  1.4919e-02],\n",
              "                        [-2.1347e-01, -3.3696e-01, -3.4017e-01]],\n",
              "              \n",
              "                       [[-1.0843e-01, -3.3091e-01,  2.5005e-03],\n",
              "                        [-2.7173e-02,  4.0818e-02,  1.7974e-01],\n",
              "                        [-4.9310e-02,  5.8317e-03,  1.7332e-01]],\n",
              "              \n",
              "                       [[-4.8454e-02, -4.7517e-02,  3.7966e-02],\n",
              "                        [-6.6952e-02, -8.2608e-02, -6.5382e-03],\n",
              "                        [-4.5969e-02, -8.0583e-02,  4.8609e-02]],\n",
              "              \n",
              "                       [[ 1.4100e-01, -6.2023e-02,  9.8848e-02],\n",
              "                        [-3.5993e-01, -1.5737e-02, -1.4739e-01],\n",
              "                        [ 7.1874e-02, -1.3219e-02,  2.3805e-01]],\n",
              "              \n",
              "                       [[-2.9611e-01, -2.4745e-01,  1.5258e-01],\n",
              "                        [-1.7580e-01,  2.3370e-03,  1.6973e-01],\n",
              "                        [-1.7158e-01, -4.5921e-02,  3.4263e-02]],\n",
              "              \n",
              "                       [[ 1.0088e-02, -3.9639e-02, -1.9000e-02],\n",
              "                        [-3.0337e-01, -1.4563e-01, -2.6810e-02],\n",
              "                        [ 1.2824e-01, -5.2472e-02, -2.0617e-01]],\n",
              "              \n",
              "                       [[-1.0392e-01, -8.6203e-02,  2.1578e-02],\n",
              "                        [ 2.6935e-02,  2.3611e-02, -2.9131e-02],\n",
              "                        [ 9.7595e-02,  1.6212e-02, -6.2240e-02]]],\n",
              "              \n",
              "              \n",
              "                      [[[-2.7476e-01,  8.0756e-02,  4.0381e-01],\n",
              "                        [-2.3490e-01,  2.7778e-01, -3.7812e-02],\n",
              "                        [ 2.3650e-01, -1.6393e-02, -7.7899e-02]],\n",
              "              \n",
              "                       [[ 1.1973e-01,  5.9760e-01,  2.6513e-01],\n",
              "                        [ 5.3330e-01,  3.2149e-01, -4.5388e-01],\n",
              "                        [-4.8320e-02, -3.7573e-01, -3.3444e-01]],\n",
              "              \n",
              "                       [[-1.5557e-02,  1.3148e-03,  6.3370e-03],\n",
              "                        [-1.9829e-01, -2.1694e-01, -2.2050e-02],\n",
              "                        [-2.8409e-01, -1.7306e-01,  7.4427e-02]],\n",
              "              \n",
              "                       [[ 1.3174e-02, -1.1752e-01, -1.6617e-01],\n",
              "                        [-1.5458e-02, -5.1027e-02, -1.1816e-01],\n",
              "                        [-1.0533e-01, -5.6454e-02, -1.0106e-01]],\n",
              "              \n",
              "                       [[ 4.4418e-02,  1.8167e-01,  6.0116e-03],\n",
              "                        [-3.3721e-02,  3.7522e-02, -6.7514e-02],\n",
              "                        [-2.2380e-03,  6.8536e-03, -1.3744e-02]],\n",
              "              \n",
              "                       [[ 4.9157e-02, -7.6907e-02, -5.3988e-02],\n",
              "                        [-2.4205e-02, -2.1425e-02,  8.1661e-03],\n",
              "                        [-9.4714e-02,  3.0537e-02, -8.5217e-02]],\n",
              "              \n",
              "                       [[-1.5057e-01, -5.2024e-02, -7.8601e-02],\n",
              "                        [-1.4757e-01,  1.0076e-01,  1.3301e-01],\n",
              "                        [ 1.0453e-01,  3.4106e-01,  3.1078e-01]],\n",
              "              \n",
              "                       [[ 2.0192e-02,  1.1339e-02,  1.5860e-02],\n",
              "                        [ 1.3006e-01, -3.3913e-03, -9.8184e-02],\n",
              "                        [-2.8108e-02,  6.9661e-02, -2.0081e-01]],\n",
              "              \n",
              "                       [[ 4.2501e-02,  5.8203e-03, -4.0740e-02],\n",
              "                        [-3.0934e-02, -7.1020e-02, -5.1829e-02],\n",
              "                        [-2.0316e-01, -1.1161e-01, -2.0182e-01]],\n",
              "              \n",
              "                       [[-7.6815e-03, -2.3536e-02,  1.9146e-02],\n",
              "                        [ 9.9370e-02,  1.0481e-02,  6.1227e-02],\n",
              "                        [ 8.2069e-02,  8.5166e-02, -3.6409e-02]]],\n",
              "              \n",
              "              \n",
              "                      [[[ 6.8202e-01,  6.4811e-01,  1.4548e-01],\n",
              "                        [-1.5823e-01, -5.0467e-02, -8.7525e-02],\n",
              "                        [-4.6668e-01, -7.4947e-01, -2.9866e-01]],\n",
              "              \n",
              "                       [[ 3.1260e-01,  5.2066e-01,  2.9365e-01],\n",
              "                        [-8.0704e-02, -4.5902e-02, -1.0875e-01],\n",
              "                        [-3.3742e-01, -5.9446e-01, -3.5097e-01]],\n",
              "              \n",
              "                       [[-7.9018e-02, -8.8033e-02, -7.5181e-02],\n",
              "                        [-6.8271e-02, -8.7343e-02, -4.0376e-02],\n",
              "                        [ 1.2325e-01,  2.0949e-01,  1.2270e-01]],\n",
              "              \n",
              "                       [[-1.5519e-01, -2.1168e-01, -1.7796e-01],\n",
              "                        [-1.6614e-01, -4.5145e-01, -3.0210e-01],\n",
              "                        [ 1.2110e-01, -1.7732e-01, -2.2556e-01]],\n",
              "              \n",
              "                       [[ 6.4020e-02,  9.3735e-02,  4.4349e-02],\n",
              "                        [ 7.1596e-02,  6.3354e-03,  8.5314e-02],\n",
              "                        [-2.7072e-01, -2.7573e-01, -2.2568e-01]],\n",
              "              \n",
              "                       [[-8.1848e-02, -2.2604e-03, -9.1723e-02],\n",
              "                        [ 7.3990e-02,  9.8877e-03, -5.8394e-02],\n",
              "                        [ 6.2364e-02, -9.4335e-02, -3.6727e-02]],\n",
              "              \n",
              "                       [[-1.3938e-02, -2.5851e-01, -1.9892e-01],\n",
              "                        [-2.0291e-02, -1.7703e-01, -1.7605e-02],\n",
              "                        [ 2.4718e-01,  5.8145e-02,  1.5916e-01]],\n",
              "              \n",
              "                       [[ 4.9451e-02,  6.7888e-02, -8.5444e-02],\n",
              "                        [ 3.6340e-02, -1.2417e-01, -1.0492e-01],\n",
              "                        [ 2.1255e-01, -1.1509e-01, -2.7724e-02]],\n",
              "              \n",
              "                       [[-2.5963e-01,  2.5766e-04,  1.0802e-01],\n",
              "                        [-5.8446e-02,  5.6928e-03, -4.4566e-02],\n",
              "                        [-7.0308e-02,  1.8271e-01, -8.8359e-02]],\n",
              "              \n",
              "                       [[-5.0389e-02,  3.9623e-02,  8.3434e-02],\n",
              "                        [-2.8556e-02, -4.3402e-02, -9.5782e-02],\n",
              "                        [-5.4280e-02, -9.2416e-02, -2.3951e-02]]],\n",
              "              \n",
              "              \n",
              "                      [[[ 5.9257e-02,  4.2531e-03, -3.9223e-01],\n",
              "                        [ 2.2431e-01,  2.4031e-01, -6.8726e-01],\n",
              "                        [ 3.2108e-01,  4.9178e-01, -3.4367e-01]],\n",
              "              \n",
              "                       [[ 4.5060e-02, -3.0237e-02, -4.0504e-01],\n",
              "                        [ 3.3800e-02,  2.4126e-01, -4.3280e-01],\n",
              "                        [ 8.8079e-02,  1.3012e-01, -3.5739e-01]],\n",
              "              \n",
              "                       [[-1.3451e-01, -5.2981e-01,  1.1909e-01],\n",
              "                        [-1.1041e-01, -6.3014e-01, -1.0984e-01],\n",
              "                        [ 3.0479e-01, -1.3966e-01,  1.0389e-02]],\n",
              "              \n",
              "                       [[-5.4354e-01,  1.3373e-02,  5.0645e-02],\n",
              "                        [-4.0261e-02, -1.7111e-01,  4.3127e-01],\n",
              "                        [-2.0573e-01, -5.4747e-01,  3.3869e-01]],\n",
              "              \n",
              "                       [[-3.1308e-02,  8.5429e-02, -1.8121e-01],\n",
              "                        [-1.3952e-02,  1.5143e-01, -1.7683e-01],\n",
              "                        [-6.2692e-02,  1.4170e-01, -5.1240e-02]],\n",
              "              \n",
              "                       [[ 9.7124e-02, -9.4062e-02, -2.6323e-02],\n",
              "                        [-9.7047e-02, -4.5504e-02,  3.1662e-02],\n",
              "                        [ 1.0670e-01,  1.7965e-02,  1.0001e-01]],\n",
              "              \n",
              "                       [[-3.0647e-02,  2.3027e-01,  2.2059e-01],\n",
              "                        [ 8.1754e-03, -3.5326e-02,  1.4784e-01],\n",
              "                        [ 1.5165e-01,  4.2328e-01, -2.7148e-02]],\n",
              "              \n",
              "                       [[-1.1682e-01, -8.3961e-02,  1.5731e-01],\n",
              "                        [ 1.4349e-01,  3.1012e-02,  1.6833e-01],\n",
              "                        [ 3.5980e-01, -1.5560e-01,  8.4116e-02]],\n",
              "              \n",
              "                       [[ 6.4589e-02, -1.8039e-01,  1.7561e-02],\n",
              "                        [-1.4652e-01, -6.6889e-02, -1.8407e-01],\n",
              "                        [ 1.2785e-02,  4.4604e-02, -3.7302e-01]],\n",
              "              \n",
              "                       [[ 5.9937e-02,  3.8242e-02,  8.5056e-02],\n",
              "                        [-3.9466e-02,  3.5668e-02,  3.7438e-02],\n",
              "                        [-8.8868e-02, -1.0134e-01, -5.4943e-02]]],\n",
              "              \n",
              "              \n",
              "                      [[[ 1.7626e-01,  2.1419e-01, -3.0180e-01],\n",
              "                        [-2.1806e-01,  3.8526e-01, -3.1073e-01],\n",
              "                        [-3.2453e-01,  2.9350e-01, -2.4991e-02]],\n",
              "              \n",
              "                       [[ 3.5794e-01,  2.7287e-02, -5.1828e-01],\n",
              "                        [ 3.8969e-02,  3.6261e-01, -6.1660e-01],\n",
              "                        [-9.1619e-02,  7.6201e-01, -5.1308e-01]],\n",
              "              \n",
              "                       [[-1.3314e-01, -1.3381e-01, -1.1060e-01],\n",
              "                        [ 1.8298e-01, -2.2001e-01, -1.6034e-01],\n",
              "                        [ 3.8457e-01, -1.3713e-02, -1.4767e-01]],\n",
              "              \n",
              "                       [[-3.3012e-02, -2.2998e-01,  3.0237e-01],\n",
              "                        [-7.8586e-02, -3.1372e-01,  3.2735e-01],\n",
              "                        [ 5.5656e-02, -3.3403e-01,  1.3357e-01]],\n",
              "              \n",
              "                       [[ 3.4947e-03, -5.4254e-02, -2.0074e-01],\n",
              "                        [ 3.6115e-02,  1.8575e-01, -6.0963e-02],\n",
              "                        [-1.0730e-01,  1.2679e-01, -7.1494e-02]],\n",
              "              \n",
              "                       [[-1.6955e-02, -7.3224e-02,  1.1503e-02],\n",
              "                        [ 1.0491e-02, -1.3097e-02,  1.4092e-02],\n",
              "                        [-4.0316e-02,  2.3600e-02,  3.9309e-02]],\n",
              "              \n",
              "                       [[-1.4458e-01, -3.9111e-02,  1.8505e-01],\n",
              "                        [-1.9924e-01,  3.4258e-02, -3.4054e-02],\n",
              "                        [-2.3785e-01,  3.3506e-01, -1.1182e-01]],\n",
              "              \n",
              "                       [[-4.9731e-02, -1.3319e-02, -1.2290e-01],\n",
              "                        [-4.2982e-02,  1.1736e-02, -3.5087e-02],\n",
              "                        [ 1.4059e-01, -3.7347e-02, -1.2315e-01]],\n",
              "              \n",
              "                       [[-1.1214e-01,  1.9400e-01, -2.2898e-01],\n",
              "                        [-1.3286e-01, -5.0562e-02,  2.8832e-02],\n",
              "                        [-1.6490e-02, -1.3031e-01, -2.8162e-01]],\n",
              "              \n",
              "                       [[ 2.0420e-02,  2.8427e-02,  4.0467e-02],\n",
              "                        [ 5.6935e-02, -2.4133e-02,  5.8317e-02],\n",
              "                        [ 7.8056e-02, -2.6595e-02,  7.4942e-02]]],\n",
              "              \n",
              "              \n",
              "                      [[[-1.5502e-01,  1.8050e-01,  1.2428e-01],\n",
              "                        [ 3.0577e-01,  1.8896e-01,  1.1047e-01],\n",
              "                        [ 3.0027e-01, -9.6201e-02, -1.2039e-01]],\n",
              "              \n",
              "                       [[ 6.9967e-02,  2.0223e-01,  1.6489e-02],\n",
              "                        [ 1.3264e-01, -2.8790e-01, -9.2259e-02],\n",
              "                        [ 2.0908e-01, -1.6910e-01,  8.3069e-02]],\n",
              "              \n",
              "                       [[-2.0246e-01, -4.0638e-01,  8.6922e-02],\n",
              "                        [-3.1813e-01, -4.2904e-01, -1.6448e-01],\n",
              "                        [-2.7040e-01, -3.4336e-01, -1.3830e-01]],\n",
              "              \n",
              "                       [[-4.3984e-02,  2.2709e-02,  1.0207e-01],\n",
              "                        [-4.4681e-01, -4.6387e-01, -1.9513e-01],\n",
              "                        [ 5.8338e-02,  1.1396e-01, -1.8008e-01]],\n",
              "              \n",
              "                       [[-3.8016e-02,  1.1476e-02,  3.1166e-02],\n",
              "                        [ 1.4004e-01,  1.2766e-01,  1.2262e-02],\n",
              "                        [ 6.5994e-02, -1.1272e-01, -1.3796e-01]],\n",
              "              \n",
              "                       [[ 8.6532e-02,  7.9527e-02,  2.7378e-02],\n",
              "                        [-6.9056e-03, -9.4749e-02, -1.2934e-02],\n",
              "                        [ 1.0090e-01,  2.8675e-02,  1.0908e-02]],\n",
              "              \n",
              "                       [[-8.2553e-02, -1.5397e-01,  4.0379e-02],\n",
              "                        [-1.3277e-01,  1.6578e-02, -4.4677e-02],\n",
              "                        [-3.3636e-02,  3.8297e-02, -1.1663e-01]],\n",
              "              \n",
              "                       [[-9.2430e-02,  5.6688e-02, -4.0813e-02],\n",
              "                        [ 4.3122e-02, -2.5311e-01, -1.3780e-01],\n",
              "                        [-1.4400e-01, -1.0023e-01, -1.9883e-01]],\n",
              "              \n",
              "                       [[-4.2289e-01, -2.6017e-01, -8.1415e-02],\n",
              "                        [-1.8262e-02, -2.6313e-01, -2.0449e-01],\n",
              "                        [-8.5191e-02, -2.8991e-01,  7.6211e-02]],\n",
              "              \n",
              "                       [[ 5.5589e-02,  9.7326e-02,  8.0333e-04],\n",
              "                        [ 2.0923e-02,  3.8050e-02, -9.9996e-02],\n",
              "                        [ 9.3822e-03, -7.1682e-03, -5.8935e-02]]],\n",
              "              \n",
              "              \n",
              "                      [[[-5.3994e-01,  3.1797e-01,  6.6410e-01],\n",
              "                        [-4.5009e-01, -2.4267e-01,  3.5776e-01],\n",
              "                        [-5.1484e-01, -9.2954e-02,  6.1323e-02]],\n",
              "              \n",
              "                       [[-5.2184e-01,  4.1948e-01,  1.7467e-01],\n",
              "                        [-3.5866e-01, -4.3998e-02,  4.5509e-01],\n",
              "                        [-3.5132e-01,  1.1323e-01,  2.4335e-01]],\n",
              "              \n",
              "                       [[ 4.4682e-02, -2.8660e-02,  3.1774e-02],\n",
              "                        [-1.2326e-01,  2.4392e-01,  4.7137e-02],\n",
              "                        [-2.9078e-01,  2.1362e-01,  8.8023e-02]],\n",
              "              \n",
              "                       [[-4.7532e-02, -9.9124e-02,  9.4308e-02],\n",
              "                        [ 1.9704e-01, -3.6162e-01, -4.2071e-01],\n",
              "                        [ 4.8560e-01, -3.8315e-02, -3.9184e-01]],\n",
              "              \n",
              "                       [[-1.4952e-01, -2.2672e-03,  3.3233e-02],\n",
              "                        [-6.3768e-02, -3.5862e-02,  5.3338e-02],\n",
              "                        [-1.4554e-02,  1.1925e-01,  9.5249e-02]],\n",
              "              \n",
              "                       [[-9.5404e-02, -6.9196e-02, -4.0752e-02],\n",
              "                        [ 9.2293e-02,  1.4679e-02, -7.4420e-02],\n",
              "                        [ 1.6803e-03, -8.2457e-02, -2.5983e-02]],\n",
              "              \n",
              "                       [[-1.6434e-01, -7.3238e-02, -1.0923e-01],\n",
              "                        [-2.3206e-02, -1.8778e-01,  4.9265e-02],\n",
              "                        [ 4.4870e-02, -5.4141e-02, -1.4129e-01]],\n",
              "              \n",
              "                       [[-8.8349e-02, -2.0379e-02, -2.5783e-01],\n",
              "                        [-2.9638e-03,  2.1833e-02, -6.2384e-02],\n",
              "                        [ 4.9028e-02,  8.1186e-02, -2.2556e-01]],\n",
              "              \n",
              "                       [[-3.7652e-02,  2.2491e-01, -2.2553e-01],\n",
              "                        [ 1.1746e-01, -1.7650e-01, -2.6525e-02],\n",
              "                        [ 9.4489e-02, -5.6996e-02, -3.8035e-03]],\n",
              "              \n",
              "                       [[ 4.7281e-02, -1.7979e-02, -8.8089e-02],\n",
              "                        [ 8.4425e-02, -5.3840e-02, -1.1298e-02],\n",
              "                        [ 9.9373e-03, -6.4564e-03, -9.9361e-02]]]], device='cuda:0')),\n",
              "             ('conv_block_1.2.bias',\n",
              "              tensor([ 0.0747, -0.0854, -0.0826,  0.5834, -0.0176,  0.0102,  0.0234, -0.1086,\n",
              "                       0.1649, -0.0884], device='cuda:0')),\n",
              "             ('conv_block_2.0.weight',\n",
              "              tensor([[[[-1.9394e-02, -2.3063e-01, -1.2348e-01],\n",
              "                        [-2.2716e-01,  2.5361e-02,  1.7895e-03],\n",
              "                        [-1.2358e-01,  2.8722e-01,  1.5829e-01]],\n",
              "              \n",
              "                       [[-1.2199e-02, -3.0647e-02, -1.6087e-02],\n",
              "                        [ 1.9754e-02, -1.4277e-03,  7.1737e-02],\n",
              "                        [ 9.9254e-02,  7.6346e-02, -4.7924e-02]],\n",
              "              \n",
              "                       [[ 1.8824e-02, -6.5653e-02,  5.5598e-02],\n",
              "                        [-3.9591e-02, -2.3447e-02, -9.8264e-02],\n",
              "                        [ 1.9903e-03,  1.0011e-01,  5.0986e-02]],\n",
              "              \n",
              "                       [[-4.7154e-01,  3.8824e-02,  8.8627e-02],\n",
              "                        [ 1.0132e-01,  1.0516e-01,  5.7221e-02],\n",
              "                        [ 2.6844e-01,  5.2435e-02,  1.2289e-01]],\n",
              "              \n",
              "                       [[-9.0971e-02,  1.8411e-02, -4.7975e-02],\n",
              "                        [ 5.1001e-03,  1.2965e-01, -8.2823e-02],\n",
              "                        [-4.4008e-02,  6.8729e-02,  1.6963e-01]],\n",
              "              \n",
              "                       [[-1.8334e-01, -2.3243e-01,  1.3433e-01],\n",
              "                        [-1.0253e-01, -1.7892e-01, -1.0058e-01],\n",
              "                        [-6.7942e-02, -1.2374e-01, -5.7692e-02]],\n",
              "              \n",
              "                       [[-2.1424e-01,  4.3882e-01, -4.8977e-01],\n",
              "                        [ 1.2744e-01,  5.4880e-02,  2.9324e-02],\n",
              "                        [ 6.4324e-01, -3.0003e-01, -2.4798e-01]],\n",
              "              \n",
              "                       [[-1.7140e-01,  1.0211e-01, -5.8902e-02],\n",
              "                        [ 2.6991e-01,  2.8738e-01,  3.1548e-01],\n",
              "                        [ 1.4989e-01, -3.8593e-02, -1.1262e-01]],\n",
              "              \n",
              "                       [[-6.6801e-01,  2.0166e-02, -1.2781e-01],\n",
              "                        [-9.9449e-02,  2.8694e-01,  8.4998e-03],\n",
              "                        [ 1.2568e-01, -1.8649e-01,  2.9639e-01]],\n",
              "              \n",
              "                       [[ 1.1099e-01,  3.9868e-01, -5.1520e-02],\n",
              "                        [ 1.1315e-01,  3.4012e-01,  1.7301e-01],\n",
              "                        [ 3.7213e-02, -8.6682e-02,  2.3074e-01]]],\n",
              "              \n",
              "              \n",
              "                      [[[ 2.2689e-01, -3.7130e-01, -2.0590e-02],\n",
              "                        [ 5.0814e-01, -4.0741e-01, -8.9585e-02],\n",
              "                        [-1.4903e-01, -1.3267e-02, -4.4392e-02]],\n",
              "              \n",
              "                       [[ 6.4494e-02, -1.5811e-01, -2.5347e-01],\n",
              "                        [-1.2285e-01,  4.8356e-02, -6.6967e-02],\n",
              "                        [ 1.3728e-04, -1.0043e-01,  6.7832e-02]],\n",
              "              \n",
              "                       [[ 6.3980e-02,  4.1569e-02, -4.1793e-02],\n",
              "                        [-8.5853e-02,  4.2282e-03, -6.2446e-02],\n",
              "                        [ 8.4784e-02, -1.0069e-01,  4.6256e-02]],\n",
              "              \n",
              "                       [[ 2.5663e-02,  3.3087e-01,  1.1574e-01],\n",
              "                        [-3.1846e-01,  6.9413e-01,  4.3403e-01],\n",
              "                        [-9.2036e-01,  3.4068e-02, -3.9635e-02]],\n",
              "              \n",
              "                       [[-1.1485e-01,  4.2975e-01,  3.8711e-01],\n",
              "                        [ 8.5996e-02,  3.9809e-02,  7.3418e-02],\n",
              "                        [-1.3421e-01, -1.5060e-01, -2.2426e-01]],\n",
              "              \n",
              "                       [[-2.5194e-02, -2.7455e-01, -1.0518e-02],\n",
              "                        [ 5.2499e-01,  9.5013e-02, -3.9426e-02],\n",
              "                        [ 9.7711e-02,  1.5288e-01,  6.6678e-02]],\n",
              "              \n",
              "                       [[-3.1101e-01,  1.5713e-01,  7.4022e-02],\n",
              "                        [-7.6125e-01,  1.7797e-01,  1.4995e-01],\n",
              "                        [-3.0896e-01, -4.3976e-03,  9.9502e-02]],\n",
              "              \n",
              "                       [[ 1.3079e-01,  4.2427e-02, -5.5100e-02],\n",
              "                        [-2.8891e-01, -3.1866e-01, -3.7071e-02],\n",
              "                        [-4.9001e-01, -4.4912e-02,  3.7099e-03]],\n",
              "              \n",
              "                       [[-3.9037e-01, -1.2145e-01,  4.4360e-01],\n",
              "                        [-1.6193e-01,  4.8551e-01,  6.1485e-01],\n",
              "                        [-5.1628e-01, -2.1065e-01,  1.0271e-01]],\n",
              "              \n",
              "                       [[ 3.5485e-01, -5.5476e-02, -3.2133e-01],\n",
              "                        [ 4.6129e-02,  1.0516e-01, -3.7093e-03],\n",
              "                        [-4.5410e-01,  2.3595e-01,  1.3343e-01]]],\n",
              "              \n",
              "              \n",
              "                      [[[ 4.8836e-02,  1.8113e-01,  1.0206e-01],\n",
              "                        [ 3.3289e-02,  1.5999e-02, -1.2506e-01],\n",
              "                        [ 4.5415e-02,  2.7685e-02, -1.1010e-02]],\n",
              "              \n",
              "                       [[-3.5106e-02, -4.7183e-02, -4.2569e-02],\n",
              "                        [-5.6748e-02,  9.9861e-02, -2.0288e-02],\n",
              "                        [-9.8764e-02,  2.7535e-02,  4.2631e-03]],\n",
              "              \n",
              "                       [[ 8.0680e-02,  6.5927e-02,  9.6733e-02],\n",
              "                        [-7.7306e-02,  6.7661e-02,  8.8383e-02],\n",
              "                        [-5.2239e-02,  9.7110e-02,  7.9183e-02]],\n",
              "              \n",
              "                       [[-8.2324e-03,  5.0914e-02, -1.7811e-01],\n",
              "                        [-1.4319e-01, -4.7448e-02,  1.3869e-02],\n",
              "                        [-1.8774e-01, -2.3373e-02, -8.4272e-02]],\n",
              "              \n",
              "                       [[ 7.7223e-02,  3.0172e-02, -1.2258e-02],\n",
              "                        [-1.3854e-01, -5.0504e-02,  8.8447e-02],\n",
              "                        [-6.3618e-02, -2.0329e-02,  1.7382e-01]],\n",
              "              \n",
              "                       [[ 2.8480e-02, -2.4511e-02, -1.1590e-02],\n",
              "                        [ 2.8321e-02,  9.5147e-02, -6.6772e-02],\n",
              "                        [-5.2180e-02,  2.2944e-02, -1.8674e-02]],\n",
              "              \n",
              "                       [[-3.3419e-03, -3.0714e-02, -2.5756e-01],\n",
              "                        [-9.3913e-02, -7.7234e-02,  1.8908e-02],\n",
              "                        [-1.4014e-01, -1.7835e-01,  6.1114e-02]],\n",
              "              \n",
              "                       [[-9.0838e-03, -1.0817e-01, -5.3405e-02],\n",
              "                        [-6.7107e-02, -3.2967e-03,  4.4658e-02],\n",
              "                        [-1.5815e-01, -6.5619e-02,  1.0487e-01]],\n",
              "              \n",
              "                       [[-1.2678e-01, -7.4766e-02,  5.1169e-03],\n",
              "                        [ 4.4963e-03, -9.1509e-02,  7.4764e-02],\n",
              "                        [-1.0996e-01, -1.7912e-01,  9.5425e-02]],\n",
              "              \n",
              "                       [[ 1.1245e-01, -2.0074e-01,  2.5315e-01],\n",
              "                        [-9.8216e-02,  1.3351e-01,  2.0724e-01],\n",
              "                        [ 1.6766e-02,  2.4305e-01, -2.5653e-02]]],\n",
              "              \n",
              "              \n",
              "                      [[[-8.0384e-02, -1.9922e-02, -1.3153e-02],\n",
              "                        [-6.5324e-02, -7.6593e-02,  7.5068e-02],\n",
              "                        [ 7.5172e-02, -9.0123e-02,  5.0081e-02]],\n",
              "              \n",
              "                       [[ 4.3180e-02,  9.9353e-02,  6.2099e-02],\n",
              "                        [ 9.7704e-02, -3.2738e-02,  7.5314e-02],\n",
              "                        [ 8.5269e-02, -9.9018e-02, -8.3415e-02]],\n",
              "              \n",
              "                       [[ 2.1359e-02,  5.7597e-02, -5.2378e-02],\n",
              "                        [ 1.1590e-02, -1.4005e-04,  2.6639e-02],\n",
              "                        [-5.6660e-02,  5.9452e-02,  7.0093e-02]],\n",
              "              \n",
              "                       [[-9.3476e-02, -2.6594e-02, -3.2037e-02],\n",
              "                        [-7.7936e-03,  6.7132e-02, -1.9020e-02],\n",
              "                        [-6.3949e-02,  8.1183e-02, -7.9322e-02]],\n",
              "              \n",
              "                       [[-2.1976e-02,  5.6082e-04, -8.5174e-02],\n",
              "                        [ 1.5073e-02, -7.9366e-02,  6.1974e-03],\n",
              "                        [ 2.1843e-03,  1.0398e-02, -1.0047e-01]],\n",
              "              \n",
              "                       [[-1.0226e-01,  4.0605e-02,  8.7142e-02],\n",
              "                        [-9.9129e-02,  2.9068e-02, -8.0164e-02],\n",
              "                        [-5.3287e-03,  8.3615e-02,  5.7254e-02]],\n",
              "              \n",
              "                       [[-9.0114e-02,  4.0911e-02,  3.3485e-02],\n",
              "                        [-2.4745e-02,  9.3209e-02, -6.7228e-02],\n",
              "                        [-5.5107e-02, -5.6172e-02, -3.5580e-03]],\n",
              "              \n",
              "                       [[ 2.9666e-02,  5.5921e-04, -6.4867e-02],\n",
              "                        [-4.6652e-02,  4.7875e-02, -1.0078e-01],\n",
              "                        [-2.2670e-02,  7.0440e-03, -4.7369e-02]],\n",
              "              \n",
              "                       [[ 3.3913e-02, -2.8954e-03,  6.7106e-02],\n",
              "                        [-2.5488e-02, -7.9909e-02,  5.9766e-02],\n",
              "                        [-9.4194e-03, -3.6442e-02, -8.7653e-02]],\n",
              "              \n",
              "                       [[ 1.5732e-02, -1.0502e-01,  4.4738e-02],\n",
              "                        [ 3.1911e-02, -9.2193e-02, -3.4454e-02],\n",
              "                        [-7.4054e-02,  8.9316e-02,  1.0704e-01]]],\n",
              "              \n",
              "              \n",
              "                      [[[ 7.1968e-02,  1.4846e-01,  9.2845e-02],\n",
              "                        [-2.1537e-02, -1.4583e-02,  8.7445e-02],\n",
              "                        [ 1.3378e-01,  5.5552e-02,  2.4830e-01]],\n",
              "              \n",
              "                       [[ 5.9162e-02,  7.7998e-02, -1.0809e-01],\n",
              "                        [ 6.6036e-02, -9.9700e-02,  9.0908e-02],\n",
              "                        [ 2.0527e-02, -4.7048e-02,  5.6564e-02]],\n",
              "              \n",
              "                       [[-2.4487e-02, -9.6400e-02, -3.8161e-02],\n",
              "                        [ 1.5105e-02,  8.1570e-02, -3.2349e-02],\n",
              "                        [ 6.3177e-02,  1.3215e-02,  4.0180e-03]],\n",
              "              \n",
              "                       [[ 2.3493e-01, -1.4124e-01, -6.4519e-02],\n",
              "                        [-1.5468e-02, -1.6464e-01, -1.2692e-01],\n",
              "                        [ 6.6264e-02, -9.3942e-02, -2.7811e-01]],\n",
              "              \n",
              "                       [[-7.1072e-02, -4.6218e-02, -1.4466e-01],\n",
              "                        [-7.5588e-02, -3.3668e-02,  2.9091e-02],\n",
              "                        [-1.2745e-01, -2.8664e-02, -7.0897e-02]],\n",
              "              \n",
              "                       [[ 6.7336e-02, -1.8712e-01,  1.1345e-02],\n",
              "                        [ 9.9533e-02,  3.0493e-03,  1.0303e-03],\n",
              "                        [ 1.5339e-02, -5.2635e-02, -6.7022e-02]],\n",
              "              \n",
              "                       [[ 2.9117e-01, -2.1243e-01, -1.5035e-01],\n",
              "                        [-1.4355e-01, -2.0903e-01, -1.3086e-01],\n",
              "                        [-1.7041e-01,  1.6206e-01, -3.7532e-02]],\n",
              "              \n",
              "                       [[ 1.7025e-01, -2.1265e-01, -6.1442e-02],\n",
              "                        [ 1.3568e-01,  5.9233e-02, -1.2430e-01],\n",
              "                        [ 7.7817e-02,  2.3892e-02, -9.7974e-02]],\n",
              "              \n",
              "                       [[ 4.8953e-03, -1.0066e-01, -1.6774e-01],\n",
              "                        [-1.4553e-01,  1.7145e-02,  1.6930e-02],\n",
              "                        [-2.8494e-01, -4.5559e-02, -9.0774e-02]],\n",
              "              \n",
              "                       [[-1.9395e-01, -1.4284e-01,  3.8452e-01],\n",
              "                        [ 8.1635e-02, -6.1916e-02, -4.9856e-02],\n",
              "                        [ 1.3131e-01,  5.1833e-02, -2.4028e-01]]],\n",
              "              \n",
              "              \n",
              "                      [[[-1.5365e-01,  5.8258e-02, -3.9762e-02],\n",
              "                        [ 1.5331e-01,  4.2619e-02,  1.5094e-01],\n",
              "                        [ 2.4628e-01,  1.1331e-01,  1.9694e-01]],\n",
              "              \n",
              "                       [[ 9.3788e-02, -6.6453e-02, -4.3325e-03],\n",
              "                        [ 1.1461e-02,  1.0703e-01, -7.3101e-02],\n",
              "                        [ 6.5241e-02, -9.4461e-03,  9.7227e-02]],\n",
              "              \n",
              "                       [[-3.8833e-03, -4.3192e-02, -1.1994e-02],\n",
              "                        [ 5.7929e-02, -7.3406e-02, -6.6359e-02],\n",
              "                        [-2.4233e-02, -3.8706e-02,  4.1351e-02]],\n",
              "              \n",
              "                       [[ 9.7043e-02, -1.2065e-02,  1.9029e-02],\n",
              "                        [-1.1853e-01,  1.9683e-01, -3.8516e-01],\n",
              "                        [-4.1907e-01, -1.4249e-01, -3.0376e-01]],\n",
              "              \n",
              "                       [[-3.7939e-01, -5.0474e-03,  1.1707e-02],\n",
              "                        [-1.8068e-01,  1.2103e-01, -9.3623e-02],\n",
              "                        [-6.4847e-02, -8.2959e-02, -2.0501e-01]],\n",
              "              \n",
              "                       [[ 1.8109e-01,  1.1843e-01,  1.7330e-01],\n",
              "                        [ 2.6093e-01,  9.3267e-02,  1.6839e-02],\n",
              "                        [-1.3558e-02, -1.8994e-03, -3.8706e-02]],\n",
              "              \n",
              "                       [[ 1.3878e-02, -1.2114e-01,  1.8487e-02],\n",
              "                        [ 1.4149e-02,  5.6690e-01, -4.8728e-02],\n",
              "                        [-1.2628e-01,  1.7761e-01,  2.3322e-01]],\n",
              "              \n",
              "                       [[ 7.8755e-02, -3.0548e-01,  4.7626e-02],\n",
              "                        [ 2.6893e-03,  3.2663e-01, -1.7467e-02],\n",
              "                        [ 5.8784e-02,  2.7195e-01,  2.0329e-01]],\n",
              "              \n",
              "                       [[-1.7556e-01,  3.4175e-02,  4.4519e-02],\n",
              "                        [-3.0125e-01, -2.0802e-02, -6.5538e-02],\n",
              "                        [-3.8422e-01, -8.9216e-02, -3.7794e-01]],\n",
              "              \n",
              "                       [[ 1.1769e-01,  1.9003e-01,  2.8236e-01],\n",
              "                        [ 5.0521e-02,  1.3328e-01,  1.0743e-01],\n",
              "                        [-2.7592e-03, -2.7350e-02,  4.5826e-02]]],\n",
              "              \n",
              "              \n",
              "                      [[[-3.1313e-01,  1.1074e-01,  3.9582e-01],\n",
              "                        [-2.7125e-01,  1.0627e-02,  2.3367e-01],\n",
              "                        [-1.2737e-01, -5.3677e-01, -7.3480e-01]],\n",
              "              \n",
              "                       [[-1.1975e-01,  2.3290e-02,  1.0384e-01],\n",
              "                        [ 3.1921e-02, -9.5552e-02,  7.5962e-02],\n",
              "                        [-1.0225e-01, -8.2926e-02,  1.2310e-02]],\n",
              "              \n",
              "                       [[ 1.4698e-02,  1.5748e-02,  1.2242e-02],\n",
              "                        [ 4.7972e-02, -3.2335e-02, -7.8102e-02],\n",
              "                        [ 2.5279e-02, -1.0315e-02, -4.5421e-02]],\n",
              "              \n",
              "                       [[-9.8151e-02, -8.1065e-02, -6.2864e-01],\n",
              "                        [ 5.0419e-01,  3.6355e-01, -2.3927e-01],\n",
              "                        [-2.1175e-01,  4.1474e-01,  5.3057e-01]],\n",
              "              \n",
              "                       [[-1.5970e-01, -5.5956e-02, -2.2502e-03],\n",
              "                        [ 4.3429e-03, -3.2510e-01, -3.1039e-01],\n",
              "                        [ 3.7647e-01,  1.3640e-02, -2.6444e-01]],\n",
              "              \n",
              "                       [[-3.0561e-01, -3.2370e-02,  2.5267e-01],\n",
              "                        [-1.8054e-02, -8.0355e-02, -5.8723e-01],\n",
              "                        [ 2.7911e-01,  1.2795e-01,  3.6902e-01]],\n",
              "              \n",
              "                       [[-1.4683e-01,  2.7741e-01, -5.6498e-01],\n",
              "                        [ 4.3746e-01,  2.9919e-01, -4.6420e-01],\n",
              "                        [-1.0352e-01, -1.7316e-01, -3.3695e-01]],\n",
              "              \n",
              "                       [[-7.3273e-02,  1.3311e-01, -7.6418e-01],\n",
              "                        [ 2.2967e-01,  6.8143e-02, -5.9306e-01],\n",
              "                        [-1.1159e-01, -6.1687e-02, -2.7423e-01]],\n",
              "              \n",
              "                       [[-9.9474e-03,  1.7803e-01, -1.9104e-01],\n",
              "                        [ 3.4769e-01,  1.4984e-01, -6.3844e-01],\n",
              "                        [ 2.2984e-01,  1.9054e-01,  2.3349e-02]],\n",
              "              \n",
              "                       [[-1.2346e-01,  2.6980e-02, -2.5197e-01],\n",
              "                        [-3.3795e-02, -3.1231e-01, -3.6542e-01],\n",
              "                        [ 1.0456e-01, -3.7898e-01, -2.4746e-01]]],\n",
              "              \n",
              "              \n",
              "                      [[[-1.7903e-01,  2.5413e-01,  6.0487e-02],\n",
              "                        [ 1.1168e-01, -3.1875e-01, -3.1189e-01],\n",
              "                        [ 1.3838e-01, -9.9549e-02,  1.2723e-01]],\n",
              "              \n",
              "                       [[-7.8814e-02,  4.4307e-02, -8.4244e-02],\n",
              "                        [ 9.7395e-02, -1.7019e-01, -1.9718e-01],\n",
              "                        [-1.4746e-01,  3.1308e-02, -1.0390e-01]],\n",
              "              \n",
              "                       [[ 5.2104e-02, -6.3739e-02, -1.3839e-02],\n",
              "                        [-2.5647e-02,  6.5135e-02,  5.1122e-02],\n",
              "                        [-9.1579e-02,  8.6790e-03, -7.0312e-02]],\n",
              "              \n",
              "                       [[ 1.9157e-01, -1.7821e-01, -4.0771e-01],\n",
              "                        [-3.2561e-01,  1.9016e-01,  3.5449e-01],\n",
              "                        [ 1.5733e-01,  2.3671e-01,  5.9570e-04]],\n",
              "              \n",
              "                       [[-9.0024e-02, -2.1953e-01, -7.3312e-02],\n",
              "                        [ 1.1458e-01, -6.7126e-02,  7.3623e-02],\n",
              "                        [-2.1814e-01, -1.4920e-01,  1.4104e-01]],\n",
              "              \n",
              "                       [[ 6.4767e-03, -5.9900e-01, -4.4747e-01],\n",
              "                        [-1.8600e-01, -3.5593e-01, -1.5494e-01],\n",
              "                        [-1.1698e-01, -2.6062e-01,  7.3981e-02]],\n",
              "              \n",
              "                       [[ 2.3903e-01,  4.8990e-02, -3.9180e-01],\n",
              "                        [-5.0437e-01, -5.2959e-02,  7.4073e-02],\n",
              "                        [-3.4778e-01,  2.5994e-01,  1.4480e-01]],\n",
              "              \n",
              "                       [[ 7.0509e-02, -1.0136e-01, -1.3676e-01],\n",
              "                        [-1.5975e-01, -5.2106e-02,  6.3549e-05],\n",
              "                        [ 1.2912e-01,  1.5510e-01,  2.0521e-01]],\n",
              "              \n",
              "                       [[ 7.2050e-02, -1.4121e-02, -4.6765e-01],\n",
              "                        [-1.2278e-01,  1.4607e-01,  3.3074e-01],\n",
              "                        [ 1.0905e-01,  6.0148e-02,  9.6934e-02]],\n",
              "              \n",
              "                       [[ 2.3597e-01, -7.6500e-01,  4.2864e-02],\n",
              "                        [ 1.1874e-01, -2.8263e-01, -1.3311e-01],\n",
              "                        [ 9.0096e-02,  1.8842e-01, -2.0930e-03]]],\n",
              "              \n",
              "              \n",
              "                      [[[-2.4494e-01, -2.0198e-01,  1.4703e-01],\n",
              "                        [-4.7037e-02,  4.5373e-01,  2.5241e-01],\n",
              "                        [-8.9173e-02, -1.9108e-01, -1.9265e-01]],\n",
              "              \n",
              "                       [[-8.5909e-02,  6.1386e-02, -6.2871e-02],\n",
              "                        [-2.4039e-01,  4.4951e-02,  6.1640e-02],\n",
              "                        [ 4.8726e-03, -5.4787e-02,  9.6902e-02]],\n",
              "              \n",
              "                       [[ 3.3142e-04,  2.2412e-02,  9.5296e-02],\n",
              "                        [ 9.0810e-02, -5.1690e-02,  9.4320e-02],\n",
              "                        [ 3.7001e-02, -1.6554e-02,  8.7560e-02]],\n",
              "              \n",
              "                       [[ 1.9148e-01,  4.9104e-01,  1.8480e-01],\n",
              "                        [-1.2432e-01, -7.8277e-01, -6.3533e-01],\n",
              "                        [ 1.6939e-01, -2.3016e-01, -1.2156e-01]],\n",
              "              \n",
              "                       [[ 4.2398e-01,  2.5385e-01,  1.6186e-04],\n",
              "                        [ 4.5825e-02,  2.8780e-02, -2.8161e-01],\n",
              "                        [-2.0720e-01, -2.7399e-01,  1.4693e-01]],\n",
              "              \n",
              "                       [[-2.6358e-01,  2.7294e-01, -2.7341e-01],\n",
              "                        [-1.9886e-01,  6.9618e-02,  1.0077e-02],\n",
              "                        [ 3.5948e-03, -1.7089e-01, -1.9319e-01]],\n",
              "              \n",
              "                       [[-3.6801e-02,  2.3880e-01,  4.2532e-01],\n",
              "                        [ 2.7501e-01, -5.6385e-01, -3.6444e-01],\n",
              "                        [ 2.4083e-01, -4.2062e-01, -3.9262e-01]],\n",
              "              \n",
              "                       [[-4.4365e-02,  1.8687e-01,  2.4984e-01],\n",
              "                        [-2.1149e-01, -4.1972e-01, -2.8461e-01],\n",
              "                        [-1.0473e-01, -2.9709e-01, -5.1357e-01]],\n",
              "              \n",
              "                       [[ 3.3534e-01,  5.5228e-02, -4.6546e-02],\n",
              "                        [ 2.6024e-01, -3.3048e-01, -4.4354e-01],\n",
              "                        [-1.7723e-01, -4.1648e-01, -4.3756e-01]],\n",
              "              \n",
              "                       [[ 1.1029e-01, -1.9837e-01,  4.0299e-02],\n",
              "                        [-4.8220e-01, -2.1551e-01,  1.3674e-01],\n",
              "                        [-1.6146e-01, -4.8118e-01,  5.1578e-02]]],\n",
              "              \n",
              "              \n",
              "                      [[[-1.7983e-01, -6.1145e-02,  1.4639e-01],\n",
              "                        [-2.5921e-01, -4.0056e-02, -4.7947e-02],\n",
              "                        [-1.2225e-01, -1.2155e-01,  1.3341e-01]],\n",
              "              \n",
              "                       [[ 1.3827e-01,  3.0376e-02, -5.3820e-02],\n",
              "                        [-9.6101e-02, -8.0792e-02,  6.2250e-02],\n",
              "                        [-5.9344e-02,  7.4077e-05,  1.0502e-01]],\n",
              "              \n",
              "                       [[ 9.1434e-02, -5.0388e-02, -4.1907e-02],\n",
              "                        [ 6.7142e-02,  6.6388e-02, -3.6453e-02],\n",
              "                        [-1.0440e-01,  1.9332e-02,  5.5391e-02]],\n",
              "              \n",
              "                       [[-1.5846e-01, -5.1946e-02, -4.6747e-01],\n",
              "                        [ 6.8546e-01, -7.8605e-02, -3.7735e-02],\n",
              "                        [ 3.1865e-01, -1.6556e-01, -1.5537e-01]],\n",
              "              \n",
              "                       [[-1.4060e-01, -1.3418e-01, -2.4804e-01],\n",
              "                        [ 4.7283e-01, -1.3794e-01, -2.4371e-01],\n",
              "                        [ 3.3446e-01, -5.2895e-02, -2.5542e-01]],\n",
              "              \n",
              "                       [[-1.3654e-01, -1.9448e-01, -3.0177e-01],\n",
              "                        [-6.3680e-02,  1.1507e-01, -2.1537e-01],\n",
              "                        [ 1.0825e-01,  2.7501e-01,  5.4825e-02]],\n",
              "              \n",
              "                       [[-5.3622e-01,  3.3924e-01,  7.2277e-02],\n",
              "                        [ 5.7750e-03,  1.2659e-01,  2.4942e-01],\n",
              "                        [-1.7501e-02, -1.5344e-01,  3.2223e-01]],\n",
              "              \n",
              "                       [[-8.2674e-02,  3.7479e-01,  6.9259e-02],\n",
              "                        [-8.2791e-02, -3.5640e-01,  7.4551e-02],\n",
              "                        [-1.4138e-01, -1.7215e-01,  8.0863e-02]],\n",
              "              \n",
              "                       [[-4.0926e-01, -1.5973e-01, -2.8973e-01],\n",
              "                        [ 3.9204e-01,  1.6423e-01,  5.5475e-02],\n",
              "                        [ 5.3207e-01, -1.4269e-01, -5.6117e-02]],\n",
              "              \n",
              "                       [[-9.6060e-02,  1.6552e-01, -1.3156e-01],\n",
              "                        [-2.4148e-01, -1.5977e-01, -3.3504e-01],\n",
              "                        [-2.7176e-01, -3.0626e-01, -6.3493e-02]]]], device='cuda:0')),\n",
              "             ('conv_block_2.0.bias',\n",
              "              tensor([-0.4109,  0.1328, -0.0518, -0.1193,  0.1121, -0.0782,  0.3976,  0.6638,\n",
              "                       0.7996,  0.0413], device='cuda:0')),\n",
              "             ('conv_block_2.2.weight',\n",
              "              tensor([[[[ 1.3952e-01, -2.4134e-01, -2.0083e-01],\n",
              "                        [-1.4441e-01, -1.1313e-01,  1.5887e-01],\n",
              "                        [-1.0338e-01, -1.8872e-01,  1.2037e-01]],\n",
              "              \n",
              "                       [[ 1.2471e-01, -1.2699e-01, -3.5139e-01],\n",
              "                        [-1.3417e-01,  1.1743e-01, -5.8742e-01],\n",
              "                        [ 2.0993e-01, -2.0413e-02, -6.7728e-01]],\n",
              "              \n",
              "                       [[-1.0045e-01, -4.3909e-02,  2.2750e-01],\n",
              "                        [-1.0987e-01,  3.6926e-02,  9.6552e-02],\n",
              "                        [-3.9530e-02,  6.1104e-02, -8.2914e-02]],\n",
              "              \n",
              "                       [[-6.4973e-02,  1.0272e-01, -6.0528e-02],\n",
              "                        [-6.4806e-02,  1.6001e-02, -2.9079e-02],\n",
              "                        [-2.4980e-05, -5.2279e-02,  4.5416e-02]],\n",
              "              \n",
              "                       [[ 5.9776e-02, -4.8466e-02,  8.5879e-02],\n",
              "                        [ 5.8939e-02, -8.5075e-02, -1.8566e-02],\n",
              "                        [-7.2132e-02, -1.0867e-01, -2.2670e-01]],\n",
              "              \n",
              "                       [[-2.8812e-01, -1.4142e-01,  1.0252e-01],\n",
              "                        [-1.2616e-01, -1.5858e-01,  1.6546e-02],\n",
              "                        [-1.2311e-01, -1.7444e-02, -1.8953e-01]],\n",
              "              \n",
              "                       [[-4.8187e-01, -1.3704e-01, -8.2250e-01],\n",
              "                        [-3.3646e-01,  2.1535e-01,  4.6520e-01],\n",
              "                        [-7.5447e-01,  1.5749e-01,  5.2053e-01]],\n",
              "              \n",
              "                       [[ 4.1496e-01,  1.8455e-01, -3.8643e-01],\n",
              "                        [ 1.6801e-01,  5.9903e-02, -1.8561e-01],\n",
              "                        [-2.8380e-02, -1.7034e-01,  5.2361e-02]],\n",
              "              \n",
              "                       [[ 1.9378e-01, -8.9815e-02,  1.5232e-01],\n",
              "                        [ 2.1882e-02, -4.7251e-01, -5.7143e-02],\n",
              "                        [-3.8833e-01, -3.3850e-01, -1.1524e-01]],\n",
              "              \n",
              "                       [[ 6.0670e-02, -8.9113e-02,  6.1270e-02],\n",
              "                        [ 1.3353e-01, -1.7589e-01, -3.3410e-01],\n",
              "                        [ 7.9834e-02, -2.1189e-01,  3.1063e-01]]],\n",
              "              \n",
              "              \n",
              "                      [[[-2.5209e-01, -4.1876e-01, -1.8325e-01],\n",
              "                        [-8.2515e-02,  2.0515e-01, -2.9642e-01],\n",
              "                        [ 3.0662e-01,  4.0730e-01, -7.0610e-02]],\n",
              "              \n",
              "                       [[ 1.1299e-03,  1.4789e-01, -3.6379e-01],\n",
              "                        [ 7.1190e-02,  6.7753e-02,  2.3009e-01],\n",
              "                        [-5.4196e-01, -7.9761e-01,  2.7965e-01]],\n",
              "              \n",
              "                       [[-8.3176e-02, -7.5655e-02, -7.0727e-02],\n",
              "                        [-3.9155e-02, -1.5283e-01, -1.4045e-01],\n",
              "                        [-1.7931e-01, -1.4990e-01, -8.4829e-02]],\n",
              "              \n",
              "                       [[-1.0152e-01,  5.1835e-02,  6.2462e-02],\n",
              "                        [-7.6448e-03, -8.0320e-02, -7.9172e-02],\n",
              "                        [-4.8452e-02,  2.7884e-02,  9.8720e-03]],\n",
              "              \n",
              "                       [[-4.8150e-02, -1.5398e-02, -5.1125e-02],\n",
              "                        [ 2.6801e-02, -1.7228e-01, -7.2315e-02],\n",
              "                        [ 1.5489e-01, -8.0838e-02, -2.0325e-01]],\n",
              "              \n",
              "                       [[-9.1897e-02,  1.5119e-01,  5.5939e-02],\n",
              "                        [ 2.1068e-02,  1.1933e-01,  5.5942e-01],\n",
              "                        [ 3.2545e-01, -2.7164e-03, -4.3714e-02]],\n",
              "              \n",
              "                       [[-4.5989e-02, -1.6379e-01,  2.2228e-01],\n",
              "                        [-2.7158e-01, -8.0673e-02,  1.9555e-01],\n",
              "                        [ 2.2859e-01,  5.7749e-03, -4.8148e-02]],\n",
              "              \n",
              "                       [[ 2.1531e-01,  8.7302e-02,  1.0348e-01],\n",
              "                        [-1.5402e-01, -3.6630e-01,  9.3085e-03],\n",
              "                        [ 2.2945e-01, -7.5162e-01, -2.5763e-02]],\n",
              "              \n",
              "                       [[-1.7350e-01, -3.6004e-01, -2.7167e-01],\n",
              "                        [ 4.9008e-01,  7.9978e-02, -6.9810e-01],\n",
              "                        [-1.7873e-01,  4.8939e-01, -1.8601e-01]],\n",
              "              \n",
              "                       [[ 1.4233e-02,  9.8597e-02, -1.8921e-01],\n",
              "                        [-1.2908e-01, -1.9468e-01,  2.7758e-02],\n",
              "                        [ 6.8952e-02, -2.6106e-01, -2.3005e-01]]],\n",
              "              \n",
              "              \n",
              "                      [[[ 6.5771e-02, -1.0187e-01,  8.2185e-02],\n",
              "                        [ 3.0298e-01,  2.6658e-01, -2.2102e-01],\n",
              "                        [-2.6510e-01, -1.4460e-02, -2.7177e-02]],\n",
              "              \n",
              "                       [[-3.6279e-01, -9.9081e-02, -4.5106e-01],\n",
              "                        [-6.6612e-01,  3.9661e-01, -2.0329e-01],\n",
              "                        [-2.2697e-01,  4.9333e-02,  1.7937e-01]],\n",
              "              \n",
              "                       [[-1.7072e-01, -1.0647e-01, -2.9883e-03],\n",
              "                        [-1.5817e-01,  1.2125e-01,  7.6325e-02],\n",
              "                        [-9.7984e-02, -7.2829e-02,  8.7113e-04]],\n",
              "              \n",
              "                       [[-8.2065e-02,  9.1095e-02,  5.3829e-02],\n",
              "                        [ 7.3253e-02,  1.8894e-02, -7.6666e-02],\n",
              "                        [ 7.7829e-02, -1.7937e-02,  4.7219e-02]],\n",
              "              \n",
              "                       [[ 9.7318e-02, -8.6904e-02, -2.0494e-01],\n",
              "                        [-7.7351e-02,  7.5081e-02, -1.7938e-01],\n",
              "                        [ 9.5788e-02,  2.3083e-02,  1.3843e-01]],\n",
              "              \n",
              "                       [[ 4.3025e-02,  1.7682e-01, -3.1142e-01],\n",
              "                        [ 5.2459e-02,  1.0215e-01, -4.4319e-02],\n",
              "                        [-2.9845e-02,  1.6678e-01, -1.3722e-01]],\n",
              "              \n",
              "                       [[-1.2078e-01, -1.1116e-01,  3.9180e-01],\n",
              "                        [-2.6857e-01, -1.6433e-02, -1.5160e-01],\n",
              "                        [-7.7265e-02,  2.0109e-02,  6.6933e-02]],\n",
              "              \n",
              "                       [[-2.6393e-01,  2.1942e-01,  2.3472e-01],\n",
              "                        [-5.2803e-01,  4.5760e-01, -2.0095e-02],\n",
              "                        [-2.8752e-01, -4.9956e-01,  6.6104e-02]],\n",
              "              \n",
              "                       [[-1.2393e-01, -3.7989e-01,  2.6163e-01],\n",
              "                        [ 1.9932e-01, -4.5722e-01,  6.0172e-02],\n",
              "                        [ 2.5751e-01, -1.0645e-01, -1.5381e-01]],\n",
              "              \n",
              "                       [[-3.5437e-01, -2.7049e-01,  1.9931e-01],\n",
              "                        [-7.0141e-02, -2.3474e-02,  6.8797e-02],\n",
              "                        [-1.4442e-01,  1.8985e-01, -1.5321e-01]]],\n",
              "              \n",
              "              \n",
              "                      [[[-2.0545e-01,  1.3576e-02,  8.8875e-02],\n",
              "                        [-2.6278e-03,  1.6007e-02, -4.4093e-01],\n",
              "                        [-1.3389e-01, -1.3064e-01,  1.3032e-03]],\n",
              "              \n",
              "                       [[ 1.2839e-01, -1.9321e-01, -5.6421e-01],\n",
              "                        [-5.1344e-02, -3.2848e-01,  1.4532e-01],\n",
              "                        [-6.1624e-02, -6.2012e-01,  5.9873e-01]],\n",
              "              \n",
              "                       [[-8.0256e-02, -1.8769e-01,  9.5092e-02],\n",
              "                        [-1.0607e-01, -1.3114e-01,  1.2102e-01],\n",
              "                        [-1.9542e-01, -6.7433e-02, -1.4452e-01]],\n",
              "              \n",
              "                       [[-9.5849e-02, -1.7047e-02,  4.3086e-02],\n",
              "                        [ 7.9016e-02,  2.4152e-02, -1.9312e-02],\n",
              "                        [-1.9492e-03, -4.4640e-02, -1.9717e-02]],\n",
              "              \n",
              "                       [[-7.2467e-02, -1.3683e-03,  2.7638e-01],\n",
              "                        [-1.0288e-01, -1.2518e-01, -8.2750e-03],\n",
              "                        [-1.1431e-01, -1.5922e-01,  6.4289e-02]],\n",
              "              \n",
              "                       [[-2.3662e-01, -9.0029e-02,  7.4599e-02],\n",
              "                        [-2.1207e-02, -1.4134e-01,  8.8895e-02],\n",
              "                        [ 1.3744e-01, -1.1391e-01,  1.5083e-01]],\n",
              "              \n",
              "                       [[-5.3863e-02, -1.0454e-01, -4.2921e-01],\n",
              "                        [-4.9542e-02, -2.8596e-01, -6.7168e-02],\n",
              "                        [ 4.2552e-01, -3.4492e-01, -1.9958e-01]],\n",
              "              \n",
              "                       [[-7.9030e-03, -4.5140e-02,  2.8571e-01],\n",
              "                        [-2.7924e-02, -8.8849e-02,  1.1288e-02],\n",
              "                        [-4.5602e-02,  1.5979e-01, -5.0826e-02]],\n",
              "              \n",
              "                       [[ 3.6196e-01,  1.6622e-01,  4.2551e-02],\n",
              "                        [-2.4973e-02, -1.5202e-01, -5.8342e-01],\n",
              "                        [ 4.7954e-01, -2.9062e-02, -4.8632e-01]],\n",
              "              \n",
              "                       [[-8.2843e-02, -3.6669e-02, -2.3277e-01],\n",
              "                        [-2.1063e-01, -1.1895e-01, -2.0484e-01],\n",
              "                        [-1.9126e-01, -1.3077e-01, -2.3697e-01]]],\n",
              "              \n",
              "              \n",
              "                      [[[-1.1899e-01, -2.6386e-01, -2.1677e-02],\n",
              "                        [-1.7822e-01, -2.3387e-01, -3.0219e-02],\n",
              "                        [ 3.0738e-01, -6.7778e-02,  2.7079e-02]],\n",
              "              \n",
              "                       [[ 4.0607e-01,  3.2245e-01,  3.0887e-01],\n",
              "                        [-1.2352e-02, -6.6477e-02, -1.5845e-01],\n",
              "                        [-1.4255e-01, -1.0589e-01, -1.3537e-01]],\n",
              "              \n",
              "                       [[-3.5212e-02, -6.8813e-02, -5.5973e-02],\n",
              "                        [ 4.7343e-02, -3.5105e-02, -8.5229e-02],\n",
              "                        [ 7.2079e-02, -8.7596e-02, -3.8545e-03]],\n",
              "              \n",
              "                       [[-7.5886e-02, -3.9233e-02,  1.1144e-01],\n",
              "                        [ 3.9576e-02, -2.1710e-02,  1.8509e-02],\n",
              "                        [ 4.4679e-02, -4.7219e-03, -8.6035e-02]],\n",
              "              \n",
              "                       [[ 2.6723e-02, -2.2772e-02, -1.7155e-01],\n",
              "                        [-1.6208e-01, -7.6041e-02, -2.1531e-01],\n",
              "                        [ 6.2293e-02,  3.7970e-02,  4.8437e-02]],\n",
              "              \n",
              "                       [[ 2.7651e-01, -2.9584e-01,  1.4801e-01],\n",
              "                        [-2.4793e-01, -2.1023e-01, -1.1658e-01],\n",
              "                        [-2.2076e-01, -1.5166e-01,  1.2003e-01]],\n",
              "              \n",
              "                       [[ 3.1754e-01, -3.3371e-01,  1.0568e-01],\n",
              "                        [ 2.4846e-02, -1.2453e-01, -1.3615e-01],\n",
              "                        [ 7.4685e-03, -1.8639e-01, -3.5667e-01]],\n",
              "              \n",
              "                       [[-6.6662e-02, -2.3225e-02,  1.8175e-01],\n",
              "                        [-2.7612e-01, -2.9940e-01, -1.8637e-01],\n",
              "                        [-3.5040e-01, -1.3655e-01,  2.4387e-01]],\n",
              "              \n",
              "                       [[-1.1884e-01,  1.3495e-01,  1.6460e-01],\n",
              "                        [ 2.5679e-02,  7.9163e-02,  2.2542e-01],\n",
              "                        [-2.2834e-01,  3.4710e-01, -2.3365e-01]],\n",
              "              \n",
              "                       [[ 2.7613e-01, -7.6573e-02,  4.7638e-01],\n",
              "                        [ 2.5165e-01, -1.1408e-01, -1.1020e-01],\n",
              "                        [ 7.8821e-02, -1.9029e-01, -3.2240e-01]]],\n",
              "              \n",
              "              \n",
              "                      [[[-7.2163e-02, -1.2106e-01, -4.5011e-01],\n",
              "                        [-3.7050e-01, -1.1386e-01, -8.8295e-02],\n",
              "                        [ 1.7230e-01, -8.1871e-02, -1.6697e-01]],\n",
              "              \n",
              "                       [[-3.4501e-01, -3.4907e-01, -1.4925e-01],\n",
              "                        [ 7.4009e-02, -1.3483e-01, -6.7046e-01],\n",
              "                        [ 4.4792e-01,  6.3824e-01, -7.7422e-02]],\n",
              "              \n",
              "                       [[-3.7022e-02, -5.7603e-02, -4.2309e-02],\n",
              "                        [-9.6208e-02,  5.1074e-03, -1.1415e-01],\n",
              "                        [-1.4868e-01, -1.6322e-01, -2.2859e-02]],\n",
              "              \n",
              "                       [[ 5.1210e-02, -5.6630e-02, -7.1248e-02],\n",
              "                        [-9.1058e-02, -6.4438e-02, -3.9978e-02],\n",
              "                        [ 5.2212e-02,  3.4642e-02, -4.5143e-02]],\n",
              "              \n",
              "                       [[-2.0462e-02, -1.7455e-01, -5.7366e-02],\n",
              "                        [-6.4369e-02, -1.2037e-01,  1.4997e-01],\n",
              "                        [ 7.8912e-02, -2.9118e-02, -8.7642e-02]],\n",
              "              \n",
              "                       [[-2.4135e-02, -1.8022e-01,  3.3508e-02],\n",
              "                        [-1.9034e-01, -9.3019e-03,  3.7387e-02],\n",
              "                        [-7.7808e-02, -1.4930e-01, -1.0015e-01]],\n",
              "              \n",
              "                       [[ 2.0264e-01,  3.9482e-01, -3.9873e-02],\n",
              "                        [-6.1363e-01, -9.2546e-02,  3.0752e-03],\n",
              "                        [ 2.0826e-01, -3.3223e-01, -1.3770e-02]],\n",
              "              \n",
              "                       [[ 2.6857e-02, -3.0341e-01, -6.9663e-02],\n",
              "                        [-6.0041e-02,  3.8618e-01,  2.9562e-01],\n",
              "                        [-1.5151e-01, -4.8586e-01,  2.2240e-01]],\n",
              "              \n",
              "                       [[-1.0884e-01, -4.1958e-02,  4.1835e-01],\n",
              "                        [-2.7609e-02, -9.0596e-02, -1.3927e-01],\n",
              "                        [-4.2740e-02, -3.0666e-01, -4.3930e-01]],\n",
              "              \n",
              "                       [[ 2.4615e-01, -1.2239e-01, -2.9103e-01],\n",
              "                        [ 1.2232e-01, -1.5657e-01, -2.8422e-01],\n",
              "                        [-2.6533e-02, -1.2552e-01, -1.3593e-01]]],\n",
              "              \n",
              "              \n",
              "                      [[[-3.4791e-02,  4.2726e-02,  1.4639e-01],\n",
              "                        [ 1.7240e-01, -2.3836e-01, -9.1241e-02],\n",
              "                        [-3.8056e-02, -1.4207e-01, -1.5022e-01]],\n",
              "              \n",
              "                       [[ 8.0220e-02,  2.9656e-01,  4.1270e-01],\n",
              "                        [-2.2633e-01, -3.6165e-01, -5.4661e-01],\n",
              "                        [-7.0889e-02, -4.5229e-01,  1.2799e-01]],\n",
              "              \n",
              "                       [[-2.3515e-02, -4.1977e-03, -2.6447e-04],\n",
              "                        [-1.0399e-01,  8.1466e-02, -2.2362e-02],\n",
              "                        [-1.3776e-01, -2.8502e-01, -9.5091e-03]],\n",
              "              \n",
              "                       [[ 5.6552e-02,  6.5239e-02,  1.6892e-02],\n",
              "                        [-4.2128e-02,  9.7633e-02,  2.0824e-02],\n",
              "                        [-3.4855e-02, -4.2181e-02, -1.5120e-02]],\n",
              "              \n",
              "                       [[-1.5173e-01,  2.1582e-01,  9.7881e-03],\n",
              "                        [-1.7967e-01,  2.3949e-01, -2.4243e-01],\n",
              "                        [-2.3145e-01, -4.4971e-02,  1.2208e-01]],\n",
              "              \n",
              "                       [[-8.1292e-02,  1.3401e-01,  3.4665e-02],\n",
              "                        [-2.1638e-02,  2.1114e-02, -1.7647e-01],\n",
              "                        [ 4.6334e-02,  2.2073e-01, -7.1678e-02]],\n",
              "              \n",
              "                       [[ 2.9588e-02, -6.4294e-01,  7.0640e-02],\n",
              "                        [-2.7054e-02,  3.3298e-01, -2.8099e-01],\n",
              "                        [ 3.5906e-01,  3.1847e-01, -2.8990e-01]],\n",
              "              \n",
              "                       [[-4.3464e-01, -4.9839e-01, -4.9036e-01],\n",
              "                        [-2.4869e-01, -4.3649e-01,  2.8376e-01],\n",
              "                        [ 4.6624e-01,  7.6041e-01,  1.0866e-01]],\n",
              "              \n",
              "                       [[ 1.1783e-01,  5.6498e-01,  1.4876e-01],\n",
              "                        [-1.4797e-01,  2.7626e-01, -2.7383e-01],\n",
              "                        [-5.9802e-01, -1.3492e+00,  1.1599e-01]],\n",
              "              \n",
              "                       [[-4.8203e-02,  1.2304e-01, -1.1429e-01],\n",
              "                        [-2.2430e-01, -1.5283e-02, -3.1146e-01],\n",
              "                        [ 3.2592e-01, -2.1879e-01, -2.7020e-01]]],\n",
              "              \n",
              "              \n",
              "                      [[[ 1.3032e-01,  2.6397e-01, -4.2351e-02],\n",
              "                        [ 1.9131e-01,  2.1070e-01, -4.1841e-01],\n",
              "                        [ 1.5585e-02,  1.5742e-01, -4.2575e-01]],\n",
              "              \n",
              "                       [[-4.3630e-01, -2.3510e-01, -2.2946e-01],\n",
              "                        [ 2.0564e-01, -3.9540e-02, -2.4437e-01],\n",
              "                        [ 1.4266e-01,  4.5811e-02, -1.7284e-01]],\n",
              "              \n",
              "                       [[ 3.2976e-02,  3.1566e-03, -9.6024e-03],\n",
              "                        [ 1.9146e-01, -2.5845e-02,  8.1777e-02],\n",
              "                        [ 5.2587e-02, -1.2189e-01, -6.0380e-03]],\n",
              "              \n",
              "                       [[-8.8031e-02, -8.2317e-02,  1.9621e-02],\n",
              "                        [ 2.4202e-02, -1.3191e-02,  9.9265e-02],\n",
              "                        [-5.2955e-02, -4.0812e-02, -1.8462e-02]],\n",
              "              \n",
              "                       [[ 1.2504e-02, -9.7362e-03,  3.9973e-02],\n",
              "                        [-3.8888e-02, -3.0474e-02, -3.8896e-02],\n",
              "                        [ 8.1975e-02,  2.8903e-02,  1.1207e-02]],\n",
              "              \n",
              "                       [[ 7.5371e-02, -2.0713e-03, -6.4529e-02],\n",
              "                        [ 1.1655e-01,  1.6927e-02, -9.0640e-02],\n",
              "                        [-9.2824e-02,  1.0330e-01,  7.7123e-02]],\n",
              "              \n",
              "                       [[-2.6726e-01, -8.4450e-02, -1.7855e-01],\n",
              "                        [-1.5657e-01,  1.4503e-01, -3.7087e-02],\n",
              "                        [-2.5703e-02, -6.7418e-02,  2.6153e-02]],\n",
              "              \n",
              "                       [[-2.6890e-01, -2.8573e-01, -1.1952e-01],\n",
              "                        [ 1.5883e-01,  3.2906e-01,  4.7789e-02],\n",
              "                        [-6.3024e-01, -7.0674e-03, -3.7776e-01]],\n",
              "              \n",
              "                       [[-2.1602e-01, -5.1690e-02, -3.3585e-01],\n",
              "                        [-4.4705e-02, -1.3839e-01, -2.3639e-01],\n",
              "                        [-4.0085e-02, -1.2055e-01, -2.5167e-01]],\n",
              "              \n",
              "                       [[-8.5726e-02, -6.2064e-02,  1.2358e-01],\n",
              "                        [-2.2471e-01,  5.0332e-02,  3.6080e-01],\n",
              "                        [-3.0674e-02, -3.0520e-01, -1.6572e-02]]],\n",
              "              \n",
              "              \n",
              "                      [[[-3.9252e-01, -2.5364e-01,  6.5640e-02],\n",
              "                        [-2.9394e-02, -4.5304e-02, -1.6621e-01],\n",
              "                        [ 2.0022e-02,  4.6521e-02,  1.8949e-01]],\n",
              "              \n",
              "                       [[ 7.4530e-02, -5.2019e-01,  5.2036e-02],\n",
              "                        [ 3.0973e-01, -6.1114e-02, -4.2572e-01],\n",
              "                        [-1.2901e-01, -2.9578e-01, -4.0039e-01]],\n",
              "              \n",
              "                       [[-2.1496e-02, -3.2169e-02, -1.3547e-03],\n",
              "                        [-6.5058e-02, -1.0002e-01,  7.2635e-02],\n",
              "                        [ 2.8031e-02, -1.4441e-01, -3.6290e-03]],\n",
              "              \n",
              "                       [[ 8.1340e-02,  1.0922e-02, -5.6038e-02],\n",
              "                        [ 1.6747e-04,  7.7128e-02, -8.7879e-02],\n",
              "                        [-5.0702e-02, -7.7397e-02, -8.2068e-03]],\n",
              "              \n",
              "                       [[ 2.5073e-01, -2.3448e-01,  2.7923e-01],\n",
              "                        [ 1.2150e-01,  1.6899e-01,  7.5235e-02],\n",
              "                        [ 1.5546e-01,  9.3848e-02,  1.7374e-02]],\n",
              "              \n",
              "                       [[-8.6818e-03, -2.3728e-01,  1.0078e-01],\n",
              "                        [-1.0264e-01, -1.8784e-01,  2.7274e-01],\n",
              "                        [ 2.0007e-01, -2.1373e-02, -7.8243e-02]],\n",
              "              \n",
              "                       [[-2.5239e-01, -7.0311e-01,  1.6989e-01],\n",
              "                        [-2.0257e-01, -6.1941e-01, -3.2255e-01],\n",
              "                        [ 8.9441e-02,  1.4716e-01, -2.1027e-01]],\n",
              "              \n",
              "                       [[-8.2988e-02, -2.2410e-01, -7.1930e-02],\n",
              "                        [-1.3574e-02, -3.8993e-01,  1.9666e-01],\n",
              "                        [ 2.8261e-01, -6.6008e-02,  4.2265e-02]],\n",
              "              \n",
              "                       [[ 2.2202e-01, -1.7693e-01,  3.1603e-01],\n",
              "                        [ 3.1775e-01,  1.9738e-01,  3.3229e-01],\n",
              "                        [-1.6631e-01, -4.1982e-02,  2.7243e-01]],\n",
              "              \n",
              "                       [[-1.7490e-01,  3.9957e-02, -2.3496e-01],\n",
              "                        [-3.6065e-01, -3.0262e-01, -1.2269e-02],\n",
              "                        [ 7.5607e-02,  1.6858e-01, -2.7278e-01]]],\n",
              "              \n",
              "              \n",
              "                      [[[-2.4854e-01, -1.4262e-01, -1.9985e-01],\n",
              "                        [ 3.1385e-02, -1.4306e-01, -1.1817e-01],\n",
              "                        [ 1.9355e-01,  2.3445e-01,  3.3588e-01]],\n",
              "              \n",
              "                       [[-1.4528e-01, -3.1712e-01, -1.0883e-01],\n",
              "                        [-8.1105e-01, -2.5968e-01,  1.8417e-02],\n",
              "                        [ 7.7647e-02,  4.7608e-01,  8.1761e-02]],\n",
              "              \n",
              "                       [[-1.0579e-01,  2.4061e-01,  1.0701e-01],\n",
              "                        [-1.0701e-01,  8.7498e-02,  1.0059e-01],\n",
              "                        [ 6.1819e-02, -6.7751e-02,  7.6191e-02]],\n",
              "              \n",
              "                       [[ 2.5094e-02,  5.5592e-02, -1.7701e-02],\n",
              "                        [ 7.8553e-02,  8.9334e-02, -7.1330e-02],\n",
              "                        [ 9.5744e-02, -6.3306e-02, -6.7541e-02]],\n",
              "              \n",
              "                       [[-8.2870e-02,  8.2884e-02, -1.1959e-01],\n",
              "                        [-1.5912e-01, -7.5748e-02, -1.8518e-02],\n",
              "                        [-2.1111e-01, -5.7624e-02, -1.2474e-02]],\n",
              "              \n",
              "                       [[ 8.4985e-02, -1.2499e-01,  1.0815e-01],\n",
              "                        [-9.8700e-02, -1.4066e-01,  1.0607e-02],\n",
              "                        [-6.8940e-02,  1.3697e-02,  5.2789e-02]],\n",
              "              \n",
              "                       [[-2.2718e-02, -4.1454e-01, -1.1460e-01],\n",
              "                        [-6.1798e-02, -4.9585e-01, -1.3917e-01],\n",
              "                        [-4.5540e-02, -1.4003e-01, -2.3136e-01]],\n",
              "              \n",
              "                       [[-2.5537e-01,  2.3963e-01, -7.6836e-02],\n",
              "                        [ 2.4184e-01,  3.3955e-01, -8.7355e-02],\n",
              "                        [ 8.9120e-02, -5.9291e-02,  8.0430e-02]],\n",
              "              \n",
              "                       [[ 6.4711e-01, -3.9800e-01, -5.3936e-01],\n",
              "                        [-1.2374e-01, -2.0781e-01, -2.7002e-01],\n",
              "                        [-5.7098e-01, -1.4819e-01,  6.2582e-02]],\n",
              "              \n",
              "                       [[-3.6091e-01, -3.8595e-01, -2.1818e-02],\n",
              "                        [-4.3920e-01, -2.7660e-01,  4.7401e-01],\n",
              "                        [-2.6773e-01,  2.4852e-01,  8.7590e-02]]]], device='cuda:0')),\n",
              "             ('conv_block_2.2.bias',\n",
              "              tensor([ 0.3619, -0.2289,  0.3576,  0.0968, -0.2217,  0.2101,  0.0095,  0.0092,\n",
              "                      -0.1397,  0.1047], device='cuda:0')),\n",
              "             ('classifier.1.weight',\n",
              "              tensor([[-4.8935e-02, -2.7157e-01,  2.8526e-01,  ..., -1.2100e-02,\n",
              "                        1.3442e-01,  1.7756e-02],\n",
              "                      [ 2.0871e-02,  3.4479e-01, -1.7366e-01,  ...,  6.8684e-02,\n",
              "                        7.2155e-02,  1.8746e-02],\n",
              "                      [-1.4260e-01,  1.7565e-01,  7.6143e-02,  ..., -1.3756e-01,\n",
              "                       -1.0240e-02, -8.4830e-02],\n",
              "                      ...,\n",
              "                      [-7.8918e-02, -1.1696e-01, -1.9933e-01,  ..., -9.0418e-03,\n",
              "                       -4.9597e-03, -6.2427e-03],\n",
              "                      [ 2.2847e-01,  3.8140e-01,  4.3778e-02,  ...,  3.8645e-02,\n",
              "                        2.3226e-01, -1.2576e-04],\n",
              "                      [-5.7846e-02, -1.3494e-01, -6.9939e-02,  ..., -3.3641e-02,\n",
              "                       -4.2353e-02, -1.1304e-03]], device='cuda:0')),\n",
              "             ('classifier.1.bias',\n",
              "              tensor([ 0.1422, -0.1969,  0.3604,  0.1264, -0.5024, -0.3268,  0.0884,  0.0916,\n",
              "                       0.2428, -0.0625], device='cuda:0'))])"
            ]
          },
          "metadata": {},
          "execution_count": 96
        }
      ]
    },
    {
      "cell_type": "code",
      "source": [
        "# Create a new instance to load the model\n",
        "torch.manual_seed(42)\n",
        "\n",
        "loaded_model_1 = FashionMNISTModelV2(\n",
        "    input_shape = 1,\n",
        "    hidden_units = 10,\n",
        "    output_shape = len(class_names))\n",
        "\n",
        "\n",
        "# Load in the saved state_dict()\n",
        "loaded_model_1.load_state_dict(torch.load(f = MODEL_SAVE_PATH))\n",
        "\n",
        "# send the model to the target dvcie\n",
        "loaded_model_1.to(device)\n"
      ],
      "metadata": {
        "colab": {
          "base_uri": "https://localhost:8080/"
        },
        "id": "VOooezJRZ96w",
        "outputId": "739ca198-817b-4538-e3ab-df2bbb77d48f"
      },
      "execution_count": 101,
      "outputs": [
        {
          "output_type": "execute_result",
          "data": {
            "text/plain": [
              "FashionMNISTModelV2(\n",
              "  (conv_block_1): Sequential(\n",
              "    (0): Conv2d(1, 10, kernel_size=(3, 3), stride=(1, 1), padding=(1, 1))\n",
              "    (1): ReLU()\n",
              "    (2): Conv2d(10, 10, kernel_size=(3, 3), stride=(1, 1), padding=(1, 1))\n",
              "    (3): ReLU()\n",
              "    (4): MaxPool2d(kernel_size=2, stride=2, padding=0, dilation=1, ceil_mode=False)\n",
              "  )\n",
              "  (conv_block_2): Sequential(\n",
              "    (0): Conv2d(10, 10, kernel_size=(3, 3), stride=(1, 1), padding=(1, 1))\n",
              "    (1): ReLU()\n",
              "    (2): Conv2d(10, 10, kernel_size=(3, 3), stride=(1, 1), padding=(1, 1))\n",
              "    (3): ReLU()\n",
              "    (4): MaxPool2d(kernel_size=2, stride=2, padding=0, dilation=1, ceil_mode=False)\n",
              "  )\n",
              "  (classifier): Sequential(\n",
              "    (0): Flatten(start_dim=1, end_dim=-1)\n",
              "    (1): Linear(in_features=490, out_features=10, bias=True)\n",
              "  )\n",
              ")"
            ]
          },
          "metadata": {},
          "execution_count": 101
        }
      ]
    },
    {
      "cell_type": "code",
      "source": [
        "model_1_results"
      ],
      "metadata": {
        "colab": {
          "base_uri": "https://localhost:8080/"
        },
        "id": "icyaQioXZ9j9",
        "outputId": "0080e2bb-272b-4181-8f49-213526d3d1c0"
      },
      "execution_count": 102,
      "outputs": [
        {
          "output_type": "execute_result",
          "data": {
            "text/plain": [
              "{'model_name': 'FashionMNISTModelV2',\n",
              " 'model_loss': 0.3176461160182953,\n",
              " 'model_acc': 88.82787539936102}"
            ]
          },
          "metadata": {},
          "execution_count": 102
        }
      ]
    },
    {
      "cell_type": "code",
      "source": [
        "# Evaluate loaded model\n",
        "torch.manual_seed(42)\n",
        "\n",
        "loaded_model_1_results = eval_model(\n",
        "    model = loaded_model_1,\n",
        "    data_loader=test_dataloader,\n",
        "    loss_fn = loss_fn,\n",
        "    accuracy_fn = accuracy_fn\n",
        ")\n",
        "loaded_model_1_results"
      ],
      "metadata": {
        "colab": {
          "base_uri": "https://localhost:8080/"
        },
        "id": "Rl-x4JKRZ9e-",
        "outputId": "22cb36f1-20a0-4f5f-adb0-99c368d8c0eb"
      },
      "execution_count": 103,
      "outputs": [
        {
          "output_type": "execute_result",
          "data": {
            "text/plain": [
              "{'model_name': 'FashionMNISTModelV2',\n",
              " 'model_loss': 0.3176461160182953,\n",
              " 'model_acc': 88.82787539936102}"
            ]
          },
          "metadata": {},
          "execution_count": 103
        }
      ]
    },
    {
      "cell_type": "code",
      "source": [
        "# check if model results are close enough\n",
        "torch.isclose(torch.tensor(model_1_results[\"model_loss\"]),\n",
        "              torch.tensor(loaded_model_1_results[\"model_loss\"]),\n",
        "              atol = 1e-02) # we can set tolerence level`"
      ],
      "metadata": {
        "colab": {
          "base_uri": "https://localhost:8080/"
        },
        "id": "hEM8MTVG7oTE",
        "outputId": "8843e1a1-767d-42c5-ac09-a27d90011cd7"
      },
      "execution_count": 104,
      "outputs": [
        {
          "output_type": "execute_result",
          "data": {
            "text/plain": [
              "tensor(True)"
            ]
          },
          "metadata": {},
          "execution_count": 104
        }
      ]
    },
    {
      "cell_type": "code",
      "source": [
        ""
      ],
      "metadata": {
        "id": "tpOvmWEm7oOZ"
      },
      "execution_count": null,
      "outputs": []
    },
    {
      "cell_type": "code",
      "source": [],
      "metadata": {
        "id": "9vLpGWX87oKj"
      },
      "execution_count": null,
      "outputs": []
    },
    {
      "cell_type": "code",
      "source": [],
      "metadata": {
        "id": "2rf78aku7oHY"
      },
      "execution_count": null,
      "outputs": []
    },
    {
      "cell_type": "code",
      "source": [],
      "metadata": {
        "id": "mjtsC4R37oEd"
      },
      "execution_count": null,
      "outputs": []
    },
    {
      "cell_type": "code",
      "source": [],
      "metadata": {
        "id": "G6J0QhH97oAU"
      },
      "execution_count": null,
      "outputs": []
    },
    {
      "cell_type": "code",
      "source": [],
      "metadata": {
        "id": "8x3KNfL-7n7C"
      },
      "execution_count": null,
      "outputs": []
    },
    {
      "cell_type": "markdown",
      "source": [
        "## Stepping through **nn.Conv2d**"
      ],
      "metadata": {
        "id": "kdLZA0ydgfBi"
      }
    },
    {
      "cell_type": "code",
      "source": [
        "torch.manual_seed(42)\n",
        "\n",
        "# Create a batch of images\n",
        "images = torch.randn(size = (32, 3, 64, 64))\n",
        "test_image = images[0]\n",
        "\n",
        "print(f\"Image batch shape: {images.shape}\")\n",
        "print(f\"Single image shape: {test_image.shape}\")\n",
        "print(f\"Test image:\\n {test_image}\")"
      ],
      "metadata": {
        "id": "6h1hQILWExf8",
        "colab": {
          "base_uri": "https://localhost:8080/"
        },
        "outputId": "d12a3965-b7c3-46c5-f8fb-cf0869ad92d5"
      },
      "execution_count": 24,
      "outputs": [
        {
          "output_type": "stream",
          "name": "stdout",
          "text": [
            "Image batch shape: torch.Size([32, 3, 64, 64])\n",
            "Single image shape: torch.Size([3, 64, 64])\n",
            "Test image:\n",
            " tensor([[[ 1.9269,  1.4873,  0.9007,  ...,  1.8446, -1.1845,  1.3835],\n",
            "         [ 1.4451,  0.8564,  2.2181,  ...,  0.3399,  0.7200,  0.4114],\n",
            "         [ 1.9312,  1.0119, -1.4364,  ..., -0.5558,  0.7043,  0.7099],\n",
            "         ...,\n",
            "         [-0.5610, -0.4830,  0.4770,  ..., -0.2713, -0.9537, -0.6737],\n",
            "         [ 0.3076, -0.1277,  0.0366,  ..., -2.0060,  0.2824, -0.8111],\n",
            "         [-1.5486,  0.0485, -0.7712,  ..., -0.1403,  0.9416, -0.0118]],\n",
            "\n",
            "        [[-0.5197,  1.8524,  1.8365,  ...,  0.8935, -1.5114, -0.8515],\n",
            "         [ 2.0818,  1.0677, -1.4277,  ...,  1.6612, -2.6223, -0.4319],\n",
            "         [-0.1010, -0.4388, -1.9775,  ...,  0.2106,  0.2536, -0.7318],\n",
            "         ...,\n",
            "         [ 0.2779,  0.7342, -0.3736,  ..., -0.4601,  0.1815,  0.1850],\n",
            "         [ 0.7205, -0.2833,  0.0937,  ..., -0.1002, -2.3609,  2.2465],\n",
            "         [-1.3242, -0.1973,  0.2920,  ...,  0.5409,  0.6940,  1.8563]],\n",
            "\n",
            "        [[-0.7978,  1.0261,  1.1465,  ...,  1.2134,  0.9354, -0.0780],\n",
            "         [-1.4647, -1.9571,  0.1017,  ..., -1.9986, -0.7409,  0.7011],\n",
            "         [-1.3938,  0.8466, -1.7191,  ..., -1.1867,  0.1320,  0.3407],\n",
            "         ...,\n",
            "         [ 0.8206, -0.3745,  1.2499,  ..., -0.0676,  0.0385,  0.6335],\n",
            "         [-0.5589, -0.3393,  0.2347,  ...,  2.1181,  2.4569,  1.3083],\n",
            "         [-0.4092,  1.5199,  0.2401,  ..., -0.2558,  0.7870,  0.9924]]])\n"
          ]
        }
      ]
    },
    {
      "cell_type": "code",
      "source": [
        "test_image.shape"
      ],
      "metadata": {
        "colab": {
          "base_uri": "https://localhost:8080/"
        },
        "id": "lS-IC9A5jLMv",
        "outputId": "e60fe98a-55ac-47db-e92c-42dc3ba85599"
      },
      "execution_count": 25,
      "outputs": [
        {
          "output_type": "execute_result",
          "data": {
            "text/plain": [
              "torch.Size([3, 64, 64])"
            ]
          },
          "metadata": {},
          "execution_count": 25
        }
      ]
    },
    {
      "cell_type": "code",
      "source": [
        " torch.manual_seed(42)\n",
        "# we are going to create single conv2d layer\n",
        "conv_layer = nn.Conv2d(in_channels = 3,\n",
        "                       out_channels = 10,\n",
        "                       kernel_size = (3,3),\n",
        "                       stride = 1,\n",
        "                       padding = 0)\n",
        "\n",
        "# pass the data through conv layers\n",
        "conv_output = conv_layer(test_image.unsqueeze(dim = 0))\n",
        "conv_output.shape"
      ],
      "metadata": {
        "id": "BxqnJLkNExZ0",
        "colab": {
          "base_uri": "https://localhost:8080/"
        },
        "outputId": "3400646d-d8ca-4285-f959-9377761d156f"
      },
      "execution_count": 27,
      "outputs": [
        {
          "output_type": "execute_result",
          "data": {
            "text/plain": [
              "torch.Size([1, 10, 62, 62])"
            ]
          },
          "metadata": {},
          "execution_count": 27
        }
      ]
    },
    {
      "cell_type": "markdown",
      "source": [
        "## **Stepping through `nn.MaxPool2d()`**"
      ],
      "metadata": {
        "id": "k_DYn3Rq1GJP"
      }
    },
    {
      "cell_type": "code",
      "source": [
        "# Print out original image shape without unsqueezed dimension\n",
        "print(f\"test image original shape: {test_image.shape}\")\n",
        "print(f\"test image with unsqueezed dimesion: {test_image.unsqueeze(0).shape}\")\n",
        "\n",
        "# Create a sample nn.MaxPool2d layer to see what's going on\n",
        "max_pool_layer = nn.MaxPool2d(kernel_size = 2)\n",
        "\n",
        "# Pass data through just the conv_layer first\n",
        "test_image_through_conv = conv_layer(test_image.unsqueeze(dim = 0))\n",
        "print(f\"shape after going through conv_layer: {test_image_through_conv.shape}\")\n",
        "\n",
        "# Pass the data through max pool layer\n",
        "test_image_max_pool = max_pool_layer(test_image_through_conv)\n",
        "print(f\"shape after passing through max_pool layer: {test_image_max_pool.shape}\")"
      ],
      "metadata": {
        "id": "ayVMORbpExWm",
        "colab": {
          "base_uri": "https://localhost:8080/"
        },
        "outputId": "7b61ba7a-c3c7-4530-e391-2d63e86b8f0a"
      },
      "execution_count": 29,
      "outputs": [
        {
          "output_type": "stream",
          "name": "stdout",
          "text": [
            "test image original shape: torch.Size([3, 64, 64])\n",
            "test image with unsqueezed dimesion: torch.Size([1, 3, 64, 64])\n",
            "shape after going through conv_layer: torch.Size([1, 10, 62, 62])\n",
            "shape after passing through max_pool layer: torch.Size([1, 10, 31, 31])\n"
          ]
        }
      ]
    },
    {
      "cell_type": "markdown",
      "source": [
        "### **let's see how max pool layer works**"
      ],
      "metadata": {
        "id": "jfqlbnyD6Tsb"
      }
    },
    {
      "cell_type": "code",
      "source": [
        "# let's create another tensor\n",
        "torch.manual_seed(42)\n",
        "random_tensor = torch.randn(size = (1, 1, 2, 2))\n",
        "print(f\"\\nRandom tensor:\\n {random_tensor}\")\n",
        "print(f\"random tensor shape: {random_tensor.shape}\")\n",
        "\n",
        "#create a max pool layer\n",
        "max_pool_layer = nn.MaxPool2d(kernel_size = 2)\n",
        "\n",
        "# Pass the random tensor through max pool layer\n",
        "max_pool_tensor = max_pool_layer(random_tensor)\n",
        "print(f\"Max pool tensor:\\n {max_pool_tensor}\")\n",
        "print(f\"max pool tensor shape: {max_pool_tensor.shape}\")\n"
      ],
      "metadata": {
        "id": "Qya_pI3XExQB",
        "colab": {
          "base_uri": "https://localhost:8080/"
        },
        "outputId": "dbd08fcb-6d0c-448e-9d45-5c2fa6ab1105"
      },
      "execution_count": 32,
      "outputs": [
        {
          "output_type": "stream",
          "name": "stdout",
          "text": [
            "\n",
            "Random tensor:\n",
            " tensor([[[[0.3367, 0.1288],\n",
            "          [0.2345, 0.2303]]]])\n",
            "random tensor shape: torch.Size([1, 1, 2, 2])\n",
            "Max pool tensor:\n",
            " tensor([[[[0.3367]]]])\n",
            "max pool tensor shape: torch.Size([1, 1, 1, 1])\n"
          ]
        }
      ]
    },
    {
      "cell_type": "code",
      "source": [],
      "metadata": {
        "id": "vYYTlY_gExMe"
      },
      "execution_count": 26,
      "outputs": []
    },
    {
      "cell_type": "code",
      "source": [],
      "metadata": {
        "id": "E4sBZ6U3ExJR"
      },
      "execution_count": 26,
      "outputs": []
    },
    {
      "cell_type": "code",
      "source": [],
      "metadata": {
        "id": "xnUh8sc8ExFy"
      },
      "execution_count": 26,
      "outputs": []
    },
    {
      "cell_type": "code",
      "source": [],
      "metadata": {
        "id": "4JGZUpZNExCU"
      },
      "execution_count": 26,
      "outputs": []
    },
    {
      "cell_type": "code",
      "source": [],
      "metadata": {
        "id": "3ypy4vkGEw-0"
      },
      "execution_count": 26,
      "outputs": []
    },
    {
      "cell_type": "code",
      "source": [],
      "metadata": {
        "id": "G7jnbKIxEw3p"
      },
      "execution_count": 26,
      "outputs": []
    }
  ]
}